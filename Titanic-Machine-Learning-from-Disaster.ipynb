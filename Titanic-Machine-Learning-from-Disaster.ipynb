{
 "cells": [
  {
   "cell_type": "code",
   "execution_count": 1,
   "id": "1ba9c16a-7a3d-4fe8-bea9-87a98b7d7722",
   "metadata": {},
   "outputs": [],
   "source": [
    "import numpy as np\n",
    "import pandas as pd\n",
    "import seaborn as sns \n",
    "import matplotlib.pyplot as plt\n",
    "\n",
    "import os"
   ]
  },
  {
   "cell_type": "markdown",
   "id": "4cb1c3a6-9d26-41f3-8e47-b5252880b97a",
   "metadata": {},
   "source": [
    "Here we import the data. For this analysis, we will be exclusively working with the Training set. We will be validating based on data from the training set as well. For our final submissions, we will make predictions based on the test set."
   ]
  },
  {
   "cell_type": "code",
   "execution_count": 2,
   "id": "12dcdc5a-89f4-48cb-96aa-ce8351b8ebbb",
   "metadata": {},
   "outputs": [
    {
     "data": {
      "text/plain": [
       "Index(['PassengerId', 'Survived', 'Pclass', 'Name', 'Sex', 'Age', 'SibSp',\n",
       "       'Parch', 'Ticket', 'Fare', 'Cabin', 'Embarked', 'train_test'],\n",
       "      dtype='object')"
      ]
     },
     "execution_count": 2,
     "metadata": {},
     "output_type": "execute_result"
    }
   ],
   "source": [
    "train = pd.read_csv('./data/train.csv')\n",
    "test = pd.read_csv('./data/test.csv')\n",
    "\n",
    "train['train_test'] = 1\n",
    "test['train_test'] = 0\n",
    "test['Survived'] = np.NaN\n",
    "all_data = pd.concat([train, test])\n",
    "\n",
    "%matplotlib inline\n",
    "all_data.columns"
   ]
  },
  {
   "cell_type": "markdown",
   "id": "985dc62c-df5c-4275-a935-1f5f25a3787b",
   "metadata": {},
   "source": [
    "### Project Planning\n",
    "\n",
    "Let's outline the main steps of the project:\n",
    "- Understanding the nature of the data .info() .describe()\n",
    "- Exploratory analysis - histograms, boxplots and value counts\n",
    "- Deal with missing data\n",
    "- Check metrics correlation\n",
    "- Themes to look into:\n",
    "  - Level of wealth as a predictor\n",
    "  - Location of cabin as a predictor\n",
    "  - Age\n",
    "  - Title\n",
    "- Feature engineering\n",
    "- Data preprocessing and scaling\n",
    "- Baseline models\n",
    "- Trained models\n",
    "- Comparison."
   ]
  },
  {
   "cell_type": "markdown",
   "id": "22bbcd0a-284d-4b6d-8c90-9cc1fd608e60",
   "metadata": {},
   "source": [
    "<div align=\"center\">\n",
    "  <h3>Data Dictionary</h3>\n",
    "</div>\n",
    "\n",
    "| Variable  | Definition                | Key                                       |\n",
    "|-----------|---------------------------|-------------------------------------------|\n",
    "| survival  | Survival                  | 0 = No, 1 = Yes                           |\n",
    "| pclass    | Ticket class              | 1 = 1st, 2 = 2nd, 3 = 3rd                 |\n",
    "| sex       | Sex                       |                                           |\n",
    "| Age       | Age in years              |                                           |\n",
    "| sibsp     | # of siblings/spouses     |                                           |\n",
    "| parch     | # of parents/children     |                                           |\n",
    "| ticket    | Ticket number             |                                           |\n",
    "| fare      | Passenger fare            |                                           |\n",
    "| cabin     | Cabin number              |                                           |\n",
    "| embarked  | Port of Embarkation       | C = Cherbourg, Q = Queenstown, S = Southampton |\n"
   ]
  },
  {
   "cell_type": "markdown",
   "id": "721b2261-e1db-452b-a574-2f9de882a113",
   "metadata": {},
   "source": [
    "### Data Exploration\r\n",
    "\r\n",
    "**1) For numeric data:**\r\n",
    "   - Made histograms to understand distributions\r\n",
    "   - Corrplot\r\n",
    "   - Pivot table comparing survival rate across numeric variables\r\n",
    "\r\n",
    "**2) For Categorical Data:**\r\n",
    "   - Made bar charts to understand balance of classes\r\n",
    "   - Made pivot tables to understand the relationship with survival\r\n",
    "survival\r\n",
    "survival\r\n",
    "urvival"
   ]
  },
  {
   "cell_type": "code",
   "execution_count": 3,
   "id": "3ef92c5d-889d-4a4d-b4b3-11a3bf344cb0",
   "metadata": {},
   "outputs": [
    {
     "name": "stdout",
     "output_type": "stream",
     "text": [
      "<class 'pandas.core.frame.DataFrame'>\n",
      "RangeIndex: 891 entries, 0 to 890\n",
      "Data columns (total 13 columns):\n",
      " #   Column       Non-Null Count  Dtype  \n",
      "---  ------       --------------  -----  \n",
      " 0   PassengerId  891 non-null    int64  \n",
      " 1   Survived     891 non-null    int64  \n",
      " 2   Pclass       891 non-null    int64  \n",
      " 3   Name         891 non-null    object \n",
      " 4   Sex          891 non-null    object \n",
      " 5   Age          714 non-null    float64\n",
      " 6   SibSp        891 non-null    int64  \n",
      " 7   Parch        891 non-null    int64  \n",
      " 8   Ticket       891 non-null    object \n",
      " 9   Fare         891 non-null    float64\n",
      " 10  Cabin        204 non-null    object \n",
      " 11  Embarked     889 non-null    object \n",
      " 12  train_test   891 non-null    int64  \n",
      "dtypes: float64(2), int64(6), object(5)\n",
      "memory usage: 90.6+ KB\n"
     ]
    }
   ],
   "source": [
    "#quick look at our data types & null counts \n",
    "train.info()"
   ]
  },
  {
   "cell_type": "markdown",
   "id": "44975115-744b-4f1b-ad1f-029e39018c23",
   "metadata": {},
   "source": [
    "##### Two colums stand out:\n",
    "- Cabin is mostly null values which will need to be looked into and dealt with;\n",
    "- Age has a significant number of null vlaues as well which will also need to be investigated;"
   ]
  },
  {
   "cell_type": "code",
   "execution_count": 4,
   "id": "a594595c-f20e-4d81-ba74-53d671fa824e",
   "metadata": {},
   "outputs": [
    {
     "data": {
      "text/html": [
       "<div>\n",
       "<style scoped>\n",
       "    .dataframe tbody tr th:only-of-type {\n",
       "        vertical-align: middle;\n",
       "    }\n",
       "\n",
       "    .dataframe tbody tr th {\n",
       "        vertical-align: top;\n",
       "    }\n",
       "\n",
       "    .dataframe thead th {\n",
       "        text-align: right;\n",
       "    }\n",
       "</style>\n",
       "<table border=\"1\" class=\"dataframe\">\n",
       "  <thead>\n",
       "    <tr style=\"text-align: right;\">\n",
       "      <th></th>\n",
       "      <th>PassengerId</th>\n",
       "      <th>Survived</th>\n",
       "      <th>Pclass</th>\n",
       "      <th>Age</th>\n",
       "      <th>SibSp</th>\n",
       "      <th>Parch</th>\n",
       "      <th>Fare</th>\n",
       "      <th>train_test</th>\n",
       "    </tr>\n",
       "  </thead>\n",
       "  <tbody>\n",
       "    <tr>\n",
       "      <th>count</th>\n",
       "      <td>891.000000</td>\n",
       "      <td>891.000000</td>\n",
       "      <td>891.000000</td>\n",
       "      <td>714.000000</td>\n",
       "      <td>891.000000</td>\n",
       "      <td>891.000000</td>\n",
       "      <td>891.000000</td>\n",
       "      <td>891.0</td>\n",
       "    </tr>\n",
       "    <tr>\n",
       "      <th>mean</th>\n",
       "      <td>446.000000</td>\n",
       "      <td>0.383838</td>\n",
       "      <td>2.308642</td>\n",
       "      <td>29.699118</td>\n",
       "      <td>0.523008</td>\n",
       "      <td>0.381594</td>\n",
       "      <td>32.204208</td>\n",
       "      <td>1.0</td>\n",
       "    </tr>\n",
       "    <tr>\n",
       "      <th>std</th>\n",
       "      <td>257.353842</td>\n",
       "      <td>0.486592</td>\n",
       "      <td>0.836071</td>\n",
       "      <td>14.526497</td>\n",
       "      <td>1.102743</td>\n",
       "      <td>0.806057</td>\n",
       "      <td>49.693429</td>\n",
       "      <td>0.0</td>\n",
       "    </tr>\n",
       "    <tr>\n",
       "      <th>min</th>\n",
       "      <td>1.000000</td>\n",
       "      <td>0.000000</td>\n",
       "      <td>1.000000</td>\n",
       "      <td>0.420000</td>\n",
       "      <td>0.000000</td>\n",
       "      <td>0.000000</td>\n",
       "      <td>0.000000</td>\n",
       "      <td>1.0</td>\n",
       "    </tr>\n",
       "    <tr>\n",
       "      <th>25%</th>\n",
       "      <td>223.500000</td>\n",
       "      <td>0.000000</td>\n",
       "      <td>2.000000</td>\n",
       "      <td>20.125000</td>\n",
       "      <td>0.000000</td>\n",
       "      <td>0.000000</td>\n",
       "      <td>7.910400</td>\n",
       "      <td>1.0</td>\n",
       "    </tr>\n",
       "    <tr>\n",
       "      <th>50%</th>\n",
       "      <td>446.000000</td>\n",
       "      <td>0.000000</td>\n",
       "      <td>3.000000</td>\n",
       "      <td>28.000000</td>\n",
       "      <td>0.000000</td>\n",
       "      <td>0.000000</td>\n",
       "      <td>14.454200</td>\n",
       "      <td>1.0</td>\n",
       "    </tr>\n",
       "    <tr>\n",
       "      <th>75%</th>\n",
       "      <td>668.500000</td>\n",
       "      <td>1.000000</td>\n",
       "      <td>3.000000</td>\n",
       "      <td>38.000000</td>\n",
       "      <td>1.000000</td>\n",
       "      <td>0.000000</td>\n",
       "      <td>31.000000</td>\n",
       "      <td>1.0</td>\n",
       "    </tr>\n",
       "    <tr>\n",
       "      <th>max</th>\n",
       "      <td>891.000000</td>\n",
       "      <td>1.000000</td>\n",
       "      <td>3.000000</td>\n",
       "      <td>80.000000</td>\n",
       "      <td>8.000000</td>\n",
       "      <td>6.000000</td>\n",
       "      <td>512.329200</td>\n",
       "      <td>1.0</td>\n",
       "    </tr>\n",
       "  </tbody>\n",
       "</table>\n",
       "</div>"
      ],
      "text/plain": [
       "       PassengerId    Survived      Pclass         Age       SibSp  \\\n",
       "count   891.000000  891.000000  891.000000  714.000000  891.000000   \n",
       "mean    446.000000    0.383838    2.308642   29.699118    0.523008   \n",
       "std     257.353842    0.486592    0.836071   14.526497    1.102743   \n",
       "min       1.000000    0.000000    1.000000    0.420000    0.000000   \n",
       "25%     223.500000    0.000000    2.000000   20.125000    0.000000   \n",
       "50%     446.000000    0.000000    3.000000   28.000000    0.000000   \n",
       "75%     668.500000    1.000000    3.000000   38.000000    1.000000   \n",
       "max     891.000000    1.000000    3.000000   80.000000    8.000000   \n",
       "\n",
       "            Parch        Fare  train_test  \n",
       "count  891.000000  891.000000       891.0  \n",
       "mean     0.381594   32.204208         1.0  \n",
       "std      0.806057   49.693429         0.0  \n",
       "min      0.000000    0.000000         1.0  \n",
       "25%      0.000000    7.910400         1.0  \n",
       "50%      0.000000   14.454200         1.0  \n",
       "75%      0.000000   31.000000         1.0  \n",
       "max      6.000000  512.329200         1.0  "
      ]
     },
     "execution_count": 4,
     "metadata": {},
     "output_type": "execute_result"
    }
   ],
   "source": [
    "# An overview of the central tendencies of the numeric data\n",
    "train.describe()"
   ]
  },
  {
   "cell_type": "code",
   "execution_count": 5,
   "id": "3670ced1-5e4c-406a-a81a-e68b41a3e9f4",
   "metadata": {},
   "outputs": [
    {
     "data": {
      "text/plain": [
       "Index(['PassengerId', 'Survived', 'Pclass', 'Age', 'SibSp', 'Parch', 'Fare',\n",
       "       'train_test'],\n",
       "      dtype='object')"
      ]
     },
     "execution_count": 5,
     "metadata": {},
     "output_type": "execute_result"
    }
   ],
   "source": [
    "# Quick way of separating the numeric columns\n",
    "train.describe().columns"
   ]
  },
  {
   "cell_type": "code",
   "execution_count": 6,
   "id": "1f7021b1-e1f6-4464-b8a7-fc89c277ac39",
   "metadata": {},
   "outputs": [],
   "source": [
    "# Separating the numeric and categorical columns as each will require a separate approach\n",
    "df_numeric = train[['Age','SibSp','Parch','Fare']]\n",
    "df_categorical = train[['Survived','Pclass','Sex','Ticket','Cabin','Embarked']]"
   ]
  },
  {
   "cell_type": "code",
   "execution_count": 7,
   "id": "dcc24ab5-5774-40dd-9eca-2bf06cff32a7",
   "metadata": {},
   "outputs": [
    {
     "data": {
      "image/png": "[encoded data removed]",
      "text/plain": [
       "<Figure size 1200x800 with 4 Axes>"
      ]
     },
     "metadata": {},
     "output_type": "display_data"
    }
   ],
   "source": [
    "# Creating a grid of subplots for the numeric columns\n",
    "fig, axes = plt.subplots(nrows=2, ncols=2, figsize=(12, 8))\n",
    "axes = axes.flatten()  # Flatten 2D array to 1D\n",
    "\n",
    "# Plot each histogram in a subplot\n",
    "for i, col in enumerate(df_numeric.columns):\n",
    "    plt.sca(axes[i])\n",
    "    plt.hist(df_numeric[col])\n",
    "    plt.title(col)\n",
    "\n",
    "# Adjust layout for better spacing\n",
    "plt.tight_layout()\n",
    "\n",
    "# Show the plots\n",
    "plt.show()"
   ]
  },
  {
   "cell_type": "markdown",
   "id": "281898fa-14e5-4e64-872d-998f87b5f074",
   "metadata": {},
   "source": [
    "We have a normal distribution for the age column. The rest are all good candidates for normalization since they are skewed quite heavily."
   ]
  },
  {
   "cell_type": "code",
   "execution_count": 8,
   "id": "f7366d19-8b41-4dd5-8b02-577edccc7cbf",
   "metadata": {},
   "outputs": [
    {
     "name": "stdout",
     "output_type": "stream",
     "text": [
      "            Age     SibSp     Parch      Fare\n",
      "Age    1.000000 -0.308247 -0.189119  0.096067\n",
      "SibSp -0.308247  1.000000  0.414838  0.159651\n",
      "Parch -0.189119  0.414838  1.000000  0.216225\n",
      "Fare   0.096067  0.159651  0.216225  1.000000\n"
     ]
    },
    {
     "data": {
      "text/plain": [
       "<Axes: >"
      ]
     },
     "execution_count": 8,
     "metadata": {},
     "output_type": "execute_result"
    },
    {
     "data": {
      "image/png": "[encoded data removed]",
      "text/plain": [
       "<Figure size 640x480 with 2 Axes>"
      ]
     },
     "metadata": {},
     "output_type": "display_data"
    }
   ],
   "source": [
    "# A look at the correlation of our numeric columns\n",
    "print(df_numeric.corr())\n",
    "sns.heatmap(df_numeric.corr())"
   ]
  },
  {
   "cell_type": "code",
   "execution_count": 9,
   "id": "2db667f6-9880-4407-8941-4cc3da512d14",
   "metadata": {},
   "outputs": [
    {
     "data": {
      "text/html": [
       "<div>\n",
       "<style scoped>\n",
       "    .dataframe tbody tr th:only-of-type {\n",
       "        vertical-align: middle;\n",
       "    }\n",
       "\n",
       "    .dataframe tbody tr th {\n",
       "        vertical-align: top;\n",
       "    }\n",
       "\n",
       "    .dataframe thead th {\n",
       "        text-align: right;\n",
       "    }\n",
       "</style>\n",
       "<table border=\"1\" class=\"dataframe\">\n",
       "  <thead>\n",
       "    <tr style=\"text-align: right;\">\n",
       "      <th></th>\n",
       "      <th>Age</th>\n",
       "      <th>Fare</th>\n",
       "      <th>Parch</th>\n",
       "      <th>SibSp</th>\n",
       "    </tr>\n",
       "    <tr>\n",
       "      <th>Survived</th>\n",
       "      <th></th>\n",
       "      <th></th>\n",
       "      <th></th>\n",
       "      <th></th>\n",
       "    </tr>\n",
       "  </thead>\n",
       "  <tbody>\n",
       "    <tr>\n",
       "      <th>0</th>\n",
       "      <td>30.626179</td>\n",
       "      <td>22.117887</td>\n",
       "      <td>0.329690</td>\n",
       "      <td>0.553734</td>\n",
       "    </tr>\n",
       "    <tr>\n",
       "      <th>1</th>\n",
       "      <td>28.343690</td>\n",
       "      <td>48.395408</td>\n",
       "      <td>0.464912</td>\n",
       "      <td>0.473684</td>\n",
       "    </tr>\n",
       "  </tbody>\n",
       "</table>\n",
       "</div>"
      ],
      "text/plain": [
       "                Age       Fare     Parch     SibSp\n",
       "Survived                                          \n",
       "0         30.626179  22.117887  0.329690  0.553734\n",
       "1         28.343690  48.395408  0.464912  0.473684"
      ]
     },
     "execution_count": 9,
     "metadata": {},
     "output_type": "execute_result"
    }
   ],
   "source": [
    "# A look at survival rate across Age, SibSp, Parch, and Fare \n",
    "pd.pivot_table(\n",
    "    data = train,\n",
    "    values = ['Age', 'SibSp', 'Parch', 'Fare'],\n",
    "    index = 'Survived'\n",
    ")"
   ]
  },
  {
   "cell_type": "code",
   "execution_count": 10,
   "id": "145e78c3-8833-4e4c-913e-4ba2afed68d4",
   "metadata": {},
   "outputs": [
    {
     "data": {
      "image/png": "[encoded data removed]",
      "text/plain": [
       "<Figure size 1200x1000 with 6 Axes>"
      ]
     },
     "metadata": {},
     "output_type": "display_data"
    }
   ],
   "source": [
    "# Same grid of subplots as the one above but containing barplots with our categorical features\n",
    "fig, axes = plt.subplots(nrows=3, ncols=2, figsize=(12, 10))\n",
    "axes = axes.flatten()\n",
    "\n",
    "# Plot each barplot in a subplot\n",
    "for i, col in enumerate(df_categorical.columns):\n",
    "    sns.barplot(x=df_categorical[col].value_counts().index, y=df_categorical[col].value_counts(), ax=axes[i])\n",
    "    axes[i].set_title(col)\n",
    "\n",
    "# Adjust layout for better spacing\n",
    "plt.tight_layout()\n",
    "\n",
    "# Show the plots\n",
    "plt.show()"
   ]
  },
  {
   "cell_type": "markdown",
   "id": "8b61e448-c1e5-42c6-bb6f-0ef53126b0ad",
   "metadata": {},
   "source": [
    "Cabin and ticket graphs are very messy. Some feature engineering may be in order."
   ]
  },
  {
   "cell_type": "code",
   "execution_count": 11,
   "id": "0d0bdebf-9f01-456a-aa47-f5b10d62a935",
   "metadata": {},
   "outputs": [
    {
     "data": {
      "text/html": [
       "<div>\n",
       "<style scoped>\n",
       "    .dataframe tbody tr th:only-of-type {\n",
       "        vertical-align: middle;\n",
       "    }\n",
       "\n",
       "    .dataframe tbody tr th {\n",
       "        vertical-align: top;\n",
       "    }\n",
       "\n",
       "    .dataframe thead th {\n",
       "        text-align: right;\n",
       "    }\n",
       "</style>\n",
       "<table border=\"1\" class=\"dataframe\">\n",
       "  <thead>\n",
       "    <tr style=\"text-align: right;\">\n",
       "      <th>Pclass</th>\n",
       "      <th>1</th>\n",
       "      <th>2</th>\n",
       "      <th>3</th>\n",
       "    </tr>\n",
       "    <tr>\n",
       "      <th>Survived</th>\n",
       "      <th></th>\n",
       "      <th></th>\n",
       "      <th></th>\n",
       "    </tr>\n",
       "  </thead>\n",
       "  <tbody>\n",
       "    <tr>\n",
       "      <th>0</th>\n",
       "      <td>80</td>\n",
       "      <td>97</td>\n",
       "      <td>372</td>\n",
       "    </tr>\n",
       "    <tr>\n",
       "      <th>1</th>\n",
       "      <td>136</td>\n",
       "      <td>87</td>\n",
       "      <td>119</td>\n",
       "    </tr>\n",
       "  </tbody>\n",
       "</table>\n",
       "</div>"
      ],
      "text/plain": [
       "Pclass      1   2    3\n",
       "Survived              \n",
       "0          80  97  372\n",
       "1         136  87  119"
      ]
     },
     "execution_count": 11,
     "metadata": {},
     "output_type": "execute_result"
    }
   ],
   "source": [
    "# Survival by Pcalss\n",
    "pd.pivot_table(\n",
    "    train, \n",
    "    index='Survived', \n",
    "    columns='Pclass', \n",
    "    values='Ticket', \n",
    "    aggfunc='count'\n",
    ")"
   ]
  },
  {
   "cell_type": "code",
   "execution_count": 12,
   "id": "97366705-88db-4f5a-9e3f-69225aa7c377",
   "metadata": {},
   "outputs": [
    {
     "data": {
      "text/html": [
       "<div>\n",
       "<style scoped>\n",
       "    .dataframe tbody tr th:only-of-type {\n",
       "        vertical-align: middle;\n",
       "    }\n",
       "\n",
       "    .dataframe tbody tr th {\n",
       "        vertical-align: top;\n",
       "    }\n",
       "\n",
       "    .dataframe thead th {\n",
       "        text-align: right;\n",
       "    }\n",
       "</style>\n",
       "<table border=\"1\" class=\"dataframe\">\n",
       "  <thead>\n",
       "    <tr style=\"text-align: right;\">\n",
       "      <th>Sex</th>\n",
       "      <th>female</th>\n",
       "      <th>male</th>\n",
       "    </tr>\n",
       "    <tr>\n",
       "      <th>Survived</th>\n",
       "      <th></th>\n",
       "      <th></th>\n",
       "    </tr>\n",
       "  </thead>\n",
       "  <tbody>\n",
       "    <tr>\n",
       "      <th>0</th>\n",
       "      <td>81</td>\n",
       "      <td>468</td>\n",
       "    </tr>\n",
       "    <tr>\n",
       "      <th>1</th>\n",
       "      <td>233</td>\n",
       "      <td>109</td>\n",
       "    </tr>\n",
       "  </tbody>\n",
       "</table>\n",
       "</div>"
      ],
      "text/plain": [
       "Sex       female  male\n",
       "Survived              \n",
       "0             81   468\n",
       "1            233   109"
      ]
     },
     "execution_count": 12,
     "metadata": {},
     "output_type": "execute_result"
    }
   ],
   "source": [
    "# Survival by Sex\n",
    "pd.pivot_table(\n",
    "    train, \n",
    "    index='Survived', \n",
    "    columns='Sex', \n",
    "    values='Ticket', \n",
    "    aggfunc='count'\n",
    ")"
   ]
  },
  {
   "cell_type": "code",
   "execution_count": 13,
   "id": "6ae0387d-659b-4eb3-9f48-bfc53a2d6830",
   "metadata": {},
   "outputs": [
    {
     "data": {
      "text/html": [
       "<div>\n",
       "<style scoped>\n",
       "    .dataframe tbody tr th:only-of-type {\n",
       "        vertical-align: middle;\n",
       "    }\n",
       "\n",
       "    .dataframe tbody tr th {\n",
       "        vertical-align: top;\n",
       "    }\n",
       "\n",
       "    .dataframe thead th {\n",
       "        text-align: right;\n",
       "    }\n",
       "</style>\n",
       "<table border=\"1\" class=\"dataframe\">\n",
       "  <thead>\n",
       "    <tr style=\"text-align: right;\">\n",
       "      <th>Embarked</th>\n",
       "      <th>C</th>\n",
       "      <th>Q</th>\n",
       "      <th>S</th>\n",
       "    </tr>\n",
       "    <tr>\n",
       "      <th>Survived</th>\n",
       "      <th></th>\n",
       "      <th></th>\n",
       "      <th></th>\n",
       "    </tr>\n",
       "  </thead>\n",
       "  <tbody>\n",
       "    <tr>\n",
       "      <th>0</th>\n",
       "      <td>75</td>\n",
       "      <td>47</td>\n",
       "      <td>427</td>\n",
       "    </tr>\n",
       "    <tr>\n",
       "      <th>1</th>\n",
       "      <td>93</td>\n",
       "      <td>30</td>\n",
       "      <td>217</td>\n",
       "    </tr>\n",
       "  </tbody>\n",
       "</table>\n",
       "</div>"
      ],
      "text/plain": [
       "Embarked   C   Q    S\n",
       "Survived             \n",
       "0         75  47  427\n",
       "1         93  30  217"
      ]
     },
     "execution_count": 13,
     "metadata": {},
     "output_type": "execute_result"
    }
   ],
   "source": [
    "# Survival by embarked\n",
    "pd.pivot_table(\n",
    "    train, \n",
    "    index='Survived', \n",
    "    columns='Embarked', \n",
    "    values='Ticket', \n",
    "    aggfunc ='count'\n",
    ")"
   ]
  },
  {
   "cell_type": "markdown",
   "id": "7ad6bb6e-b8c7-4948-b9d7-54a7dd6dfb06",
   "metadata": {},
   "source": [
    "### Feature Engineering\n",
    "1) Cabin - Simplify cabins (evaluated if cabin letter (cabin_adv) or the purchase of tickets across multiple cabins (cabin_multiple) impacted survival)\n",
    "2) Tickets - Do different ticket types impact survival rates?\n",
    "3) Name - Does a person's title relate to survival rates? I am curious if the captain went down with the ship."
   ]
  },
  {
   "cell_type": "markdown",
   "id": "3e8c46cb-93f5-4373-8440-52d24fd157bc",
   "metadata": {},
   "source": [
    "#### Cabin\n",
    "After looking at this, we may want to look at cabin by letter or by number. Let's create some categories for this:\n",
    " - Single letters\n",
    " - Multiple letters"
   ]
  },
  {
   "cell_type": "code",
   "execution_count": 14,
   "id": "81278ef5-1cae-40d1-9fe1-d6c44275e347",
   "metadata": {},
   "outputs": [
    {
     "data": {
      "text/plain": [
       "0    687\n",
       "1    180\n",
       "2     16\n",
       "3      6\n",
       "4      2\n",
       "Name: cabin_multiple, dtype: int64"
      ]
     },
     "execution_count": 14,
     "metadata": {},
     "output_type": "execute_result"
    }
   ],
   "source": [
    "train['cabin_multiple'] = train.Cabin.apply(lambda x: 0 if pd.isna(x) else len(x.split(' ')))\n",
    "train['cabin_multiple'].value_counts()"
   ]
  },
  {
   "cell_type": "code",
   "execution_count": 15,
   "id": "72fa518b-806c-4842-976f-0da57fdf16f8",
   "metadata": {},
   "outputs": [
    {
     "data": {
      "text/html": [
       "<div>\n",
       "<style scoped>\n",
       "    .dataframe tbody tr th:only-of-type {\n",
       "        vertical-align: middle;\n",
       "    }\n",
       "\n",
       "    .dataframe tbody tr th {\n",
       "        vertical-align: top;\n",
       "    }\n",
       "\n",
       "    .dataframe thead th {\n",
       "        text-align: right;\n",
       "    }\n",
       "</style>\n",
       "<table border=\"1\" class=\"dataframe\">\n",
       "  <thead>\n",
       "    <tr style=\"text-align: right;\">\n",
       "      <th>cabin_multiple</th>\n",
       "      <th>0</th>\n",
       "      <th>1</th>\n",
       "      <th>2</th>\n",
       "      <th>3</th>\n",
       "      <th>4</th>\n",
       "    </tr>\n",
       "    <tr>\n",
       "      <th>Survived</th>\n",
       "      <th></th>\n",
       "      <th></th>\n",
       "      <th></th>\n",
       "      <th></th>\n",
       "      <th></th>\n",
       "    </tr>\n",
       "  </thead>\n",
       "  <tbody>\n",
       "    <tr>\n",
       "      <th>0</th>\n",
       "      <td>481.0</td>\n",
       "      <td>58.0</td>\n",
       "      <td>7.0</td>\n",
       "      <td>3.0</td>\n",
       "      <td>NaN</td>\n",
       "    </tr>\n",
       "    <tr>\n",
       "      <th>1</th>\n",
       "      <td>206.0</td>\n",
       "      <td>122.0</td>\n",
       "      <td>9.0</td>\n",
       "      <td>3.0</td>\n",
       "      <td>2.0</td>\n",
       "    </tr>\n",
       "  </tbody>\n",
       "</table>\n",
       "</div>"
      ],
      "text/plain": [
       "cabin_multiple      0      1    2    3    4\n",
       "Survived                                   \n",
       "0               481.0   58.0  7.0  3.0  NaN\n",
       "1               206.0  122.0  9.0  3.0  2.0"
      ]
     },
     "execution_count": 15,
     "metadata": {},
     "output_type": "execute_result"
    }
   ],
   "source": [
    "pd.pivot_table(\n",
    "    train, \n",
    "    index='Survived', \n",
    "    columns='cabin_multiple', \n",
    "    values='Ticket', \n",
    "    aggfunc='count'\n",
    ")"
   ]
  },
  {
   "cell_type": "code",
   "execution_count": 16,
   "id": "c1f25cd9-ddde-4808-9524-6ebd52958586",
   "metadata": {},
   "outputs": [
    {
     "name": "stdout",
     "output_type": "stream",
     "text": [
      "n    687\n",
      "C     59\n",
      "B     47\n",
      "D     33\n",
      "E     32\n",
      "A     15\n",
      "F     13\n",
      "G      4\n",
      "T      1\n",
      "Name: cabin_adv, dtype: int64\n"
     ]
    }
   ],
   "source": [
    "# Creates categories based on the cabin letter (n stands for null). In this case we will treat null values like a separate category.\n",
    "train['cabin_adv'] = train.Cabin.apply(lambda x: str(x)[0])\n",
    "print(train.cabin_adv.value_counts())"
   ]
  },
  {
   "cell_type": "code",
   "execution_count": 17,
   "id": "94fcf970-c9d1-4ad5-998e-39eb091dda27",
   "metadata": {},
   "outputs": [
    {
     "data": {
      "text/html": [
       "<div>\n",
       "<style scoped>\n",
       "    .dataframe tbody tr th:only-of-type {\n",
       "        vertical-align: middle;\n",
       "    }\n",
       "\n",
       "    .dataframe tbody tr th {\n",
       "        vertical-align: top;\n",
       "    }\n",
       "\n",
       "    .dataframe thead th {\n",
       "        text-align: right;\n",
       "    }\n",
       "</style>\n",
       "<table border=\"1\" class=\"dataframe\">\n",
       "  <thead>\n",
       "    <tr style=\"text-align: right;\">\n",
       "      <th>cabin_adv</th>\n",
       "      <th>A</th>\n",
       "      <th>B</th>\n",
       "      <th>C</th>\n",
       "      <th>D</th>\n",
       "      <th>E</th>\n",
       "      <th>F</th>\n",
       "      <th>G</th>\n",
       "      <th>T</th>\n",
       "      <th>n</th>\n",
       "    </tr>\n",
       "    <tr>\n",
       "      <th>Survived</th>\n",
       "      <th></th>\n",
       "      <th></th>\n",
       "      <th></th>\n",
       "      <th></th>\n",
       "      <th></th>\n",
       "      <th></th>\n",
       "      <th></th>\n",
       "      <th></th>\n",
       "      <th></th>\n",
       "    </tr>\n",
       "  </thead>\n",
       "  <tbody>\n",
       "    <tr>\n",
       "      <th>0</th>\n",
       "      <td>8.0</td>\n",
       "      <td>12.0</td>\n",
       "      <td>24.0</td>\n",
       "      <td>8.0</td>\n",
       "      <td>8.0</td>\n",
       "      <td>5.0</td>\n",
       "      <td>2.0</td>\n",
       "      <td>1.0</td>\n",
       "      <td>481.0</td>\n",
       "    </tr>\n",
       "    <tr>\n",
       "      <th>1</th>\n",
       "      <td>7.0</td>\n",
       "      <td>35.0</td>\n",
       "      <td>35.0</td>\n",
       "      <td>25.0</td>\n",
       "      <td>24.0</td>\n",
       "      <td>8.0</td>\n",
       "      <td>2.0</td>\n",
       "      <td>NaN</td>\n",
       "      <td>206.0</td>\n",
       "    </tr>\n",
       "  </tbody>\n",
       "</table>\n",
       "</div>"
      ],
      "text/plain": [
       "cabin_adv    A     B     C     D     E    F    G    T      n\n",
       "Survived                                                    \n",
       "0          8.0  12.0  24.0   8.0   8.0  5.0  2.0  1.0  481.0\n",
       "1          7.0  35.0  35.0  25.0  24.0  8.0  2.0  NaN  206.0"
      ]
     },
     "execution_count": 17,
     "metadata": {},
     "output_type": "execute_result"
    }
   ],
   "source": [
    "# Comparing surivial rate by cabin\n",
    "pd.pivot_table(\n",
    "    train, \n",
    "    index='Survived', \n",
    "    columns='cabin_adv', \n",
    "    values='Name', \n",
    "    aggfunc='count'\n",
    ")"
   ]
  },
  {
   "cell_type": "code",
   "execution_count": 18,
   "id": "a1983d89-0eea-4c30-b702-5148bc90d354",
   "metadata": {},
   "outputs": [
    {
     "data": {
      "text/plain": [
       "1    661\n",
       "0    230\n",
       "Name: numeric_ticket, dtype: int64"
      ]
     },
     "execution_count": 18,
     "metadata": {},
     "output_type": "execute_result"
    }
   ],
   "source": [
    "# Taking a better look a the ticket values. Numeric vs non numeric:\n",
    "train['numeric_ticket'] = train.Ticket.apply(lambda x: 1 if x.isnumeric() else 0)\n",
    "train['ticket_letters'] = train.Ticket.apply(lambda x: ''.join(x.split(' ')[:-1]).replace('.', '').replace('/', '').lower() if len(x.split(' ')[:-1]) > 0 else 0)\n",
    "train['numeric_ticket'].value_counts()"
   ]
  },
  {
   "cell_type": "code",
   "execution_count": 19,
   "id": "f39891c3-cec5-4051-b915-d002ffeb6ca7",
   "metadata": {},
   "outputs": [
    {
     "data": {
      "text/plain": [
       "0            665\n",
       "pc            60\n",
       "ca            41\n",
       "a5            21\n",
       "stono2        18\n",
       "sotonoq       15\n",
       "scparis       11\n",
       "wc            10\n",
       "a4             7\n",
       "soc            6\n",
       "fcc            5\n",
       "c              5\n",
       "sopp           3\n",
       "pp             3\n",
       "wep            3\n",
       "ppp            2\n",
       "scah           2\n",
       "sotono2        2\n",
       "swpp           2\n",
       "fc             1\n",
       "scahbasle      1\n",
       "as             1\n",
       "sp             1\n",
       "sc             1\n",
       "scow           1\n",
       "fa             1\n",
       "sop            1\n",
       "sca4           1\n",
       "casoton        1\n",
       "Name: ticket_letters, dtype: int64"
      ]
     },
     "execution_count": 19,
     "metadata": {},
     "output_type": "execute_result"
    }
   ],
   "source": [
    "# Lets us view all rows in dataframe through scrolling\n",
    "train['ticket_letters'].value_counts()"
   ]
  },
  {
   "cell_type": "code",
   "execution_count": 20,
   "id": "faf12a3c-78f2-4bcc-846a-7d7b788d0bac",
   "metadata": {},
   "outputs": [
    {
     "data": {
      "text/html": [
       "<div>\n",
       "<style scoped>\n",
       "    .dataframe tbody tr th:only-of-type {\n",
       "        vertical-align: middle;\n",
       "    }\n",
       "\n",
       "    .dataframe tbody tr th {\n",
       "        vertical-align: top;\n",
       "    }\n",
       "\n",
       "    .dataframe thead th {\n",
       "        text-align: right;\n",
       "    }\n",
       "</style>\n",
       "<table border=\"1\" class=\"dataframe\">\n",
       "  <thead>\n",
       "    <tr style=\"text-align: right;\">\n",
       "      <th>numeric_ticket</th>\n",
       "      <th>0</th>\n",
       "      <th>1</th>\n",
       "    </tr>\n",
       "    <tr>\n",
       "      <th>Survived</th>\n",
       "      <th></th>\n",
       "      <th></th>\n",
       "    </tr>\n",
       "  </thead>\n",
       "  <tbody>\n",
       "    <tr>\n",
       "      <th>0</th>\n",
       "      <td>142</td>\n",
       "      <td>407</td>\n",
       "    </tr>\n",
       "    <tr>\n",
       "      <th>1</th>\n",
       "      <td>88</td>\n",
       "      <td>254</td>\n",
       "    </tr>\n",
       "  </tbody>\n",
       "</table>\n",
       "</div>"
      ],
      "text/plain": [
       "numeric_ticket    0    1\n",
       "Survived                \n",
       "0               142  407\n",
       "1                88  254"
      ]
     },
     "execution_count": 20,
     "metadata": {},
     "output_type": "execute_result"
    }
   ],
   "source": [
    "# Difference in numeric vs non-numeric tickets in survival rate \n",
    "pd.pivot_table(\n",
    "    train, \n",
    "    index='Survived',\n",
    "    columns='numeric_ticket',\n",
    "    values='Ticket',\n",
    "    aggfunc='count'\n",
    ")"
   ]
  },
  {
   "cell_type": "code",
   "execution_count": 21,
   "id": "64acb188-ca6c-4b7e-9ba7-e172d1f7f119",
   "metadata": {},
   "outputs": [
    {
     "data": {
      "text/html": [
       "<div>\n",
       "<style scoped>\n",
       "    .dataframe tbody tr th:only-of-type {\n",
       "        vertical-align: middle;\n",
       "    }\n",
       "\n",
       "    .dataframe tbody tr th {\n",
       "        vertical-align: top;\n",
       "    }\n",
       "\n",
       "    .dataframe thead th {\n",
       "        text-align: right;\n",
       "    }\n",
       "</style>\n",
       "<table border=\"1\" class=\"dataframe\">\n",
       "  <thead>\n",
       "    <tr style=\"text-align: right;\">\n",
       "      <th>ticket_letters</th>\n",
       "      <th>0</th>\n",
       "      <th>a4</th>\n",
       "      <th>a5</th>\n",
       "      <th>as</th>\n",
       "      <th>c</th>\n",
       "      <th>ca</th>\n",
       "      <th>casoton</th>\n",
       "      <th>fa</th>\n",
       "      <th>fc</th>\n",
       "      <th>fcc</th>\n",
       "      <th>...</th>\n",
       "      <th>soc</th>\n",
       "      <th>sop</th>\n",
       "      <th>sopp</th>\n",
       "      <th>sotono2</th>\n",
       "      <th>sotonoq</th>\n",
       "      <th>sp</th>\n",
       "      <th>stono2</th>\n",
       "      <th>swpp</th>\n",
       "      <th>wc</th>\n",
       "      <th>wep</th>\n",
       "    </tr>\n",
       "    <tr>\n",
       "      <th>Survived</th>\n",
       "      <th></th>\n",
       "      <th></th>\n",
       "      <th></th>\n",
       "      <th></th>\n",
       "      <th></th>\n",
       "      <th></th>\n",
       "      <th></th>\n",
       "      <th></th>\n",
       "      <th></th>\n",
       "      <th></th>\n",
       "      <th></th>\n",
       "      <th></th>\n",
       "      <th></th>\n",
       "      <th></th>\n",
       "      <th></th>\n",
       "      <th></th>\n",
       "      <th></th>\n",
       "      <th></th>\n",
       "      <th></th>\n",
       "      <th></th>\n",
       "      <th></th>\n",
       "    </tr>\n",
       "  </thead>\n",
       "  <tbody>\n",
       "    <tr>\n",
       "      <th>0</th>\n",
       "      <td>410.0</td>\n",
       "      <td>7.0</td>\n",
       "      <td>19.0</td>\n",
       "      <td>1.0</td>\n",
       "      <td>3.0</td>\n",
       "      <td>27.0</td>\n",
       "      <td>1.0</td>\n",
       "      <td>1.0</td>\n",
       "      <td>1.0</td>\n",
       "      <td>1.0</td>\n",
       "      <td>...</td>\n",
       "      <td>5.0</td>\n",
       "      <td>1.0</td>\n",
       "      <td>3.0</td>\n",
       "      <td>2.0</td>\n",
       "      <td>13.0</td>\n",
       "      <td>1.0</td>\n",
       "      <td>10.0</td>\n",
       "      <td>NaN</td>\n",
       "      <td>9.0</td>\n",
       "      <td>2.0</td>\n",
       "    </tr>\n",
       "    <tr>\n",
       "      <th>1</th>\n",
       "      <td>255.0</td>\n",
       "      <td>NaN</td>\n",
       "      <td>2.0</td>\n",
       "      <td>NaN</td>\n",
       "      <td>2.0</td>\n",
       "      <td>14.0</td>\n",
       "      <td>NaN</td>\n",
       "      <td>NaN</td>\n",
       "      <td>NaN</td>\n",
       "      <td>4.0</td>\n",
       "      <td>...</td>\n",
       "      <td>1.0</td>\n",
       "      <td>NaN</td>\n",
       "      <td>NaN</td>\n",
       "      <td>NaN</td>\n",
       "      <td>2.0</td>\n",
       "      <td>NaN</td>\n",
       "      <td>8.0</td>\n",
       "      <td>2.0</td>\n",
       "      <td>1.0</td>\n",
       "      <td>1.0</td>\n",
       "    </tr>\n",
       "  </tbody>\n",
       "</table>\n",
       "<p>2 rows × 29 columns</p>\n",
       "</div>"
      ],
      "text/plain": [
       "ticket_letters      0   a4    a5   as    c    ca  casoton   fa   fc  fcc  ...  \\\n",
       "Survived                                                                  ...   \n",
       "0               410.0  7.0  19.0  1.0  3.0  27.0      1.0  1.0  1.0  1.0  ...   \n",
       "1               255.0  NaN   2.0  NaN  2.0  14.0      NaN  NaN  NaN  4.0  ...   \n",
       "\n",
       "ticket_letters  soc  sop  sopp  sotono2  sotonoq   sp  stono2  swpp   wc  wep  \n",
       "Survived                                                                       \n",
       "0               5.0  1.0   3.0      2.0     13.0  1.0    10.0   NaN  9.0  2.0  \n",
       "1               1.0  NaN   NaN      NaN      2.0  NaN     8.0   2.0  1.0  1.0  \n",
       "\n",
       "[2 rows x 29 columns]"
      ]
     },
     "execution_count": 21,
     "metadata": {},
     "output_type": "execute_result"
    }
   ],
   "source": [
    "# Survival rate across different ticket types \n",
    "pd.pivot_table(\n",
    "    train,\n",
    "    index='Survived',\n",
    "    columns='ticket_letters',\n",
    "    values='Ticket',\n",
    "    aggfunc='count'\n",
    ")"
   ]
  },
  {
   "cell_type": "code",
   "execution_count": 22,
   "id": "c7732920-52e2-400a-9a93-3e4aeff8781a",
   "metadata": {},
   "outputs": [
    {
     "data": {
      "text/plain": [
       "0                               Braund, Mr. Owen Harris\n",
       "1     Cumings, Mrs. John Bradley (Florence Briggs Th...\n",
       "2                                Heikkinen, Miss. Laina\n",
       "3          Futrelle, Mrs. Jacques Heath (Lily May Peel)\n",
       "4                              Allen, Mr. William Henry\n",
       "5                                      Moran, Mr. James\n",
       "6                               McCarthy, Mr. Timothy J\n",
       "7                        Palsson, Master. Gosta Leonard\n",
       "8     Johnson, Mrs. Oscar W (Elisabeth Vilhelmina Berg)\n",
       "9                   Nasser, Mrs. Nicholas (Adele Achem)\n",
       "10                      Sandstrom, Miss. Marguerite Rut\n",
       "11                             Bonnell, Miss. Elizabeth\n",
       "12                       Saundercock, Mr. William Henry\n",
       "13                          Andersson, Mr. Anders Johan\n",
       "14                 Vestrom, Miss. Hulda Amanda Adolfina\n",
       "15                     Hewlett, Mrs. (Mary D Kingcome) \n",
       "16                                 Rice, Master. Eugene\n",
       "17                         Williams, Mr. Charles Eugene\n",
       "18    Vander Planke, Mrs. Julius (Emelia Maria Vande...\n",
       "19                              Masselmani, Mrs. Fatima\n",
       "20                                 Fynney, Mr. Joseph J\n",
       "21                                Beesley, Mr. Lawrence\n",
       "22                          McGowan, Miss. Anna \"Annie\"\n",
       "23                         Sloper, Mr. William Thompson\n",
       "24                        Palsson, Miss. Torborg Danira\n",
       "25    Asplund, Mrs. Carl Oscar (Selma Augusta Emilia...\n",
       "26                              Emir, Mr. Farred Chehab\n",
       "27                       Fortune, Mr. Charles Alexander\n",
       "28                        O'Dwyer, Miss. Ellen \"Nellie\"\n",
       "29                                  Todoroff, Mr. Lalio\n",
       "30                             Uruchurtu, Don. Manuel E\n",
       "31       Spencer, Mrs. William Augustus (Marie Eugenie)\n",
       "32                             Glynn, Miss. Mary Agatha\n",
       "33                                Wheadon, Mr. Edward H\n",
       "34                              Meyer, Mr. Edgar Joseph\n",
       "35                       Holverson, Mr. Alexander Oskar\n",
       "36                                     Mamee, Mr. Hanna\n",
       "37                             Cann, Mr. Ernest Charles\n",
       "38                   Vander Planke, Miss. Augusta Maria\n",
       "39                          Nicola-Yarred, Miss. Jamila\n",
       "40       Ahlin, Mrs. Johan (Johanna Persdotter Larsson)\n",
       "41    Turpin, Mrs. William John Robert (Dorothy Ann ...\n",
       "42                                  Kraeff, Mr. Theodor\n",
       "43             Laroche, Miss. Simonne Marie Anne Andree\n",
       "44                        Devaney, Miss. Margaret Delia\n",
       "45                             Rogers, Mr. William John\n",
       "46                                    Lennon, Mr. Denis\n",
       "47                            O'Driscoll, Miss. Bridget\n",
       "48                                  Samaan, Mr. Youssef\n",
       "49        Arnold-Franchi, Mrs. Josef (Josefine Franchi)\n",
       "Name: Name, dtype: object"
      ]
     },
     "execution_count": 22,
     "metadata": {},
     "output_type": "execute_result"
    }
   ],
   "source": [
    "train.Name.head(50)"
   ]
  },
  {
   "cell_type": "code",
   "execution_count": 23,
   "id": "ed71c71f-7c7f-4fdd-9e43-a62136c0ee01",
   "metadata": {},
   "outputs": [
    {
     "data": {
      "text/plain": [
       "Mr              517\n",
       "Miss            182\n",
       "Mrs             125\n",
       "Master           40\n",
       "Dr                7\n",
       "Rev               6\n",
       "Mlle              2\n",
       "Major             2\n",
       "Col               2\n",
       "the Countess      1\n",
       "Capt              1\n",
       "Ms                1\n",
       "Sir               1\n",
       "Lady              1\n",
       "Mme               1\n",
       "Don               1\n",
       "Jonkheer          1\n",
       "Name: name_title, dtype: int64"
      ]
     },
     "execution_count": 23,
     "metadata": {},
     "output_type": "execute_result"
    }
   ],
   "source": [
    "# Let's pull out the title as a separate feature with values of - Mr., Ms., Master. etc\n",
    "train['name_title'] = train.Name.apply(lambda x: x.split(',')[1].split('.')[0].strip())\n",
    "train['name_title'].value_counts()"
   ]
  },
  {
   "cell_type": "markdown",
   "id": "0d91ee3c-c2a1-4601-889a-b10a4cb28fa2",
   "metadata": {},
   "source": [
    "### Data Preprocessing for Model Training\n",
    "\n",
    "1) Drop null values from Embarked (only 2)\n",
    "2) Include only relevant variables (Since we have limited data, I wanted to exclude things like name and passanger ID so that we could have a reasonable number of features for our models to deal with). Variables which will be retained:\n",
    "    - Pclass\n",
    "    - Sex\n",
    "    - Age\n",
    "    - SibSp\n",
    "    - Parch\n",
    "    - Fare\n",
    "    - Embarked\n",
    "    - cabin_adv\n",
    "    - cabin_multiple\n",
    "    - numeric_ticket\n",
    "    - name_title\n",
    "3) Apply categorical transformation on all of the available data. Usually we would use a transformer, but with this approach we can ensure that our traning and test data have the same colums. We also may be able to infer something about the shape of the test data using this method.\n",
    "4) Impute data with mean for fare and age (Also experimented with median)\n",
    "5) Normalized fare using logarithm to give more semblance of a normal distribution\n",
    "6) Scaled data 0-1 with standard scaler"
   ]
  },
  {
   "cell_type": "code",
   "execution_count": 24,
   "id": "766a88f8-3687-4f33-b3ba-fa08c391d5e3",
   "metadata": {},
   "outputs": [
    {
     "data": {
      "image/png": "[encoded data removed]",
      "text/plain": [
       "<Figure size 640x480 with 1 Axes>"
      ]
     },
     "metadata": {},
     "output_type": "display_data"
    }
   ],
   "source": [
    "# Setting up all categorical variables that will be used for both the training and the test sets \n",
    "all_data['cabin_multiple'] = all_data.Cabin.apply(lambda x: 0 if pd.isna(x) else len(x.split(' ')))\n",
    "all_data['cabin_adv'] = all_data.Cabin.apply(lambda x: str(x)[0])\n",
    "all_data['numeric_ticket'] = all_data.Ticket.apply(lambda x: 1 if x.isnumeric() else 0)\n",
    "all_data['ticket_letters'] = all_data.Ticket.apply(lambda x: ''.join(x.split(' ')[:-1]).replace('.','').replace('/','').lower() if len(x.split(' ')[:-1]) > 0 else 0)\n",
    "all_data['name_title'] = all_data.Name.apply(lambda x: x.split(',')[1].split('.')[0].strip())\n",
    "\n",
    "# Impute nulls for continuous data \n",
    "#all_data.Age = all_data.Age.fillna(training.Age.mean())\n",
    "all_data.Age = all_data.Age.fillna(train.Age.median())\n",
    "#all_data.Fare = all_data.Fare.fillna(training.Fare.mean())\n",
    "all_data.Fare = all_data.Fare.fillna(train.Fare.median())\n",
    "\n",
    "# Drop null 'Embarked' rows as they are of no relevance (2 instances in the tarining set and none in the testing set)\n",
    "all_data.dropna(subset=['Embarked'], inplace=True)\n",
    "\n",
    "# Attempted log norm of sibsp (not used)\n",
    "#all_data['norm_sibsp'] = np.log(all_data.SibSp+1)\n",
    "#all_data['norm_sibsp'].hist()\n",
    "\n",
    "# log norm of fare (used)\n",
    "all_data['norm_fare'] = np.log(all_data.Fare+1)\n",
    "all_data['norm_fare'].hist()\n",
    "\n",
    "# Converting fare to a categorical feature for pd.get_dummies()\n",
    "all_data.Pclass = all_data.Pclass.astype(str)\n",
    "\n",
    "# Createing dummy variables from categories (also can use OneHotEncoder)\n",
    "all_dummies = pd.get_dummies(all_data[['Pclass', 'Sex', 'Age', 'SibSp', 'Parch', 'norm_fare', 'Embarked', \n",
    "                                       'cabin_adv', 'cabin_multiple', 'numeric_ticket', 'name_title', 'train_test']])"
   ]
  },
  {
   "cell_type": "markdown",
   "id": "41dd50b1-35df-4bea-bf2e-d2b3c99c4567",
   "metadata": {},
   "source": [
    "### Train/Test split"
   ]
  },
  {
   "cell_type": "code",
   "execution_count": 25,
   "id": "39dee43b-d2be-48bd-a7cf-b48c0288d26c",
   "metadata": {},
   "outputs": [
    {
     "name": "stdout",
     "output_type": "stream",
     "text": [
      "y_train shape -> (889,)\n"
     ]
    }
   ],
   "source": [
    "# I want to make sure that the data remains as a pandas dataframe when splitting. Features get split based on the train_test flag from earlier:\n",
    "X_train = pd.DataFrame(all_dummies[all_dummies.train_test == 1].drop(['train_test'], axis=1))\n",
    "X_test = pd.DataFrame(all_dummies[all_dummies.train_test == 0].drop(['train_test'], axis=1))\n",
    "\n",
    "# Same logic for training labels\n",
    "y_train = pd.DataFrame(all_data[all_data.train_test==1].Survived)\n",
    "y_train = y_train.squeeze()\n",
    "print('y_train shape ->', y_train.shape)"
   ]
  },
  {
   "cell_type": "code",
   "execution_count": 26,
   "id": "76e70414-48f5-4909-8a9f-2973531119f6",
   "metadata": {},
   "outputs": [],
   "source": [
    "# Now to Scale the data\n",
    "from sklearn.preprocessing import StandardScaler\n",
    "scale = StandardScaler()\n",
    "all_dummies_scaled = all_dummies.copy()\n",
    "all_dummies_scaled[['Age', 'SibSp', 'Parch', 'norm_fare']] = scale.fit_transform(all_dummies_scaled[['Age', 'SibSp', 'Parch', 'norm_fare']])\n",
    "all_dummies_scaled\n",
    "\n",
    "X_train_scaled = all_dummies_scaled[all_dummies_scaled.train_test == 1].drop(['train_test'], axis = 1)\n",
    "X_test_scaled = all_dummies_scaled[all_dummies_scaled.train_test == 0].drop(['train_test'], axis = 1)\n",
    "\n",
    "y_train = all_data[all_data.train_test==1].Survived"
   ]
  },
  {
   "cell_type": "markdown",
   "id": "09dd454b-f6f1-4312-8baa-37c6b0fc6586",
   "metadata": {},
   "source": [
    "### Model Building (Baseline Validation Performance)\n",
    "\n",
    "Before going further, I like to see how various different models perform with default parameters. I tried the following models using 5 fold cross validation to get a baseline. With a validation set basline, we can see how much tuning improves each of the models. Just because a model has a high basline on this validation set doesn't mean that it will actually do better on the eventual test set.\n",
    "\n",
    "- Naive Bayes (<b>72.2%</b>)\n",
    "- Logistic Regression (<b>82.2%</b>)\n",
    "- Decision Tree (<b>77.7%</b>)\n",
    "- K Nearest Neighbor (<b>80.9%</b>)\n",
    "- Random Forest (<b>80.2%</b>)\n",
    "- Support Vector Classifier (<b>83.3%</b>)\n",
    "- Xtreme Gradient Boosting (<b>81.1%</b>)\n",
    "- Soft Voting Classifier - All Models (<b>82.7%</b>)"
   ]
  },
  {
   "cell_type": "code",
   "execution_count": 27,
   "id": "be08bf3d-6034-49a8-8574-cf4d05bff0d8",
   "metadata": {},
   "outputs": [],
   "source": [
    "from sklearn.model_selection import cross_val_score\n",
    "from sklearn.linear_model import LogisticRegression\n",
    "from sklearn.tree import DecisionTreeClassifier\n",
    "from sklearn.ensemble import RandomForestClassifier\n",
    "from sklearn.naive_bayes import GaussianNB\n",
    "from sklearn.neighbors import KNeighborsClassifier\n",
    "from sklearn.svm import SVC\n",
    "from xgboost import XGBClassifier"
   ]
  },
  {
   "cell_type": "code",
   "execution_count": 72,
   "id": "da2cbbc9-4dbe-4a70-9fa4-cd3ebeee3895",
   "metadata": {},
   "outputs": [],
   "source": [
    "from sklearn.metrics import r2_score, mean_absolute_error, mean_squared_error\n",
    "\n",
    "def evaluate_model(true, predicted):\n",
    "    mae = mean_absolute_error(true, predicted)\n",
    "    mse = mean_squared_error(true, predicted)\n",
    "    rmse = np.sqrt(mean_squared_error(true, predicted))\n",
    "    r2_square = r2_score(true, predicted)\n",
    "    return mae, rmse, r2_square"
   ]
  },
  {
   "cell_type": "code",
   "execution_count": 85,
   "id": "53fbde32-c27e-4335-9160-74dc7d37af10",
   "metadata": {},
   "outputs": [],
   "source": [
    "def model_evaluation(models: dict, X_train, y_train):\n",
    "    trained_models = {}\n",
    "    for model_name, model in models.items():\n",
    "        if model_name in ['KNeighbors Classifier']:\n",
    "            cv = cross_val_score(model, X_train.values, y_train, cv=5, scoring='accuracy')  # converting X_train to np.array with .values to avoid warning\n",
    "        else:\n",
    "            cv = cross_val_score(model, X_train, y_train, cv=5)\n",
    "    \n",
    "        cv_rounded = [f\"{round(score * 100, 1)}%\" for score in cv]\n",
    "        cv_mean = f\"{round(cv.mean() * 100, 1)}%\"\n",
    "        \n",
    "        print(f\"{model_name}:\\n- CV scores: {' | '.join([item for item in cv_rounded])}\\n- CV mean: {cv_mean}\\n\")\n",
    "\n",
    "\n",
    "        model.fit(X_train, y_train)\n",
    "        predictions = model.predict(X_train).astype(int)\n",
    "        mae, rmse, r2_square = evaluate_model(y_train, predictions)\n",
    "\n",
    "        print(f\"- mae: {mae}\")\n",
    "        print(f\"- rmse: {rmse}\")\n",
    "        print(f\"- r2_square: {r2_square}\")\n",
    "        print()"
   ]
  },
  {
   "cell_type": "code",
   "execution_count": 86,
   "id": "552e75f1-f8b7-4ac5-81aa-ee4ad39e01a2",
   "metadata": {},
   "outputs": [],
   "source": [
    "models = {\n",
    "    'Logistic Regression': LogisticRegression(max_iter=2000),\n",
    "    'Decision Tree Classifier': DecisionTreeClassifier(random_state=1),\n",
    "    'Random Forest Classifier': RandomForestClassifier(random_state=1),\n",
    "    'GaussianNB': GaussianNB(),\n",
    "    'KNeighbors Classifier': KNeighborsClassifier(),\n",
    "    'SVC': SVC(probability=True),\n",
    "    'XGB Classifier': XGBClassifier(random_state=1)\n",
    "}"
   ]
  },
  {
   "cell_type": "code",
   "execution_count": 87,
   "id": "e5c35295-4ff0-485a-b6fe-b70f8a30d2c1",
   "metadata": {},
   "outputs": [
    {
     "name": "stdout",
     "output_type": "stream",
     "text": [
      "Logistic Regression:\n",
      "- CV scores: 82.6% | 80.9% | 80.3% | 82.0% | 85.3%\n",
      "- CV mean: 82.2%\n",
      "\n",
      "- mae: 0.16197975253093364\n",
      "- rmse: 0.4024670825433226\n",
      "- r2_square: 0.314175506268081\n",
      "\n",
      "Decision Tree Classifier:\n",
      "- CV scores: 75.8% | 74.7% | 82.6% | 74.7% | 80.8%\n",
      "- CV mean: 77.7%\n",
      "\n",
      "- mae: 0.012373453318335208\n",
      "- rmse: 0.11123602527209972\n",
      "- r2_square: 0.947610628951034\n",
      "\n",
      "Random Forest Classifier:\n",
      "- CV scores: 80.9% | 79.2% | 84.8% | 73.6% | 82.5%\n",
      "- CV mean: 80.2%\n",
      "\n",
      "- mae: 0.012373453318335208\n",
      "- rmse: 0.11123602527209972\n",
      "- r2_square: 0.947610628951034\n",
      "\n",
      "GaussianNB:\n",
      "- CV scores: 66.9% | 70.2% | 77.0% | 75.8% | 72.9%\n",
      "- CV mean: 72.6%\n",
      "\n",
      "- mae: 0.24859392575928008\n",
      "- rmse: 0.49859194313514543\n",
      "- r2_square: -0.05255009107468123\n",
      "\n",
      "KNeighbors Classifier:\n",
      "- CV scores: 77.0% | 79.8% | 80.9% | 82.0% | 85.3%\n",
      "- CV mean: 81.0%\n",
      "\n"
     ]
    },
    {
     "ename": "AttributeError",
     "evalue": "'Flags' object has no attribute 'c_contiguous'",
     "output_type": "error",
     "traceback": [
      "\u001b[1;31m---------------------------------------------------------------------------\u001b[0m",
      "\u001b[1;31mAttributeError\u001b[0m                            Traceback (most recent call last)",
      "Cell \u001b[1;32mIn[87], line 1\u001b[0m\n\u001b[1;32m----> 1\u001b[0m \u001b[43mmodel_evaluation\u001b[49m\u001b[43m(\u001b[49m\u001b[43mmodels\u001b[49m\u001b[43m,\u001b[49m\u001b[43m \u001b[49m\u001b[43mX_train\u001b[49m\u001b[43m,\u001b[49m\u001b[43m \u001b[49m\u001b[43my_train\u001b[49m\u001b[43m)\u001b[49m\n",
      "Cell \u001b[1;32mIn[85], line 16\u001b[0m, in \u001b[0;36mmodel_evaluation\u001b[1;34m(models, X_train, y_train)\u001b[0m\n\u001b[0;32m     12\u001b[0m \u001b[38;5;28mprint\u001b[39m(\u001b[38;5;124mf\u001b[39m\u001b[38;5;124m\"\u001b[39m\u001b[38;5;132;01m{\u001b[39;00mmodel_name\u001b[38;5;132;01m}\u001b[39;00m\u001b[38;5;124m:\u001b[39m\u001b[38;5;130;01m\\n\u001b[39;00m\u001b[38;5;124m- CV scores: \u001b[39m\u001b[38;5;132;01m{\u001b[39;00m\u001b[38;5;124m'\u001b[39m\u001b[38;5;124m | \u001b[39m\u001b[38;5;124m'\u001b[39m\u001b[38;5;241m.\u001b[39mjoin([item\u001b[38;5;250m \u001b[39m\u001b[38;5;28;01mfor\u001b[39;00m\u001b[38;5;250m \u001b[39mitem\u001b[38;5;250m \u001b[39m\u001b[38;5;129;01min\u001b[39;00m\u001b[38;5;250m \u001b[39mcv_rounded])\u001b[38;5;132;01m}\u001b[39;00m\u001b[38;5;130;01m\\n\u001b[39;00m\u001b[38;5;124m- CV mean: \u001b[39m\u001b[38;5;132;01m{\u001b[39;00mcv_mean\u001b[38;5;132;01m}\u001b[39;00m\u001b[38;5;130;01m\\n\u001b[39;00m\u001b[38;5;124m\"\u001b[39m)\n\u001b[0;32m     15\u001b[0m model\u001b[38;5;241m.\u001b[39mfit(X_train, y_train)\n\u001b[1;32m---> 16\u001b[0m predictions \u001b[38;5;241m=\u001b[39m \u001b[43mmodel\u001b[49m\u001b[38;5;241;43m.\u001b[39;49m\u001b[43mpredict\u001b[49m\u001b[43m(\u001b[49m\u001b[43mX_train\u001b[49m\u001b[43m)\u001b[49m\u001b[38;5;241m.\u001b[39mastype(\u001b[38;5;28mint\u001b[39m)\n\u001b[0;32m     17\u001b[0m mae, rmse, r2_square \u001b[38;5;241m=\u001b[39m evaluate_model(y_train, predictions)\n\u001b[0;32m     19\u001b[0m \u001b[38;5;28mprint\u001b[39m(\u001b[38;5;124mf\u001b[39m\u001b[38;5;124m\"\u001b[39m\u001b[38;5;124m- mae: \u001b[39m\u001b[38;5;132;01m{\u001b[39;00mmae\u001b[38;5;132;01m}\u001b[39;00m\u001b[38;5;124m\"\u001b[39m)\n",
      "File \u001b[1;32m~\\anaconda3\\lib\\site-packages\\sklearn\\neighbors\\_classification.py:246\u001b[0m, in \u001b[0;36mKNeighborsClassifier.predict\u001b[1;34m(self, X)\u001b[0m\n\u001b[0;32m    244\u001b[0m check_is_fitted(\u001b[38;5;28mself\u001b[39m, \u001b[38;5;124m\"\u001b[39m\u001b[38;5;124m_fit_method\u001b[39m\u001b[38;5;124m\"\u001b[39m)\n\u001b[0;32m    245\u001b[0m \u001b[38;5;28;01mif\u001b[39;00m \u001b[38;5;28mself\u001b[39m\u001b[38;5;241m.\u001b[39mweights \u001b[38;5;241m==\u001b[39m \u001b[38;5;124m\"\u001b[39m\u001b[38;5;124muniform\u001b[39m\u001b[38;5;124m\"\u001b[39m:\n\u001b[1;32m--> 246\u001b[0m     \u001b[38;5;28;01mif\u001b[39;00m \u001b[38;5;28mself\u001b[39m\u001b[38;5;241m.\u001b[39m_fit_method \u001b[38;5;241m==\u001b[39m \u001b[38;5;124m\"\u001b[39m\u001b[38;5;124mbrute\u001b[39m\u001b[38;5;124m\"\u001b[39m \u001b[38;5;129;01mand\u001b[39;00m \u001b[43mArgKminClassMode\u001b[49m\u001b[38;5;241;43m.\u001b[39;49m\u001b[43mis_usable_for\u001b[49m\u001b[43m(\u001b[49m\n\u001b[0;32m    247\u001b[0m \u001b[43m        \u001b[49m\u001b[43mX\u001b[49m\u001b[43m,\u001b[49m\u001b[43m \u001b[49m\u001b[38;5;28;43mself\u001b[39;49m\u001b[38;5;241;43m.\u001b[39;49m\u001b[43m_fit_X\u001b[49m\u001b[43m,\u001b[49m\u001b[43m \u001b[49m\u001b[38;5;28;43mself\u001b[39;49m\u001b[38;5;241;43m.\u001b[39;49m\u001b[43mmetric\u001b[49m\n\u001b[0;32m    248\u001b[0m \u001b[43m    \u001b[49m\u001b[43m)\u001b[49m:\n\u001b[0;32m    249\u001b[0m         probabilities \u001b[38;5;241m=\u001b[39m \u001b[38;5;28mself\u001b[39m\u001b[38;5;241m.\u001b[39mpredict_proba(X)\n\u001b[0;32m    250\u001b[0m         \u001b[38;5;28;01mif\u001b[39;00m \u001b[38;5;28mself\u001b[39m\u001b[38;5;241m.\u001b[39moutputs_2d_:\n",
      "File \u001b[1;32m~\\anaconda3\\lib\\site-packages\\sklearn\\metrics\\_pairwise_distances_reduction\\_dispatcher.py:471\u001b[0m, in \u001b[0;36mArgKminClassMode.is_usable_for\u001b[1;34m(cls, X, Y, metric)\u001b[0m\n\u001b[0;32m    448\u001b[0m \u001b[38;5;129m@classmethod\u001b[39m\n\u001b[0;32m    449\u001b[0m \u001b[38;5;28;01mdef\u001b[39;00m \u001b[38;5;21mis_usable_for\u001b[39m(\u001b[38;5;28mcls\u001b[39m, X, Y, metric) \u001b[38;5;241m-\u001b[39m\u001b[38;5;241m>\u001b[39m \u001b[38;5;28mbool\u001b[39m:\n\u001b[0;32m    450\u001b[0m \u001b[38;5;250m    \u001b[39m\u001b[38;5;124;03m\"\"\"Return True if the dispatcher can be used for the given parameters.\u001b[39;00m\n\u001b[0;32m    451\u001b[0m \n\u001b[0;32m    452\u001b[0m \u001b[38;5;124;03m    Parameters\u001b[39;00m\n\u001b[1;32m   (...)\u001b[0m\n\u001b[0;32m    468\u001b[0m \u001b[38;5;124;03m    True if the PairwiseDistancesReduction can be used, else False.\u001b[39;00m\n\u001b[0;32m    469\u001b[0m \u001b[38;5;124;03m    \"\"\"\u001b[39;00m\n\u001b[0;32m    470\u001b[0m     \u001b[38;5;28;01mreturn\u001b[39;00m (\n\u001b[1;32m--> 471\u001b[0m         \u001b[43mArgKmin\u001b[49m\u001b[38;5;241;43m.\u001b[39;49m\u001b[43mis_usable_for\u001b[49m\u001b[43m(\u001b[49m\u001b[43mX\u001b[49m\u001b[43m,\u001b[49m\u001b[43m \u001b[49m\u001b[43mY\u001b[49m\u001b[43m,\u001b[49m\u001b[43m \u001b[49m\u001b[43mmetric\u001b[49m\u001b[43m)\u001b[49m\n\u001b[0;32m    472\u001b[0m         \u001b[38;5;66;03m# TODO: Support CSR matrices.\u001b[39;00m\n\u001b[0;32m    473\u001b[0m         \u001b[38;5;129;01mand\u001b[39;00m \u001b[38;5;129;01mnot\u001b[39;00m issparse(X)\n\u001b[0;32m    474\u001b[0m         \u001b[38;5;129;01mand\u001b[39;00m \u001b[38;5;129;01mnot\u001b[39;00m issparse(Y)\n\u001b[0;32m    475\u001b[0m         \u001b[38;5;66;03m# TODO: implement Euclidean specialization with GEMM.\u001b[39;00m\n\u001b[0;32m    476\u001b[0m         \u001b[38;5;129;01mand\u001b[39;00m metric \u001b[38;5;129;01mnot\u001b[39;00m \u001b[38;5;129;01min\u001b[39;00m (\u001b[38;5;124m\"\u001b[39m\u001b[38;5;124meuclidean\u001b[39m\u001b[38;5;124m\"\u001b[39m, \u001b[38;5;124m\"\u001b[39m\u001b[38;5;124msqeuclidean\u001b[39m\u001b[38;5;124m\"\u001b[39m)\n\u001b[0;32m    477\u001b[0m     )\n",
      "File \u001b[1;32m~\\anaconda3\\lib\\site-packages\\sklearn\\metrics\\_pairwise_distances_reduction\\_dispatcher.py:115\u001b[0m, in \u001b[0;36mBaseDistancesReductionDispatcher.is_usable_for\u001b[1;34m(cls, X, Y, metric)\u001b[0m\n\u001b[0;32m    101\u001b[0m \u001b[38;5;28;01mdef\u001b[39;00m \u001b[38;5;21mis_valid_sparse_matrix\u001b[39m(X):\n\u001b[0;32m    102\u001b[0m     \u001b[38;5;28;01mreturn\u001b[39;00m (\n\u001b[0;32m    103\u001b[0m         isspmatrix_csr(X)\n\u001b[0;32m    104\u001b[0m         \u001b[38;5;129;01mand\u001b[39;00m\n\u001b[1;32m   (...)\u001b[0m\n\u001b[0;32m    110\u001b[0m         X\u001b[38;5;241m.\u001b[39mindices\u001b[38;5;241m.\u001b[39mdtype \u001b[38;5;241m==\u001b[39m X\u001b[38;5;241m.\u001b[39mindptr\u001b[38;5;241m.\u001b[39mdtype \u001b[38;5;241m==\u001b[39m np\u001b[38;5;241m.\u001b[39mint32\n\u001b[0;32m    111\u001b[0m     )\n\u001b[0;32m    113\u001b[0m is_usable \u001b[38;5;241m=\u001b[39m (\n\u001b[0;32m    114\u001b[0m     get_config()\u001b[38;5;241m.\u001b[39mget(\u001b[38;5;124m\"\u001b[39m\u001b[38;5;124menable_cython_pairwise_dist\u001b[39m\u001b[38;5;124m\"\u001b[39m, \u001b[38;5;28;01mTrue\u001b[39;00m)\n\u001b[1;32m--> 115\u001b[0m     \u001b[38;5;129;01mand\u001b[39;00m (\u001b[43mis_numpy_c_ordered\u001b[49m\u001b[43m(\u001b[49m\u001b[43mX\u001b[49m\u001b[43m)\u001b[49m \u001b[38;5;129;01mor\u001b[39;00m is_valid_sparse_matrix(X))\n\u001b[0;32m    116\u001b[0m     \u001b[38;5;129;01mand\u001b[39;00m (is_numpy_c_ordered(Y) \u001b[38;5;129;01mor\u001b[39;00m is_valid_sparse_matrix(Y))\n\u001b[0;32m    117\u001b[0m     \u001b[38;5;129;01mand\u001b[39;00m X\u001b[38;5;241m.\u001b[39mdtype \u001b[38;5;241m==\u001b[39m Y\u001b[38;5;241m.\u001b[39mdtype\n\u001b[0;32m    118\u001b[0m     \u001b[38;5;129;01mand\u001b[39;00m X\u001b[38;5;241m.\u001b[39mdtype \u001b[38;5;129;01min\u001b[39;00m (np\u001b[38;5;241m.\u001b[39mfloat32, np\u001b[38;5;241m.\u001b[39mfloat64)\n\u001b[0;32m    119\u001b[0m     \u001b[38;5;129;01mand\u001b[39;00m metric \u001b[38;5;129;01min\u001b[39;00m \u001b[38;5;28mcls\u001b[39m\u001b[38;5;241m.\u001b[39mvalid_metrics()\n\u001b[0;32m    120\u001b[0m )\n\u001b[0;32m    122\u001b[0m \u001b[38;5;28;01mreturn\u001b[39;00m is_usable\n",
      "File \u001b[1;32m~\\anaconda3\\lib\\site-packages\\sklearn\\metrics\\_pairwise_distances_reduction\\_dispatcher.py:99\u001b[0m, in \u001b[0;36mBaseDistancesReductionDispatcher.is_usable_for.<locals>.is_numpy_c_ordered\u001b[1;34m(X)\u001b[0m\n\u001b[0;32m     98\u001b[0m \u001b[38;5;28;01mdef\u001b[39;00m \u001b[38;5;21mis_numpy_c_ordered\u001b[39m(X):\n\u001b[1;32m---> 99\u001b[0m     \u001b[38;5;28;01mreturn\u001b[39;00m \u001b[38;5;28mhasattr\u001b[39m(X, \u001b[38;5;124m\"\u001b[39m\u001b[38;5;124mflags\u001b[39m\u001b[38;5;124m\"\u001b[39m) \u001b[38;5;129;01mand\u001b[39;00m \u001b[43mX\u001b[49m\u001b[38;5;241;43m.\u001b[39;49m\u001b[43mflags\u001b[49m\u001b[38;5;241;43m.\u001b[39;49m\u001b[43mc_contiguous\u001b[49m\n",
      "\u001b[1;31mAttributeError\u001b[0m: 'Flags' object has no attribute 'c_contiguous'"
     ]
    }
   ],
   "source": [
    "model_evaluation(models, X_train, y_train)"
   ]
  },
  {
   "cell_type": "code",
   "execution_count": 31,
   "id": "644469f8-7955-4081-ad3c-089472f9038d",
   "metadata": {},
   "outputs": [
    {
     "name": "stdout",
     "output_type": "stream",
     "text": [
      "Logistic Regression:\n",
      "- CV scores: 82.6% | 80.9% | 80.3% | 82.0% | 85.3%\n",
      "- CV mean: 82.2%\n",
      "\n",
      "Decision Tree Classifier:\n",
      "- CV scores: 75.8% | 74.7% | 82.6% | 74.7% | 80.8%\n",
      "- CV mean: 77.7%\n",
      "\n",
      "Random Forest Classifier:\n",
      "- CV scores: 80.3% | 79.2% | 84.8% | 73.6% | 82.5%\n",
      "- CV mean: 80.1%\n",
      "\n",
      "GaussianNB:\n",
      "- CV scores: 66.9% | 70.2% | 75.8% | 74.7% | 73.4%\n",
      "- CV mean: 72.2%\n",
      "\n",
      "KNeighbors Classifier:\n",
      "- CV scores: 79.8% | 79.2% | 83.1% | 79.8% | 85.3%\n",
      "- CV mean: 81.4%\n",
      "\n",
      "SVC:\n",
      "- CV scores: 85.4% | 82.0% | 82.6% | 80.3% | 86.4%\n",
      "- CV mean: 83.4%\n",
      "\n",
      "XGB Classifier:\n",
      "- CV scores: 80.3% | 80.9% | 85.4% | 78.7% | 80.2%\n",
      "- CV mean: 81.1%\n",
      "\n"
     ]
    }
   ],
   "source": [
    "model_evaluation(models, X_train_scaled, y_train)"
   ]
  },
  {
   "cell_type": "markdown",
   "id": "a29dec7d-f9b4-40e7-bbcf-20da155c4fab",
   "metadata": {},
   "source": [
    "### Voting classifier \n",
    "\n",
    "The VotingClassifier in scikit-learn combines the predictions from multiple individual classifiers to make a final prediction. There are two main types of voting strategies:\n",
    "\n",
    "- Hard Voting Classifier - In the hard voting scheme, each classifier in the ensemble casts a single \"vote\" for a particular class (\"yes\" or \"no\"). The final prediction is determined by a majority vote. To ensure a decisive outcome, it's recommended to use an odd number of classifiers.\n",
    "\n",
    "- Soft Voting Classifier - The soft voting scheme considers the confidence or probability assigned by each classifier for each class. Instead of a simple majority vote, it takes the average of the predicted probabilities. If the average confidence for a particular class surpasses 50%, that class is chosen as the final prediction.\n",
    "\n",
    "The choice between hard and soft voting often depends on the characteristics of the individual classifiers in the ensemble. Hard voting is suitable when classifiers are diverse and have varying strengths, while soft voting is effective when classifiers provide probability estimates, allowing for a more nuanced decision-making process."
   ]
  },
  {
   "cell_type": "code",
   "execution_count": 32,
   "id": "39822e0f-fca4-43cc-bb1f-d2a3a18609cb",
   "metadata": {},
   "outputs": [
    {
     "name": "stdout",
     "output_type": "stream",
     "text": [
      "Voting Classifier:\n",
      "- CV scores: 81.5% | 82.0% | 83.1% | 79.8% | 87.6%\n",
      "- CV mean: 82.8%\n",
      "\n"
     ]
    }
   ],
   "source": [
    "from sklearn.ensemble import VotingClassifier\n",
    "model_tuples = [(model_name, model) for model_name, model in models.items()]\n",
    "voting_clf = VotingClassifier(estimators=model_tuples, voting='soft')\n",
    "model_evaluation({'Voting Classifier': voting_clf}, X_train_scaled.values, y_train)"
   ]
  },
  {
   "cell_type": "code",
   "execution_count": 33,
   "id": "28f7a488-35f9-4f3a-b004-602b119a3c92",
   "metadata": {},
   "outputs": [],
   "source": [
    "# Let's produce a file with preditions to use as a baseline\n",
    "voting_clf.fit(X_train_scaled.values, y_train)\n",
    "voting_clf_preds = voting_clf.predict(X_test_scaled.values).astype(int)"
   ]
  },
  {
   "cell_type": "markdown",
   "id": "8362a4ce-3fce-43c5-b9ed-8fee0ff48e36",
   "metadata": {},
   "source": [
    "Let's set up a function to use for generating submission files"
   ]
  },
  {
   "cell_type": "code",
   "execution_count": 34,
   "id": "5475ca0e-d70f-4ab9-b260-52fb058e6ee5",
   "metadata": {},
   "outputs": [],
   "source": [
    "def generate_submissions_csv(predictions, file_name):\n",
    "    '''\n",
    "    A function that export predictions to a CSV file in a format compatible with the Kaggle requirements\n",
    "    '''\n",
    "    # Create submissions dictionary in the format defined by Kaggle\n",
    "    submissions_dict = {'PassengerId': test.PassengerId, 'Survived': predictions}\n",
    "    submissions_df = pd.DataFrame(data=submissions_dict)\n",
    "\n",
    "    # Setup export folder\n",
    "    base_path = 'submissions'\n",
    "    os.makedirs(base_path, exist_ok=True)\n",
    "\n",
    "    # Generate CSV\n",
    "    file_path = os.path.join(base_path, file_name)\n",
    "    submissions_df.to_csv(file_path, index=False)\n",
    "\n",
    "    print(f'File \"{file_name}\" saved to <.\\\\{base_path}>')"
   ]
  },
  {
   "cell_type": "code",
   "execution_count": 35,
   "id": "a7d5a06a-7fd7-4357-a1f7-465e2e680d3c",
   "metadata": {},
   "outputs": [
    {
     "name": "stdout",
     "output_type": "stream",
     "text": [
      "File \"01_voting_clf_submission.csv\" saved to <.\\submissions>\n"
     ]
    }
   ],
   "source": [
    "# Generating a submissions file for the voting classifier\n",
    "generate_submissions_csv(voting_clf_preds, '01_voting_clf_submission.csv')"
   ]
  },
  {
   "cell_type": "markdown",
   "id": "e724a5e8-801c-44e4-90cf-ff38db7511f9",
   "metadata": {},
   "source": [
    "### Tuned Model Performance\n",
    "\n",
    "After getting the baselines, let's see if we can improve on the indivdual model results!I mainly used grid search to tune the models. I also used Randomized Search for the Random Forest and XG boosted model to simplify testing time.\n",
    "\n",
    "| Model                        | Baseline | Tuned Performance |\n",
    "|------------------------------|----------|-------------------|\n",
    "| Naive Bayes                  | 72.6%    | NA                |\n",
    "| Logistic Regression          | 82.1%    | 82.6%             |\n",
    "| Decision Tree                | 77.6%    | NA                |\n",
    "| K Nearest Neighbor           | 80.5%    | 83.0%             |\n",
    "| Random Forest                | 80.6%    | 83.6%             |\n",
    "| Support Vector Classifier    | 83.2%    | 83.2%             |\n",
    "| Xtreme Gradient Boosting     | 81.8%    | 85.3%             |\n"
   ]
  },
  {
   "cell_type": "code",
   "execution_count": 36,
   "id": "0a47d79a-1e4e-4894-b60a-8a8594c23d0e",
   "metadata": {},
   "outputs": [],
   "source": [
    "from sklearn.model_selection import GridSearchCV \n",
    "from sklearn.model_selection import RandomizedSearchCV "
   ]
  },
  {
   "cell_type": "code",
   "execution_count": 37,
   "id": "e75bfa8a-ae94-4141-921e-43d60d115dd6",
   "metadata": {},
   "outputs": [],
   "source": [
    "def model_optimisation(models: dict, X_train, y_train, params: dict) -> dict:\n",
    "    '''\n",
    "    This function uses dictionaries of models nad parameters on which it will run a grid \n",
    "    search cross validation to determine which option is the optimal one for each model.\n",
    "    Returns a dictionary of models with their best estimators applied.\n",
    "    '''\n",
    "    tuned_models = {}\n",
    "    \n",
    "    for model_name, model in models.items():\n",
    "        \n",
    "        print(f\"{model_name}:\")\n",
    "        \n",
    "        tuned_model = GridSearchCV(\n",
    "            model,\n",
    "            param_grid=params[model_name],\n",
    "            cv=5,\n",
    "            verbose=True,\n",
    "            n_jobs=-1\n",
    "        )\n",
    "        \n",
    "        tuned_model.fit(X_train_scaled, y_train)\n",
    "        tuned_models[model_name] = tuned_model.best_estimator_\n",
    "\n",
    "        # Report model scores and best parameters\n",
    "        print('- Best Score: ' + str(f\"{round(tuned_model.best_score_ * 100, 1)}%\"))\n",
    "        print('- Best Parameters: ' + str(tuned_model.best_params_))\n",
    "        print()\n",
    "        \n",
    "    return tuned_models"
   ]
  },
  {
   "cell_type": "code",
   "execution_count": 38,
   "id": "d877701d-3b6d-4493-bbc8-4a6137a399ce",
   "metadata": {},
   "outputs": [],
   "source": [
    "# Let's eliminate some of the models that are not performing that well\n",
    "del models['GaussianNB']  # This model is not performing well enough\n",
    "del models['Decision Tree Classifier']  # Forest is performing better\n",
    "# del models['SVC']"
   ]
  },
  {
   "cell_type": "code",
   "execution_count": 39,
   "id": "2b1fd2ac-37fe-4b0c-81f7-88a46773a5e9",
   "metadata": {},
   "outputs": [],
   "source": [
    "# Setting up a dictionary of parameter grids for each model that I'd like to try and tune\n",
    "# Had to reduce the number of parameters for some models to not have overly long searches\n",
    "model_params = {\n",
    "    'Logistic Regression': {\n",
    "        'max_iter' : [2000],\n",
    "        'penalty' : ['l1', 'l2'],\n",
    "        'C' : np.logspace(-4, 4, 20),\n",
    "        'solver' : ['liblinear']\n",
    "        },\n",
    "    # 'Random Forest Classifier': {\n",
    "    #     'n_estimators': [100, 500, 1000], \n",
    "    #     'bootstrap': [True, False],\n",
    "    #     'max_depth': [3, 5, 10, 20, 50, 75, 100, None],\n",
    "    #     'max_features': ['auto', 'sqrt'],\n",
    "    #     'min_samples_leaf': [1, 2, 4, 10],\n",
    "    #     'min_samples_split': [2, 5, 10]\n",
    "    #     },\n",
    "    'Random Forest Classifier': {\n",
    "        'n_estimators': [400, 450, 500, 550],\n",
    "        'criterion':['gini', 'entropy'], \n",
    "        'bootstrap': [True],\n",
    "        'max_depth': [15, 20, 25],\n",
    "        'max_features': ['sqrt', 'log2', 10],\n",
    "        'min_samples_leaf': [2,3],\n",
    "        'min_samples_split': [2,3]\n",
    "        },\n",
    "    'KNeighbors Classifier': {\n",
    "        'n_neighbors' : [3, 5, 7, 9],\n",
    "        'weights' : ['uniform', 'distance'],\n",
    "        'algorithm' : ['ball_tree', 'kd_tree'],\n",
    "        'p' : [1, 2]\n",
    "        },\n",
    "    'SVC': [\n",
    "        {'kernel': ['rbf'], 'gamma': [.1, .5, 1, 2, 5, 10], 'C': [.1, 1, 10, 100, 1000]},\n",
    "        {'kernel': ['linear'], 'C': [.1, 1, 10, 100, 1000]},\n",
    "        {'kernel': ['poly'], 'degree' : [2, 3, 4, 5], 'C': [.1, 1, 10, 100, 1000]}\n",
    "        ],\n",
    "    # 'XGB Classifier': {\n",
    "    #     'n_estimators': [20, 50, 100, 250, 500,1000],\n",
    "    #     'colsample_bytree': [0.2, 0.5, 0.7, 0.8, 1],\n",
    "    #     'max_depth': [2, 5, 10, 15, 20, 25, None],\n",
    "    #     'reg_alpha': [0, 0.5, 1],\n",
    "    #     'reg_lambda': [1, 1.5, 2],\n",
    "    #     'subsample': [0.5,0.6,0.7, 0.8, 0.9],\n",
    "    #     'learning_rate':[.01,0.1,0.2,0.3,0.5, 0.7, 0.9],\n",
    "    #     'gamma':[0,.01,.1,1,10,100],\n",
    "    #     'min_child_weight':[0,.01,0.1,1,10,100],\n",
    "    #     'sampling_method': ['uniform', 'gradient_based']\n",
    "    #     },\n",
    "    'XGB Classifier': {\n",
    "        'n_estimators': [450, 500, 550],\n",
    "        'colsample_bytree': [0.75, 0.8, 0.85],\n",
    "        'max_depth': [None],\n",
    "        'reg_alpha': [1],\n",
    "        'reg_lambda': [2, 5, 10],\n",
    "        'subsample': [0.55, 0.6, .65],\n",
    "        'learning_rate':[0.5],\n",
    "        'gamma':[.5, 1, 2],\n",
    "        'min_child_weight':[0.01],\n",
    "        'sampling_method': ['uniform']\n",
    "        },\n",
    "}"
   ]
  },
  {
   "cell_type": "code",
   "execution_count": 40,
   "id": "1abc99be-bbcd-4e39-af2b-add9ec29367b",
   "metadata": {},
   "outputs": [
    {
     "name": "stdout",
     "output_type": "stream",
     "text": [
      "Logistic Regression:\n",
      "Fitting 5 folds for each of 40 candidates, totalling 200 fits\n",
      "- Best Score: 82.8%\n",
      "- Best Parameters: {'C': 1.623776739188721, 'max_iter': 2000, 'penalty': 'l1', 'solver': 'liblinear'}\n",
      "\n",
      "Random Forest Classifier:\n",
      "Fitting 5 folds for each of 288 candidates, totalling 1440 fits\n",
      "- Best Score: 83.6%\n",
      "- Best Parameters: {'bootstrap': True, 'criterion': 'gini', 'max_depth': 15, 'max_features': 10, 'min_samples_leaf': 3, 'min_samples_split': 2, 'n_estimators': 550}\n",
      "\n",
      "KNeighbors Classifier:\n",
      "Fitting 5 folds for each of 32 candidates, totalling 160 fits\n",
      "- Best Score: 82.9%\n",
      "- Best Parameters: {'algorithm': 'ball_tree', 'n_neighbors': 7, 'p': 2, 'weights': 'uniform'}\n",
      "\n",
      "SVC:\n",
      "Fitting 5 folds for each of 55 candidates, totalling 275 fits\n",
      "- Best Score: 83.4%\n",
      "- Best Parameters: {'C': 1, 'gamma': 0.1, 'kernel': 'rbf'}\n",
      "\n",
      "XGB Classifier:\n",
      "Fitting 5 folds for each of 243 candidates, totalling 1215 fits\n",
      "- Best Score: 84.9%\n",
      "- Best Parameters: {'colsample_bytree': 0.8, 'gamma': 0.5, 'learning_rate': 0.5, 'max_depth': None, 'min_child_weight': 0.01, 'n_estimators': 550, 'reg_alpha': 1, 'reg_lambda': 10, 'sampling_method': 'uniform', 'subsample': 0.65}\n",
      "\n"
     ]
    }
   ],
   "source": [
    "# Let's see if we can get some increase in accuracy\n",
    "tuned_models = model_optimisation(\n",
    "    models,\n",
    "    X_train_scaled,\n",
    "    y_train,\n",
    "    model_params\n",
    ")"
   ]
  },
  {
   "cell_type": "code",
   "execution_count": 41,
   "id": "e4731a05-2cf4-4118-9b23-3bcefc68c88b",
   "metadata": {},
   "outputs": [
    {
     "data": {
      "text/plain": [
       "<Axes: >"
      ]
     },
     "execution_count": 41,
     "metadata": {},
     "output_type": "execute_result"
    },
    {
     "data": {
      "image/png": "[encoded data removed]",
      "text/plain": [
       "<Figure size 640x480 with 1 Axes>"
      ]
     },
     "metadata": {},
     "output_type": "display_data"
    }
   ],
   "source": [
    "# Taking a look at the RandomForest feature importances\n",
    "best_rf = tuned_models['Random Forest Classifier'].fit(X_train_scaled, y_train)\n",
    "feat_importances = pd.Series(best_rf.feature_importances_, index=X_train_scaled.columns)\n",
    "feat_importances.nlargest(20).plot(kind='barh')"
   ]
  },
  {
   "cell_type": "code",
   "execution_count": 42,
   "id": "55cc8a26-f542-4d6f-b988-570ee17a8305",
   "metadata": {},
   "outputs": [
    {
     "name": "stdout",
     "output_type": "stream",
     "text": [
      "File \"02_xgb_tuned_submission.csv\" saved to <.\\submissions>\n"
     ]
    }
   ],
   "source": [
    "# XGB is the best performer so far so let's generate a submissions file using the trained model\n",
    "xgb_predictions = tuned_models['XGB Classifier'].predict(X_test_scaled).astype(int)\n",
    "generate_submissions_csv(xgb_predictions, '02_xgb_tuned_submission.csv')"
   ]
  },
  {
   "cell_type": "markdown",
   "id": "96cc271e-9bb1-4164-9d0a-d4f86466fdbf",
   "metadata": {},
   "source": [
    "### Model Additional Ensemble Approaches\n",
    "1) Experimented with a <b>Hard Voting</b> classifier of three estimators (KNN, SVM, RF) (<b>81.6%</b>)\n",
    "\n",
    "2) Experimented with a <b>Soft Voting</b> classifier of three estimators (KNN, SVM, RF) (<b>82.3%</b>) (Best Performance)\n",
    "\n",
    "3) Experimented with <b>Soft Voting on all estimators</b> performing better than 80% except xgb (KNN, RF, LR, SVC) (<b>82.9%</b>)\n",
    "\n",
    "4) Experimented with <b>Soft Voting on all estimators including XGB</b> (KNN, SVM, RF, LR, XGB) (<b>83.5%</b>)"
   ]
  },
  {
   "cell_type": "markdown",
   "id": "b0d6ac53-3449-4bdd-9309-84808b437cc5",
   "metadata": {},
   "source": [
    "Let's run a voting classifier using the tuned models. I also want to try and eliminate some of the models to see if that improves performance."
   ]
  },
  {
   "cell_type": "code",
   "execution_count": 51,
   "id": "b76f83eb-99a1-42f4-82f4-ac876cb44f97",
   "metadata": {},
   "outputs": [
    {
     "name": "stdout",
     "output_type": "stream",
     "text": [
      "Voting Classifier:\n",
      "- CV scores: 83.7% | 82.6% | 84.3% | 80.9% | 86.4%\n",
      "- CV mean: 83.6%\n",
      "\n"
     ]
    }
   ],
   "source": [
    "tuned_model_tuples = [(model_name, model) for model_name, model in tuned_models.items() if model_name not in ['Logistic Regression', 'KNeighbors Classifier']]\n",
    "voting_clf_all = VotingClassifier(estimators=tuned_model_tuples, voting='soft')\n",
    "model_evaluation({'Voting Classifier': voting_clf_all}, X_train_scaled, y_train)"
   ]
  },
  {
   "cell_type": "code",
   "execution_count": 52,
   "id": "77cfedee-7c60-4a1e-87d2-2ae5ea55ec57",
   "metadata": {},
   "outputs": [
    {
     "name": "stdout",
     "output_type": "stream",
     "text": [
      "Voting Classifier:\n",
      "- CV scores: 83.1% | 83.1% | 84.3% | 80.9% | 87.0%\n",
      "- CV mean: 83.7%\n",
      "\n"
     ]
    }
   ],
   "source": [
    "tuned_model_tuples = [(model_name, model) for model_name, model in tuned_models.items() if model_name not in ['Logistic Regression']]\n",
    "voting_clf_no_lr = VotingClassifier(estimators=tuned_model_tuples, voting='soft')\n",
    "model_evaluation({'Voting Classifier': voting_clf_no_lr}, X_train_scaled, y_train)"
   ]
  },
  {
   "cell_type": "code",
   "execution_count": 53,
   "id": "e733fdda-045d-4eb4-b4bb-83097758865c",
   "metadata": {},
   "outputs": [
    {
     "name": "stdout",
     "output_type": "stream",
     "text": [
      "Voting Classifier:\n",
      "- CV scores: 83.7% | 83.1% | 84.3% | 80.9% | 87.0%\n",
      "- CV mean: 83.8%\n",
      "\n"
     ]
    }
   ],
   "source": [
    "tuned_model_tuples = [(model_name, model) for model_name, model in tuned_models.items()]\n",
    "voting_clf_all = VotingClassifier(estimators=tuned_model_tuples, voting='soft')\n",
    "model_evaluation({'Voting Classifier': voting_clf_all}, X_train_scaled, y_train)"
   ]
  },
  {
   "cell_type": "code",
   "execution_count": 46,
   "id": "9db86e2b-4b71-47db-a607-10dc0f44dbb9",
   "metadata": {},
   "outputs": [],
   "source": [
    "# Let's remove the worst performing models to try and tune a voting classifier with fewer parameters\n",
    "# del tuned_models['Logistic Regression']\n",
    "# del tuned_models['SVC']\n",
    "# del tuned_models['KNeighbors Classifier']"
   ]
  },
  {
   "cell_type": "code",
   "execution_count": 55,
   "id": "9c46259b-38bc-4d80-8f40-1c202bccaccc",
   "metadata": {},
   "outputs": [
    {
     "name": "stdout",
     "output_type": "stream",
     "text": [
      "Voting Classifier:\n",
      "Fitting 5 folds for each of 480 candidates, totalling 2400 fits\n",
      "- Best Score: 85.8%\n",
      "- Best Parameters: {'voting': 'hard', 'weights': [1, 1, 2, 1, 3]}\n",
      "\n"
     ]
    }
   ],
   "source": [
    "# In a soft voting classifier you can apply weights to each of the models. Let's use a grid search to explore different weightings:\n",
    "import itertools\n",
    "combinations = itertools.product([1, 2], repeat=len(tuned_model_tuples))  # Generate all possible combinations of weights\n",
    "combinations = [list(comb) for comb in combinations if len(set(comb)) != 1]  # Filter out the combinations where all elements are the same\n",
    "\n",
    "voting_classifier_params = {'Voting Classifier': {'weights': combinations, 'voting': ['soft', 'hard']}}\n",
    "\n",
    "tuned_voting_clf = model_optimisation(\n",
    "    {'Voting Classifier': voting_clf_all},\n",
    "    X_train_scaled,\n",
    "    y_train,\n",
    "    voting_classifier_params\n",
    ")"
   ]
  },
  {
   "cell_type": "code",
   "execution_count": null,
   "id": "58165d76-d185-4dc8-95a8-9588bf099aaf",
   "metadata": {},
   "outputs": [],
   "source": [
    "# Final submission file from the tuned voting classifier\n",
    "tuned_voting_clf_preds = tuned_voting_clf['Voting Classifier'].predict(X_test_scaled).astype(int)\n",
    "generate_submissions_csv(xgb_predictions, '03_voting_clf_tuned_submission.csv')"
   ]
  }
 ],
 "metadata": {
  "kernelspec": {
   "display_name": "Python 3 (ipykernel)",
   "language": "python",
   "name": "python3"
  },
  "language_info": {
   "codemirror_mode": {
    "name": "ipython",
    "version": 3
   },
   "file_extension": ".py",
   "mimetype": "text/x-python",
   "name": "python",
   "nbconvert_exporter": "python",
   "pygments_lexer": "ipython3",
   "version": "3.8.18"
  }
 },
 "nbformat": 4,
 "nbformat_minor": 5
}
