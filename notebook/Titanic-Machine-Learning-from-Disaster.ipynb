{
 "cells": [
  {
   "cell_type": "code",
   "execution_count": 1,
   "id": "1ba9c16a-7a3d-4fe8-bea9-87a98b7d7722",
   "metadata": {},
   "outputs": [],
   "source": [
    "import os\n",
    "import itertools\n",
    "import pickle\n",
    "\n",
    "import numpy as np\n",
    "import pandas as pd\n",
    "import seaborn as sns \n",
    "import matplotlib.pyplot as plt\n",
    "\n",
    "from sklearn.preprocessing import StandardScaler\n",
    "\n",
    "from sklearn.linear_model import LogisticRegression\n",
    "from sklearn.tree import DecisionTreeClassifier\n",
    "from sklearn.ensemble import RandomForestClassifier\n",
    "from sklearn.naive_bayes import GaussianNB\n",
    "from sklearn.neighbors import KNeighborsClassifier\n",
    "from sklearn.svm import SVC\n",
    "from xgboost import XGBClassifier\n",
    "from catboost import CatBoostClassifier\n",
    "from sklearn.ensemble import VotingClassifier\n",
    "\n",
    "from sklearn.model_selection import cross_val_score\n",
    "\n",
    "from sklearn.metrics import f1_score, make_scorer, classification_report\n",
    "\n",
    "from sklearn.model_selection import GridSearchCV \n",
    "from sklearn.model_selection import RandomizedSearchCV "
   ]
  },
  {
   "cell_type": "markdown",
   "id": "985dc62c-df5c-4275-a935-1f5f25a3787b",
   "metadata": {},
   "source": [
    "## Project Planning\n",
    "\n",
    "Let's outline the main steps of the project:\n",
    "- Understanding the nature of the data .info() .describe()\n",
    "- Exploratory analysis - histograms, boxplots and value counts\n",
    "- Deal with missing data\n",
    "- Check metrics correlation\n",
    "- Themes to look into:\n",
    "  - Level of wealth as a predictor\n",
    "  - Location of cabin as a predictor\n",
    "  - Age\n",
    "  - Title\n",
    "- Feature engineering\n",
    "- Data preprocessing and scaling\n",
    "- Baseline models\n",
    "- Trained models\n",
    "- Comparison."
   ]
  },
  {
   "cell_type": "markdown",
   "id": "22bbcd0a-284d-4b6d-8c90-9cc1fd608e60",
   "metadata": {},
   "source": [
    "<div align=\"center\">\n",
    "  <h3>Data Dictionary</h3>\n",
    "</div>\n",
    "\n",
    "| Variable  | Definition                | Key                                       |\n",
    "|-----------|---------------------------|-------------------------------------------|\n",
    "| survival  | Survival                  | 0 = No, 1 = Yes                           |\n",
    "| pclass    | Ticket class              | 1 = 1st, 2 = 2nd, 3 = 3rd                 |\n",
    "| sex       | Sex                       |                                           |\n",
    "| Age       | Age in years              |                                           |\n",
    "| sibsp     | # of siblings/spouses     |                                           |\n",
    "| parch     | # of parents/children     |                                           |\n",
    "| ticket    | Ticket number             |                                           |\n",
    "| fare      | Passenger fare            |                                           |\n",
    "| cabin     | Cabin number              |                                           |\n",
    "| embarked  | Port of Embarkation       | C = Cherbourg, Q = Queenstown, S = Southampton |\n"
   ]
  },
  {
   "cell_type": "markdown",
   "id": "6288e1b0-9689-4b7e-8a6e-467c96e6439a",
   "metadata": {},
   "source": [
    "### Data import\n",
    "\n",
    "For this analysis, I will be exclusively working with the Training set. The training dataset will be used for validation as well. The final predictions for the Kaggle submissions will of course be done on the provided test dataset as per the competition's rules. I'll be doing the initial data analysis on the combined data which I'll differentiate with the use of a train/test flag in a new column."
   ]
  },
  {
   "cell_type": "code",
   "execution_count": 2,
   "id": "1dccbdb3-14f9-40e8-8632-ab3fc89819ec",
   "metadata": {},
   "outputs": [
    {
     "data": {
      "text/plain": [
       "Index(['PassengerId', 'Survived', 'Pclass', 'Name', 'Sex', 'Age', 'SibSp',\n",
       "       'Parch', 'Ticket', 'Fare', 'Cabin', 'Embarked', 'train_test'],\n",
       "      dtype='object')"
      ]
     },
     "execution_count": 2,
     "metadata": {},
     "output_type": "execute_result"
    }
   ],
   "source": [
    "train = pd.read_csv('./data/train.csv')\n",
    "test = pd.read_csv('./data/test.csv')\n",
    "\n",
    "train['train_test'] = 1\n",
    "test['train_test'] = 0\n",
    "test['Survived'] = np.NaN\n",
    "all_data = pd.concat([train, test])\n",
    "\n",
    "%matplotlib inline\n",
    "all_data.columns"
   ]
  },
  {
   "cell_type": "markdown",
   "id": "721b2261-e1db-452b-a574-2f9de882a113",
   "metadata": {},
   "source": [
    "## 1. Data Exploration\n",
    "\n",
    "**For Numeric Data:**\n",
    "   - Histograms to explore distribution;\n",
    "   - Correlation plots;\n",
    "   - Pivot tables to try and understand survival rate across numeric variables;\n",
    "\n",
    "**For Categorical Data:**\n",
    "   - Plotting bar charts to explore balance of classes\n",
    "   - Pivot tables again with the same goal of understanding the relation to survival rate"
   ]
  },
  {
   "cell_type": "code",
   "execution_count": 3,
   "id": "d8242cc4-9747-4752-922a-eb6e89f94c6e",
   "metadata": {},
   "outputs": [
    {
     "data": {
      "text/html": [
       "<div>\n",
       "<style scoped>\n",
       "    .dataframe tbody tr th:only-of-type {\n",
       "        vertical-align: middle;\n",
       "    }\n",
       "\n",
       "    .dataframe tbody tr th {\n",
       "        vertical-align: top;\n",
       "    }\n",
       "\n",
       "    .dataframe thead th {\n",
       "        text-align: right;\n",
       "    }\n",
       "</style>\n",
       "<table border=\"1\" class=\"dataframe\">\n",
       "  <thead>\n",
       "    <tr style=\"text-align: right;\">\n",
       "      <th></th>\n",
       "      <th>PassengerId</th>\n",
       "      <th>Survived</th>\n",
       "      <th>Pclass</th>\n",
       "      <th>Name</th>\n",
       "      <th>Sex</th>\n",
       "      <th>Age</th>\n",
       "      <th>SibSp</th>\n",
       "      <th>Parch</th>\n",
       "      <th>Ticket</th>\n",
       "      <th>Fare</th>\n",
       "      <th>Cabin</th>\n",
       "      <th>Embarked</th>\n",
       "      <th>train_test</th>\n",
       "    </tr>\n",
       "  </thead>\n",
       "  <tbody>\n",
       "    <tr>\n",
       "      <th>0</th>\n",
       "      <td>1</td>\n",
       "      <td>0</td>\n",
       "      <td>3</td>\n",
       "      <td>Braund, Mr. Owen Harris</td>\n",
       "      <td>male</td>\n",
       "      <td>22.0</td>\n",
       "      <td>1</td>\n",
       "      <td>0</td>\n",
       "      <td>A/5 21171</td>\n",
       "      <td>7.2500</td>\n",
       "      <td>NaN</td>\n",
       "      <td>S</td>\n",
       "      <td>1</td>\n",
       "    </tr>\n",
       "    <tr>\n",
       "      <th>1</th>\n",
       "      <td>2</td>\n",
       "      <td>1</td>\n",
       "      <td>1</td>\n",
       "      <td>Cumings, Mrs. John Bradley (Florence Briggs Th...</td>\n",
       "      <td>female</td>\n",
       "      <td>38.0</td>\n",
       "      <td>1</td>\n",
       "      <td>0</td>\n",
       "      <td>PC 17599</td>\n",
       "      <td>71.2833</td>\n",
       "      <td>C85</td>\n",
       "      <td>C</td>\n",
       "      <td>1</td>\n",
       "    </tr>\n",
       "    <tr>\n",
       "      <th>2</th>\n",
       "      <td>3</td>\n",
       "      <td>1</td>\n",
       "      <td>3</td>\n",
       "      <td>Heikkinen, Miss. Laina</td>\n",
       "      <td>female</td>\n",
       "      <td>26.0</td>\n",
       "      <td>0</td>\n",
       "      <td>0</td>\n",
       "      <td>STON/O2. 3101282</td>\n",
       "      <td>7.9250</td>\n",
       "      <td>NaN</td>\n",
       "      <td>S</td>\n",
       "      <td>1</td>\n",
       "    </tr>\n",
       "    <tr>\n",
       "      <th>3</th>\n",
       "      <td>4</td>\n",
       "      <td>1</td>\n",
       "      <td>1</td>\n",
       "      <td>Futrelle, Mrs. Jacques Heath (Lily May Peel)</td>\n",
       "      <td>female</td>\n",
       "      <td>35.0</td>\n",
       "      <td>1</td>\n",
       "      <td>0</td>\n",
       "      <td>113803</td>\n",
       "      <td>53.1000</td>\n",
       "      <td>C123</td>\n",
       "      <td>S</td>\n",
       "      <td>1</td>\n",
       "    </tr>\n",
       "    <tr>\n",
       "      <th>4</th>\n",
       "      <td>5</td>\n",
       "      <td>0</td>\n",
       "      <td>3</td>\n",
       "      <td>Allen, Mr. William Henry</td>\n",
       "      <td>male</td>\n",
       "      <td>35.0</td>\n",
       "      <td>0</td>\n",
       "      <td>0</td>\n",
       "      <td>373450</td>\n",
       "      <td>8.0500</td>\n",
       "      <td>NaN</td>\n",
       "      <td>S</td>\n",
       "      <td>1</td>\n",
       "    </tr>\n",
       "    <tr>\n",
       "      <th>5</th>\n",
       "      <td>6</td>\n",
       "      <td>0</td>\n",
       "      <td>3</td>\n",
       "      <td>Moran, Mr. James</td>\n",
       "      <td>male</td>\n",
       "      <td>NaN</td>\n",
       "      <td>0</td>\n",
       "      <td>0</td>\n",
       "      <td>330877</td>\n",
       "      <td>8.4583</td>\n",
       "      <td>NaN</td>\n",
       "      <td>Q</td>\n",
       "      <td>1</td>\n",
       "    </tr>\n",
       "    <tr>\n",
       "      <th>6</th>\n",
       "      <td>7</td>\n",
       "      <td>0</td>\n",
       "      <td>1</td>\n",
       "      <td>McCarthy, Mr. Timothy J</td>\n",
       "      <td>male</td>\n",
       "      <td>54.0</td>\n",
       "      <td>0</td>\n",
       "      <td>0</td>\n",
       "      <td>17463</td>\n",
       "      <td>51.8625</td>\n",
       "      <td>E46</td>\n",
       "      <td>S</td>\n",
       "      <td>1</td>\n",
       "    </tr>\n",
       "    <tr>\n",
       "      <th>7</th>\n",
       "      <td>8</td>\n",
       "      <td>0</td>\n",
       "      <td>3</td>\n",
       "      <td>Palsson, Master. Gosta Leonard</td>\n",
       "      <td>male</td>\n",
       "      <td>2.0</td>\n",
       "      <td>3</td>\n",
       "      <td>1</td>\n",
       "      <td>349909</td>\n",
       "      <td>21.0750</td>\n",
       "      <td>NaN</td>\n",
       "      <td>S</td>\n",
       "      <td>1</td>\n",
       "    </tr>\n",
       "    <tr>\n",
       "      <th>8</th>\n",
       "      <td>9</td>\n",
       "      <td>1</td>\n",
       "      <td>3</td>\n",
       "      <td>Johnson, Mrs. Oscar W (Elisabeth Vilhelmina Berg)</td>\n",
       "      <td>female</td>\n",
       "      <td>27.0</td>\n",
       "      <td>0</td>\n",
       "      <td>2</td>\n",
       "      <td>347742</td>\n",
       "      <td>11.1333</td>\n",
       "      <td>NaN</td>\n",
       "      <td>S</td>\n",
       "      <td>1</td>\n",
       "    </tr>\n",
       "    <tr>\n",
       "      <th>9</th>\n",
       "      <td>10</td>\n",
       "      <td>1</td>\n",
       "      <td>2</td>\n",
       "      <td>Nasser, Mrs. Nicholas (Adele Achem)</td>\n",
       "      <td>female</td>\n",
       "      <td>14.0</td>\n",
       "      <td>1</td>\n",
       "      <td>0</td>\n",
       "      <td>237736</td>\n",
       "      <td>30.0708</td>\n",
       "      <td>NaN</td>\n",
       "      <td>C</td>\n",
       "      <td>1</td>\n",
       "    </tr>\n",
       "    <tr>\n",
       "      <th>10</th>\n",
       "      <td>11</td>\n",
       "      <td>1</td>\n",
       "      <td>3</td>\n",
       "      <td>Sandstrom, Miss. Marguerite Rut</td>\n",
       "      <td>female</td>\n",
       "      <td>4.0</td>\n",
       "      <td>1</td>\n",
       "      <td>1</td>\n",
       "      <td>PP 9549</td>\n",
       "      <td>16.7000</td>\n",
       "      <td>G6</td>\n",
       "      <td>S</td>\n",
       "      <td>1</td>\n",
       "    </tr>\n",
       "    <tr>\n",
       "      <th>11</th>\n",
       "      <td>12</td>\n",
       "      <td>1</td>\n",
       "      <td>1</td>\n",
       "      <td>Bonnell, Miss. Elizabeth</td>\n",
       "      <td>female</td>\n",
       "      <td>58.0</td>\n",
       "      <td>0</td>\n",
       "      <td>0</td>\n",
       "      <td>113783</td>\n",
       "      <td>26.5500</td>\n",
       "      <td>C103</td>\n",
       "      <td>S</td>\n",
       "      <td>1</td>\n",
       "    </tr>\n",
       "    <tr>\n",
       "      <th>12</th>\n",
       "      <td>13</td>\n",
       "      <td>0</td>\n",
       "      <td>3</td>\n",
       "      <td>Saundercock, Mr. William Henry</td>\n",
       "      <td>male</td>\n",
       "      <td>20.0</td>\n",
       "      <td>0</td>\n",
       "      <td>0</td>\n",
       "      <td>A/5. 2151</td>\n",
       "      <td>8.0500</td>\n",
       "      <td>NaN</td>\n",
       "      <td>S</td>\n",
       "      <td>1</td>\n",
       "    </tr>\n",
       "    <tr>\n",
       "      <th>13</th>\n",
       "      <td>14</td>\n",
       "      <td>0</td>\n",
       "      <td>3</td>\n",
       "      <td>Andersson, Mr. Anders Johan</td>\n",
       "      <td>male</td>\n",
       "      <td>39.0</td>\n",
       "      <td>1</td>\n",
       "      <td>5</td>\n",
       "      <td>347082</td>\n",
       "      <td>31.2750</td>\n",
       "      <td>NaN</td>\n",
       "      <td>S</td>\n",
       "      <td>1</td>\n",
       "    </tr>\n",
       "    <tr>\n",
       "      <th>14</th>\n",
       "      <td>15</td>\n",
       "      <td>0</td>\n",
       "      <td>3</td>\n",
       "      <td>Vestrom, Miss. Hulda Amanda Adolfina</td>\n",
       "      <td>female</td>\n",
       "      <td>14.0</td>\n",
       "      <td>0</td>\n",
       "      <td>0</td>\n",
       "      <td>350406</td>\n",
       "      <td>7.8542</td>\n",
       "      <td>NaN</td>\n",
       "      <td>S</td>\n",
       "      <td>1</td>\n",
       "    </tr>\n",
       "    <tr>\n",
       "      <th>15</th>\n",
       "      <td>16</td>\n",
       "      <td>1</td>\n",
       "      <td>2</td>\n",
       "      <td>Hewlett, Mrs. (Mary D Kingcome)</td>\n",
       "      <td>female</td>\n",
       "      <td>55.0</td>\n",
       "      <td>0</td>\n",
       "      <td>0</td>\n",
       "      <td>248706</td>\n",
       "      <td>16.0000</td>\n",
       "      <td>NaN</td>\n",
       "      <td>S</td>\n",
       "      <td>1</td>\n",
       "    </tr>\n",
       "    <tr>\n",
       "      <th>16</th>\n",
       "      <td>17</td>\n",
       "      <td>0</td>\n",
       "      <td>3</td>\n",
       "      <td>Rice, Master. Eugene</td>\n",
       "      <td>male</td>\n",
       "      <td>2.0</td>\n",
       "      <td>4</td>\n",
       "      <td>1</td>\n",
       "      <td>382652</td>\n",
       "      <td>29.1250</td>\n",
       "      <td>NaN</td>\n",
       "      <td>Q</td>\n",
       "      <td>1</td>\n",
       "    </tr>\n",
       "    <tr>\n",
       "      <th>17</th>\n",
       "      <td>18</td>\n",
       "      <td>1</td>\n",
       "      <td>2</td>\n",
       "      <td>Williams, Mr. Charles Eugene</td>\n",
       "      <td>male</td>\n",
       "      <td>NaN</td>\n",
       "      <td>0</td>\n",
       "      <td>0</td>\n",
       "      <td>244373</td>\n",
       "      <td>13.0000</td>\n",
       "      <td>NaN</td>\n",
       "      <td>S</td>\n",
       "      <td>1</td>\n",
       "    </tr>\n",
       "    <tr>\n",
       "      <th>18</th>\n",
       "      <td>19</td>\n",
       "      <td>0</td>\n",
       "      <td>3</td>\n",
       "      <td>Vander Planke, Mrs. Julius (Emelia Maria Vande...</td>\n",
       "      <td>female</td>\n",
       "      <td>31.0</td>\n",
       "      <td>1</td>\n",
       "      <td>0</td>\n",
       "      <td>345763</td>\n",
       "      <td>18.0000</td>\n",
       "      <td>NaN</td>\n",
       "      <td>S</td>\n",
       "      <td>1</td>\n",
       "    </tr>\n",
       "    <tr>\n",
       "      <th>19</th>\n",
       "      <td>20</td>\n",
       "      <td>1</td>\n",
       "      <td>3</td>\n",
       "      <td>Masselmani, Mrs. Fatima</td>\n",
       "      <td>female</td>\n",
       "      <td>NaN</td>\n",
       "      <td>0</td>\n",
       "      <td>0</td>\n",
       "      <td>2649</td>\n",
       "      <td>7.2250</td>\n",
       "      <td>NaN</td>\n",
       "      <td>C</td>\n",
       "      <td>1</td>\n",
       "    </tr>\n",
       "  </tbody>\n",
       "</table>\n",
       "</div>"
      ],
      "text/plain": [
       "    PassengerId  Survived  Pclass  \\\n",
       "0             1         0       3   \n",
       "1             2         1       1   \n",
       "2             3         1       3   \n",
       "3             4         1       1   \n",
       "4             5         0       3   \n",
       "5             6         0       3   \n",
       "6             7         0       1   \n",
       "7             8         0       3   \n",
       "8             9         1       3   \n",
       "9            10         1       2   \n",
       "10           11         1       3   \n",
       "11           12         1       1   \n",
       "12           13         0       3   \n",
       "13           14         0       3   \n",
       "14           15         0       3   \n",
       "15           16         1       2   \n",
       "16           17         0       3   \n",
       "17           18         1       2   \n",
       "18           19         0       3   \n",
       "19           20         1       3   \n",
       "\n",
       "                                                 Name     Sex   Age  SibSp  \\\n",
       "0                             Braund, Mr. Owen Harris    male  22.0      1   \n",
       "1   Cumings, Mrs. John Bradley (Florence Briggs Th...  female  38.0      1   \n",
       "2                              Heikkinen, Miss. Laina  female  26.0      0   \n",
       "3        Futrelle, Mrs. Jacques Heath (Lily May Peel)  female  35.0      1   \n",
       "4                            Allen, Mr. William Henry    male  35.0      0   \n",
       "5                                    Moran, Mr. James    male   NaN      0   \n",
       "6                             McCarthy, Mr. Timothy J    male  54.0      0   \n",
       "7                      Palsson, Master. Gosta Leonard    male   2.0      3   \n",
       "8   Johnson, Mrs. Oscar W (Elisabeth Vilhelmina Berg)  female  27.0      0   \n",
       "9                 Nasser, Mrs. Nicholas (Adele Achem)  female  14.0      1   \n",
       "10                    Sandstrom, Miss. Marguerite Rut  female   4.0      1   \n",
       "11                           Bonnell, Miss. Elizabeth  female  58.0      0   \n",
       "12                     Saundercock, Mr. William Henry    male  20.0      0   \n",
       "13                        Andersson, Mr. Anders Johan    male  39.0      1   \n",
       "14               Vestrom, Miss. Hulda Amanda Adolfina  female  14.0      0   \n",
       "15                   Hewlett, Mrs. (Mary D Kingcome)   female  55.0      0   \n",
       "16                               Rice, Master. Eugene    male   2.0      4   \n",
       "17                       Williams, Mr. Charles Eugene    male   NaN      0   \n",
       "18  Vander Planke, Mrs. Julius (Emelia Maria Vande...  female  31.0      1   \n",
       "19                            Masselmani, Mrs. Fatima  female   NaN      0   \n",
       "\n",
       "    Parch            Ticket     Fare Cabin Embarked  train_test  \n",
       "0       0         A/5 21171   7.2500   NaN        S           1  \n",
       "1       0          PC 17599  71.2833   C85        C           1  \n",
       "2       0  STON/O2. 3101282   7.9250   NaN        S           1  \n",
       "3       0            113803  53.1000  C123        S           1  \n",
       "4       0            373450   8.0500   NaN        S           1  \n",
       "5       0            330877   8.4583   NaN        Q           1  \n",
       "6       0             17463  51.8625   E46        S           1  \n",
       "7       1            349909  21.0750   NaN        S           1  \n",
       "8       2            347742  11.1333   NaN        S           1  \n",
       "9       0            237736  30.0708   NaN        C           1  \n",
       "10      1           PP 9549  16.7000    G6        S           1  \n",
       "11      0            113783  26.5500  C103        S           1  \n",
       "12      0         A/5. 2151   8.0500   NaN        S           1  \n",
       "13      5            347082  31.2750   NaN        S           1  \n",
       "14      0            350406   7.8542   NaN        S           1  \n",
       "15      0            248706  16.0000   NaN        S           1  \n",
       "16      1            382652  29.1250   NaN        Q           1  \n",
       "17      0            244373  13.0000   NaN        S           1  \n",
       "18      0            345763  18.0000   NaN        S           1  \n",
       "19      0              2649   7.2250   NaN        C           1  "
      ]
     },
     "execution_count": 3,
     "metadata": {},
     "output_type": "execute_result"
    }
   ],
   "source": [
    "# Let's start with an overview of the train data:\n",
    "train.head(20)"
   ]
  },
  {
   "cell_type": "code",
   "execution_count": 4,
   "id": "fc274786-edd2-40ff-b60c-7708621ef790",
   "metadata": {},
   "outputs": [
    {
     "name": "stdout",
     "output_type": "stream",
     "text": [
      "['PassengerId', 'Survived', 'Pclass', 'Age', 'SibSp', 'Parch', 'Fare', 'train_test']\n"
     ]
    }
   ],
   "source": [
    "# Listing Numerical columns\n",
    "cols = train.columns\n",
    "num_cols = list(train.select_dtypes('number'))\n",
    "print(num_cols)"
   ]
  },
  {
   "cell_type": "code",
   "execution_count": 5,
   "id": "4030d8f7-c616-4c87-a848-e542a4eaac56",
   "metadata": {},
   "outputs": [
    {
     "name": "stdout",
     "output_type": "stream",
     "text": [
      "['Ticket', 'Cabin', 'Embarked', 'Name', 'Sex']\n"
     ]
    }
   ],
   "source": [
    "# Listing Categorical columns\n",
    "cat_cols = list(set(cols) - set(num_cols))\n",
    "print(cat_cols)"
   ]
  },
  {
   "cell_type": "code",
   "execution_count": 6,
   "id": "3ef92c5d-889d-4a4d-b4b3-11a3bf344cb0",
   "metadata": {},
   "outputs": [
    {
     "name": "stdout",
     "output_type": "stream",
     "text": [
      "<class 'pandas.core.frame.DataFrame'>\n",
      "RangeIndex: 891 entries, 0 to 890\n",
      "Data columns (total 13 columns):\n",
      " #   Column       Non-Null Count  Dtype  \n",
      "---  ------       --------------  -----  \n",
      " 0   PassengerId  891 non-null    int64  \n",
      " 1   Survived     891 non-null    int64  \n",
      " 2   Pclass       891 non-null    int64  \n",
      " 3   Name         891 non-null    object \n",
      " 4   Sex          891 non-null    object \n",
      " 5   Age          714 non-null    float64\n",
      " 6   SibSp        891 non-null    int64  \n",
      " 7   Parch        891 non-null    int64  \n",
      " 8   Ticket       891 non-null    object \n",
      " 9   Fare         891 non-null    float64\n",
      " 10  Cabin        204 non-null    object \n",
      " 11  Embarked     889 non-null    object \n",
      " 12  train_test   891 non-null    int64  \n",
      "dtypes: float64(2), int64(6), object(5)\n",
      "memory usage: 90.6+ KB\n"
     ]
    }
   ],
   "source": [
    "# A look at feature datatypes\n",
    "train.info()"
   ]
  },
  {
   "cell_type": "markdown",
   "id": "44975115-744b-4f1b-ad1f-029e39018c23",
   "metadata": {},
   "source": [
    "##### Two colums stand out:\n",
    "- Cabin is mostly null values which will need to be looked into and dealt with\n",
    "- Age has a significant number of null vlaues as well which will also need to be investigated"
   ]
  },
  {
   "cell_type": "code",
   "execution_count": 7,
   "id": "a594595c-f20e-4d81-ba74-53d671fa824e",
   "metadata": {},
   "outputs": [
    {
     "data": {
      "text/html": [
       "<div>\n",
       "<style scoped>\n",
       "    .dataframe tbody tr th:only-of-type {\n",
       "        vertical-align: middle;\n",
       "    }\n",
       "\n",
       "    .dataframe tbody tr th {\n",
       "        vertical-align: top;\n",
       "    }\n",
       "\n",
       "    .dataframe thead th {\n",
       "        text-align: right;\n",
       "    }\n",
       "</style>\n",
       "<table border=\"1\" class=\"dataframe\">\n",
       "  <thead>\n",
       "    <tr style=\"text-align: right;\">\n",
       "      <th></th>\n",
       "      <th>PassengerId</th>\n",
       "      <th>Survived</th>\n",
       "      <th>Pclass</th>\n",
       "      <th>Age</th>\n",
       "      <th>SibSp</th>\n",
       "      <th>Parch</th>\n",
       "      <th>Fare</th>\n",
       "      <th>train_test</th>\n",
       "    </tr>\n",
       "  </thead>\n",
       "  <tbody>\n",
       "    <tr>\n",
       "      <th>count</th>\n",
       "      <td>891.000000</td>\n",
       "      <td>891.000000</td>\n",
       "      <td>891.000000</td>\n",
       "      <td>714.000000</td>\n",
       "      <td>891.000000</td>\n",
       "      <td>891.000000</td>\n",
       "      <td>891.000000</td>\n",
       "      <td>891.0</td>\n",
       "    </tr>\n",
       "    <tr>\n",
       "      <th>mean</th>\n",
       "      <td>446.000000</td>\n",
       "      <td>0.383838</td>\n",
       "      <td>2.308642</td>\n",
       "      <td>29.699118</td>\n",
       "      <td>0.523008</td>\n",
       "      <td>0.381594</td>\n",
       "      <td>32.204208</td>\n",
       "      <td>1.0</td>\n",
       "    </tr>\n",
       "    <tr>\n",
       "      <th>std</th>\n",
       "      <td>257.353842</td>\n",
       "      <td>0.486592</td>\n",
       "      <td>0.836071</td>\n",
       "      <td>14.526497</td>\n",
       "      <td>1.102743</td>\n",
       "      <td>0.806057</td>\n",
       "      <td>49.693429</td>\n",
       "      <td>0.0</td>\n",
       "    </tr>\n",
       "    <tr>\n",
       "      <th>min</th>\n",
       "      <td>1.000000</td>\n",
       "      <td>0.000000</td>\n",
       "      <td>1.000000</td>\n",
       "      <td>0.420000</td>\n",
       "      <td>0.000000</td>\n",
       "      <td>0.000000</td>\n",
       "      <td>0.000000</td>\n",
       "      <td>1.0</td>\n",
       "    </tr>\n",
       "    <tr>\n",
       "      <th>25%</th>\n",
       "      <td>223.500000</td>\n",
       "      <td>0.000000</td>\n",
       "      <td>2.000000</td>\n",
       "      <td>20.125000</td>\n",
       "      <td>0.000000</td>\n",
       "      <td>0.000000</td>\n",
       "      <td>7.910400</td>\n",
       "      <td>1.0</td>\n",
       "    </tr>\n",
       "    <tr>\n",
       "      <th>50%</th>\n",
       "      <td>446.000000</td>\n",
       "      <td>0.000000</td>\n",
       "      <td>3.000000</td>\n",
       "      <td>28.000000</td>\n",
       "      <td>0.000000</td>\n",
       "      <td>0.000000</td>\n",
       "      <td>14.454200</td>\n",
       "      <td>1.0</td>\n",
       "    </tr>\n",
       "    <tr>\n",
       "      <th>75%</th>\n",
       "      <td>668.500000</td>\n",
       "      <td>1.000000</td>\n",
       "      <td>3.000000</td>\n",
       "      <td>38.000000</td>\n",
       "      <td>1.000000</td>\n",
       "      <td>0.000000</td>\n",
       "      <td>31.000000</td>\n",
       "      <td>1.0</td>\n",
       "    </tr>\n",
       "    <tr>\n",
       "      <th>max</th>\n",
       "      <td>891.000000</td>\n",
       "      <td>1.000000</td>\n",
       "      <td>3.000000</td>\n",
       "      <td>80.000000</td>\n",
       "      <td>8.000000</td>\n",
       "      <td>6.000000</td>\n",
       "      <td>512.329200</td>\n",
       "      <td>1.0</td>\n",
       "    </tr>\n",
       "  </tbody>\n",
       "</table>\n",
       "</div>"
      ],
      "text/plain": [
       "       PassengerId    Survived      Pclass         Age       SibSp  \\\n",
       "count   891.000000  891.000000  891.000000  714.000000  891.000000   \n",
       "mean    446.000000    0.383838    2.308642   29.699118    0.523008   \n",
       "std     257.353842    0.486592    0.836071   14.526497    1.102743   \n",
       "min       1.000000    0.000000    1.000000    0.420000    0.000000   \n",
       "25%     223.500000    0.000000    2.000000   20.125000    0.000000   \n",
       "50%     446.000000    0.000000    3.000000   28.000000    0.000000   \n",
       "75%     668.500000    1.000000    3.000000   38.000000    1.000000   \n",
       "max     891.000000    1.000000    3.000000   80.000000    8.000000   \n",
       "\n",
       "            Parch        Fare  train_test  \n",
       "count  891.000000  891.000000       891.0  \n",
       "mean     0.381594   32.204208         1.0  \n",
       "std      0.806057   49.693429         0.0  \n",
       "min      0.000000    0.000000         1.0  \n",
       "25%      0.000000    7.910400         1.0  \n",
       "50%      0.000000   14.454200         1.0  \n",
       "75%      0.000000   31.000000         1.0  \n",
       "max      6.000000  512.329200         1.0  "
      ]
     },
     "execution_count": 7,
     "metadata": {},
     "output_type": "execute_result"
    }
   ],
   "source": [
    "# An overview of the central tendencies of the numeric data\n",
    "train.describe()"
   ]
  },
  {
   "cell_type": "code",
   "execution_count": 8,
   "id": "1f7021b1-e1f6-4464-b8a7-fc89c277ac39",
   "metadata": {},
   "outputs": [],
   "source": [
    "# Separating the numeric and categorical columns as each will require a separate approach\n",
    "df_numeric = train[['Age','SibSp','Parch','Fare']]\n",
    "df_categorical = train[['Survived','Pclass','Sex','Ticket','Cabin','Embarked']]"
   ]
  },
  {
   "cell_type": "markdown",
   "id": "a3d782ba-e588-477c-bd73-2d05447e3355",
   "metadata": {},
   "source": [
    "### 1.1 Numeric Features Exploration"
   ]
  },
  {
   "cell_type": "code",
   "execution_count": 9,
   "id": "dcc24ab5-5774-40dd-9eca-2bf06cff32a7",
   "metadata": {},
   "outputs": [
    {
     "data": {
      "image/png": "[encoded data removed]",
      "text/plain": [
       "<Figure size 1200x800 with 4 Axes>"
      ]
     },
     "metadata": {},
     "output_type": "display_data"
    }
   ],
   "source": [
    "# Creating a grid of subplots for the numeric columns\n",
    "fig, axes = plt.subplots(nrows=2, ncols=2, figsize=(12, 8))\n",
    "axes = axes.flatten()  # Flatten 2D array to 1D\n",
    "\n",
    "# Plot each histogram in a subplot\n",
    "for i, col in enumerate(df_numeric.columns):\n",
    "    plt.sca(axes[i])\n",
    "    plt.hist(df_numeric[col])\n",
    "    plt.title(col)\n",
    "\n",
    "# Adjust layout for better spacing\n",
    "plt.tight_layout()\n",
    "\n",
    "# Show the plots\n",
    "plt.show()"
   ]
  },
  {
   "cell_type": "markdown",
   "id": "281898fa-14e5-4e64-872d-998f87b5f074",
   "metadata": {},
   "source": [
    "We have a normal distribution for the age column. The rest are all good candidates for normalization since they are skewed quite heavily."
   ]
  },
  {
   "cell_type": "code",
   "execution_count": 10,
   "id": "f7366d19-8b41-4dd5-8b02-577edccc7cbf",
   "metadata": {},
   "outputs": [
    {
     "name": "stdout",
     "output_type": "stream",
     "text": [
      "            Age     SibSp     Parch      Fare\n",
      "Age    1.000000 -0.308247 -0.189119  0.096067\n",
      "SibSp -0.308247  1.000000  0.414838  0.159651\n",
      "Parch -0.189119  0.414838  1.000000  0.216225\n",
      "Fare   0.096067  0.159651  0.216225  1.000000\n"
     ]
    },
    {
     "data": {
      "text/plain": [
       "<Axes: >"
      ]
     },
     "execution_count": 10,
     "metadata": {},
     "output_type": "execute_result"
    },
    {
     "data": {
      "image/png": "[encoded data removed]",
      "text/plain": [
       "<Figure size 640x480 with 2 Axes>"
      ]
     },
     "metadata": {},
     "output_type": "display_data"
    }
   ],
   "source": [
    "# A look at the correlation of our numeric columns\n",
    "print(df_numeric.corr())\n",
    "sns.heatmap(df_numeric.corr())"
   ]
  },
  {
   "cell_type": "markdown",
   "id": "7e7f4999-3294-4fe0-8b6b-6449361d68e7",
   "metadata": {},
   "source": [
    "Here we can see that Parch and SibSp has a higher correlation, which generally makes sense since Parents are more likely to travel with their multiple kids and spouses tend to travel together."
   ]
  },
  {
   "cell_type": "code",
   "execution_count": 11,
   "id": "2db667f6-9880-4407-8941-4cc3da512d14",
   "metadata": {},
   "outputs": [
    {
     "data": {
      "text/html": [
       "<div>\n",
       "<style scoped>\n",
       "    .dataframe tbody tr th:only-of-type {\n",
       "        vertical-align: middle;\n",
       "    }\n",
       "\n",
       "    .dataframe tbody tr th {\n",
       "        vertical-align: top;\n",
       "    }\n",
       "\n",
       "    .dataframe thead th {\n",
       "        text-align: right;\n",
       "    }\n",
       "</style>\n",
       "<table border=\"1\" class=\"dataframe\">\n",
       "  <thead>\n",
       "    <tr style=\"text-align: right;\">\n",
       "      <th></th>\n",
       "      <th>Age</th>\n",
       "      <th>Fare</th>\n",
       "      <th>Parch</th>\n",
       "      <th>SibSp</th>\n",
       "    </tr>\n",
       "    <tr>\n",
       "      <th>Survived</th>\n",
       "      <th></th>\n",
       "      <th></th>\n",
       "      <th></th>\n",
       "      <th></th>\n",
       "    </tr>\n",
       "  </thead>\n",
       "  <tbody>\n",
       "    <tr>\n",
       "      <th>0</th>\n",
       "      <td>30.626179</td>\n",
       "      <td>22.117887</td>\n",
       "      <td>0.329690</td>\n",
       "      <td>0.553734</td>\n",
       "    </tr>\n",
       "    <tr>\n",
       "      <th>1</th>\n",
       "      <td>28.343690</td>\n",
       "      <td>48.395408</td>\n",
       "      <td>0.464912</td>\n",
       "      <td>0.473684</td>\n",
       "    </tr>\n",
       "  </tbody>\n",
       "</table>\n",
       "</div>"
      ],
      "text/plain": [
       "                Age       Fare     Parch     SibSp\n",
       "Survived                                          \n",
       "0         30.626179  22.117887  0.329690  0.553734\n",
       "1         28.343690  48.395408  0.464912  0.473684"
      ]
     },
     "execution_count": 11,
     "metadata": {},
     "output_type": "execute_result"
    }
   ],
   "source": [
    "# A look at survival rate across Age, SibSp, Parch, and Fare \n",
    "pd.pivot_table(\n",
    "    data = train,\n",
    "    values = ['Age', 'SibSp', 'Parch', 'Fare'],\n",
    "    index = 'Survived'\n",
    ")"
   ]
  },
  {
   "cell_type": "markdown",
   "id": "18af71ce-9998-44e1-853a-21cec9838338",
   "metadata": {},
   "source": [
    "There are a few interesting aspects to this:\n",
    "- The average age of survivors is 28, so young people tend to have a better chance;\r",
    "-  People who paid higher fare rates were more likely to survive, more than double. This might be the people traveling in first-clas,.tThus the rich survive. Higher class cabins were higher up on the ship;.-\r",
    "Travelling with parents shows a significant correlation. Well done, parents on the Titanic;e- Having siblings looks to not be an advantage;ing"
   ]
  },
  {
   "cell_type": "markdown",
   "id": "33154808-907a-48e8-a841-197e9ef7c4f0",
   "metadata": {},
   "source": [
    "### 1.2 Categorical Features Exploration"
   ]
  },
  {
   "cell_type": "code",
   "execution_count": 12,
   "id": "145e78c3-8833-4e4c-913e-4ba2afed68d4",
   "metadata": {},
   "outputs": [
    {
     "data": {
      "image/png": "[encoded data removed]",
      "text/plain": [
       "<Figure size 1200x1000 with 6 Axes>"
      ]
     },
     "metadata": {},
     "output_type": "display_data"
    }
   ],
   "source": [
    "# Same grid of subplots as the one above but containing barplots with our categorical features\n",
    "fig, axes = plt.subplots(nrows=3, ncols=2, figsize=(12, 10))\n",
    "axes = axes.flatten()\n",
    "\n",
    "# Plot each barplot in a subplot\n",
    "for i, col in enumerate(df_categorical.columns):\n",
    "    sns.barplot(x=df_categorical[col].value_counts().index, y=df_categorical[col].value_counts(), ax=axes[i])\n",
    "    axes[i].set_title(col)\n",
    "\n",
    "# Adjust layout for better spacing\n",
    "plt.tight_layout()\n",
    "\n",
    "# Show the plots\n",
    "plt.show()"
   ]
  },
  {
   "cell_type": "markdown",
   "id": "c29491cc-5074-44e6-9dc3-16cc6a24904d",
   "metadata": {},
   "source": [
    "- Cabin and ticket graphs are very messy and will need to be addressed (feature engineering);\n",
    "- Survived: Most of the people died in the shipwreck, only around 300 people survived. The classes are not balanced which needs to be taken into account;\n",
    "- Pclass: The majority of the people traveling were in 3rd class;\n",
    "- Sex: There were roughly double the number of men on board than women;\n",
    "- Embarked: Most of the passengers boarded the ship from Southampton;"
   ]
  },
  {
   "cell_type": "code",
   "execution_count": 13,
   "id": "0d0bdebf-9f01-456a-aa47-f5b10d62a935",
   "metadata": {},
   "outputs": [
    {
     "data": {
      "text/html": [
       "<div>\n",
       "<style scoped>\n",
       "    .dataframe tbody tr th:only-of-type {\n",
       "        vertical-align: middle;\n",
       "    }\n",
       "\n",
       "    .dataframe tbody tr th {\n",
       "        vertical-align: top;\n",
       "    }\n",
       "\n",
       "    .dataframe thead th {\n",
       "        text-align: right;\n",
       "    }\n",
       "</style>\n",
       "<table border=\"1\" class=\"dataframe\">\n",
       "  <thead>\n",
       "    <tr style=\"text-align: right;\">\n",
       "      <th>Pclass</th>\n",
       "      <th>1</th>\n",
       "      <th>2</th>\n",
       "      <th>3</th>\n",
       "    </tr>\n",
       "    <tr>\n",
       "      <th>Survived</th>\n",
       "      <th></th>\n",
       "      <th></th>\n",
       "      <th></th>\n",
       "    </tr>\n",
       "  </thead>\n",
       "  <tbody>\n",
       "    <tr>\n",
       "      <th>0</th>\n",
       "      <td>80</td>\n",
       "      <td>97</td>\n",
       "      <td>372</td>\n",
       "    </tr>\n",
       "    <tr>\n",
       "      <th>1</th>\n",
       "      <td>136</td>\n",
       "      <td>87</td>\n",
       "      <td>119</td>\n",
       "    </tr>\n",
       "  </tbody>\n",
       "</table>\n",
       "</div>"
      ],
      "text/plain": [
       "Pclass      1   2    3\n",
       "Survived              \n",
       "0          80  97  372\n",
       "1         136  87  119"
      ]
     },
     "execution_count": 13,
     "metadata": {},
     "output_type": "execute_result"
    }
   ],
   "source": [
    "# Survival by Pcalss\n",
    "pd.pivot_table(\n",
    "    train, \n",
    "    index='Survived', \n",
    "    columns='Pclass', \n",
    "    values='Ticket', \n",
    "    aggfunc='count'\n",
    ")"
   ]
  },
  {
   "cell_type": "markdown",
   "id": "7d3602f1-4f4c-4495-bd25-6b09d8cba37a",
   "metadata": {},
   "source": [
    "A lot more people survived from the First class than the Second or Third, even though passengers in First class was much much fewer."
   ]
  },
  {
   "cell_type": "code",
   "execution_count": 14,
   "id": "97366705-88db-4f5a-9e3f-69225aa7c377",
   "metadata": {},
   "outputs": [
    {
     "data": {
      "text/html": [
       "<div>\n",
       "<style scoped>\n",
       "    .dataframe tbody tr th:only-of-type {\n",
       "        vertical-align: middle;\n",
       "    }\n",
       "\n",
       "    .dataframe tbody tr th {\n",
       "        vertical-align: top;\n",
       "    }\n",
       "\n",
       "    .dataframe thead th {\n",
       "        text-align: right;\n",
       "    }\n",
       "</style>\n",
       "<table border=\"1\" class=\"dataframe\">\n",
       "  <thead>\n",
       "    <tr style=\"text-align: right;\">\n",
       "      <th>Sex</th>\n",
       "      <th>female</th>\n",
       "      <th>male</th>\n",
       "    </tr>\n",
       "    <tr>\n",
       "      <th>Survived</th>\n",
       "      <th></th>\n",
       "      <th></th>\n",
       "    </tr>\n",
       "  </thead>\n",
       "  <tbody>\n",
       "    <tr>\n",
       "      <th>0</th>\n",
       "      <td>81</td>\n",
       "      <td>468</td>\n",
       "    </tr>\n",
       "    <tr>\n",
       "      <th>1</th>\n",
       "      <td>233</td>\n",
       "      <td>109</td>\n",
       "    </tr>\n",
       "  </tbody>\n",
       "</table>\n",
       "</div>"
      ],
      "text/plain": [
       "Sex       female  male\n",
       "Survived              \n",
       "0             81   468\n",
       "1            233   109"
      ]
     },
     "execution_count": 14,
     "metadata": {},
     "output_type": "execute_result"
    }
   ],
   "source": [
    "# Survival by Sex\n",
    "pd.pivot_table(\n",
    "    train, \n",
    "    index='Survived', \n",
    "    columns='Sex', \n",
    "    values='Ticket', \n",
    "    aggfunc='count'\n",
    ")"
   ]
  },
  {
   "cell_type": "markdown",
   "id": "7197bd8c-c3a6-4ddc-a66a-0b5fd2b00072",
   "metadata": {},
   "source": [
    "Much better survival rate for women - “Woman and children first”"
   ]
  },
  {
   "cell_type": "code",
   "execution_count": 15,
   "id": "6ae0387d-659b-4eb3-9f48-bfc53a2d6830",
   "metadata": {},
   "outputs": [
    {
     "data": {
      "text/html": [
       "<div>\n",
       "<style scoped>\n",
       "    .dataframe tbody tr th:only-of-type {\n",
       "        vertical-align: middle;\n",
       "    }\n",
       "\n",
       "    .dataframe tbody tr th {\n",
       "        vertical-align: top;\n",
       "    }\n",
       "\n",
       "    .dataframe thead th {\n",
       "        text-align: right;\n",
       "    }\n",
       "</style>\n",
       "<table border=\"1\" class=\"dataframe\">\n",
       "  <thead>\n",
       "    <tr style=\"text-align: right;\">\n",
       "      <th>Embarked</th>\n",
       "      <th>C</th>\n",
       "      <th>Q</th>\n",
       "      <th>S</th>\n",
       "    </tr>\n",
       "    <tr>\n",
       "      <th>Survived</th>\n",
       "      <th></th>\n",
       "      <th></th>\n",
       "      <th></th>\n",
       "    </tr>\n",
       "  </thead>\n",
       "  <tbody>\n",
       "    <tr>\n",
       "      <th>0</th>\n",
       "      <td>75</td>\n",
       "      <td>47</td>\n",
       "      <td>427</td>\n",
       "    </tr>\n",
       "    <tr>\n",
       "      <th>1</th>\n",
       "      <td>93</td>\n",
       "      <td>30</td>\n",
       "      <td>217</td>\n",
       "    </tr>\n",
       "  </tbody>\n",
       "</table>\n",
       "</div>"
      ],
      "text/plain": [
       "Embarked   C   Q    S\n",
       "Survived             \n",
       "0         75  47  427\n",
       "1         93  30  217"
      ]
     },
     "execution_count": 15,
     "metadata": {},
     "output_type": "execute_result"
    }
   ],
   "source": [
    "# Survival by embarked\n",
    "pd.pivot_table(\n",
    "    train, \n",
    "    index='Survived', \n",
    "    columns='Embarked', \n",
    "    values='Ticket', \n",
    "    aggfunc ='count'\n",
    ")"
   ]
  },
  {
   "cell_type": "markdown",
   "id": "153549a3-500f-487d-aafd-4c4b045b82e6",
   "metadata": {},
   "source": [
    "Embarked seems largely irrelevant. This overview isn't showing much but also just thinking about it intuitively, no reason to think the port from which the person embarked from would have any relevance."
   ]
  },
  {
   "cell_type": "markdown",
   "id": "7ad6bb6e-b8c7-4948-b9d7-54a7dd6dfb06",
   "metadata": {},
   "source": [
    "## 2. Feature Engineering\n",
    "1) Cabin - Simplify cabins (evaluated if cabin letter (cabin_letters) or the purchase of tickets across multiple cabins (cabin_multiple) impacted survival)\n",
    "2) Tickets - Do different ticket types impact survival rates?\n",
    "3) Name - Does a person's title relate to survival rates? I am curious if the captain went down with the ship."
   ]
  },
  {
   "cell_type": "markdown",
   "id": "3e8c46cb-93f5-4373-8440-52d24fd157bc",
   "metadata": {},
   "source": [
    "### 2.1 Cabin\n",
    "After looking at this, we may want to look at cabin by letter or by number. Let's create some categories for this:\n",
    " - Single letters\n",
    " - Multiple letters"
   ]
  },
  {
   "cell_type": "code",
   "execution_count": 16,
   "id": "81278ef5-1cae-40d1-9fe1-d6c44275e347",
   "metadata": {},
   "outputs": [
    {
     "data": {
      "text/plain": [
       "0    687\n",
       "1    180\n",
       "2     16\n",
       "3      6\n",
       "4      2\n",
       "Name: cabin_multiple, dtype: int64"
      ]
     },
     "execution_count": 16,
     "metadata": {},
     "output_type": "execute_result"
    }
   ],
   "source": [
    "train['cabin_multiple'] = train.Cabin.apply(lambda x: 0 if pd.isna(x) else len(x.split(' ')))\n",
    "train['cabin_multiple'].value_counts()"
   ]
  },
  {
   "cell_type": "markdown",
   "id": "52ddf2a9-c6b5-42f4-8dac-61503f9c8836",
   "metadata": {},
   "source": [
    "It looks like the vast majority did not have individual cabins, and only a few people owned more than one."
   ]
  },
  {
   "cell_type": "code",
   "execution_count": 17,
   "id": "72fa518b-806c-4842-976f-0da57fdf16f8",
   "metadata": {},
   "outputs": [
    {
     "data": {
      "text/html": [
       "<div>\n",
       "<style scoped>\n",
       "    .dataframe tbody tr th:only-of-type {\n",
       "        vertical-align: middle;\n",
       "    }\n",
       "\n",
       "    .dataframe tbody tr th {\n",
       "        vertical-align: top;\n",
       "    }\n",
       "\n",
       "    .dataframe thead th {\n",
       "        text-align: right;\n",
       "    }\n",
       "</style>\n",
       "<table border=\"1\" class=\"dataframe\">\n",
       "  <thead>\n",
       "    <tr style=\"text-align: right;\">\n",
       "      <th>cabin_multiple</th>\n",
       "      <th>0</th>\n",
       "      <th>1</th>\n",
       "      <th>2</th>\n",
       "      <th>3</th>\n",
       "      <th>4</th>\n",
       "    </tr>\n",
       "    <tr>\n",
       "      <th>Survived</th>\n",
       "      <th></th>\n",
       "      <th></th>\n",
       "      <th></th>\n",
       "      <th></th>\n",
       "      <th></th>\n",
       "    </tr>\n",
       "  </thead>\n",
       "  <tbody>\n",
       "    <tr>\n",
       "      <th>0</th>\n",
       "      <td>481.0</td>\n",
       "      <td>58.0</td>\n",
       "      <td>7.0</td>\n",
       "      <td>3.0</td>\n",
       "      <td>NaN</td>\n",
       "    </tr>\n",
       "    <tr>\n",
       "      <th>1</th>\n",
       "      <td>206.0</td>\n",
       "      <td>122.0</td>\n",
       "      <td>9.0</td>\n",
       "      <td>3.0</td>\n",
       "      <td>2.0</td>\n",
       "    </tr>\n",
       "  </tbody>\n",
       "</table>\n",
       "</div>"
      ],
      "text/plain": [
       "cabin_multiple      0      1    2    3    4\n",
       "Survived                                   \n",
       "0               481.0   58.0  7.0  3.0  NaN\n",
       "1               206.0  122.0  9.0  3.0  2.0"
      ]
     },
     "execution_count": 17,
     "metadata": {},
     "output_type": "execute_result"
    }
   ],
   "source": [
    "pd.pivot_table(\n",
    "    train, \n",
    "    index='Survived', \n",
    "    columns='cabin_multiple', \n",
    "    values='Ticket', \n",
    "    aggfunc='count'\n",
    ")"
   ]
  },
  {
   "cell_type": "markdown",
   "id": "1698de5d-f300-47f2-9173-b36ae5ff8f58",
   "metadata": {},
   "source": [
    "Next, let us look at the actual letter of the cabin they were in. I would expect that the cabins with the same letter are roughly in the same locations, or on the same floors, and logically if a cabin was near the lifeboats, they had a better chance of survival."
   ]
  },
  {
   "cell_type": "code",
   "execution_count": 18,
   "id": "c1f25cd9-ddde-4808-9524-6ebd52958586",
   "metadata": {},
   "outputs": [
    {
     "name": "stdout",
     "output_type": "stream",
     "text": [
      "n    687\n",
      "C     59\n",
      "B     47\n",
      "D     33\n",
      "E     32\n",
      "A     15\n",
      "F     13\n",
      "G      4\n",
      "T      1\n",
      "Name: cabin_letters, dtype: int64\n"
     ]
    }
   ],
   "source": [
    "# Creates categories based on the cabin letter (n stands for null). In this case we will treat null values like a separate category.\n",
    "train['cabin_letters'] = train.Cabin.apply(lambda x: str(x)[0])\n",
    "print(train.cabin_letters.value_counts())"
   ]
  },
  {
   "cell_type": "code",
   "execution_count": 19,
   "id": "94fcf970-c9d1-4ad5-998e-39eb091dda27",
   "metadata": {},
   "outputs": [
    {
     "data": {
      "text/html": [
       "<div>\n",
       "<style scoped>\n",
       "    .dataframe tbody tr th:only-of-type {\n",
       "        vertical-align: middle;\n",
       "    }\n",
       "\n",
       "    .dataframe tbody tr th {\n",
       "        vertical-align: top;\n",
       "    }\n",
       "\n",
       "    .dataframe thead th {\n",
       "        text-align: right;\n",
       "    }\n",
       "</style>\n",
       "<table border=\"1\" class=\"dataframe\">\n",
       "  <thead>\n",
       "    <tr style=\"text-align: right;\">\n",
       "      <th>cabin_letters</th>\n",
       "      <th>A</th>\n",
       "      <th>B</th>\n",
       "      <th>C</th>\n",
       "      <th>D</th>\n",
       "      <th>E</th>\n",
       "      <th>F</th>\n",
       "      <th>G</th>\n",
       "      <th>T</th>\n",
       "      <th>n</th>\n",
       "    </tr>\n",
       "    <tr>\n",
       "      <th>Survived</th>\n",
       "      <th></th>\n",
       "      <th></th>\n",
       "      <th></th>\n",
       "      <th></th>\n",
       "      <th></th>\n",
       "      <th></th>\n",
       "      <th></th>\n",
       "      <th></th>\n",
       "      <th></th>\n",
       "    </tr>\n",
       "  </thead>\n",
       "  <tbody>\n",
       "    <tr>\n",
       "      <th>0</th>\n",
       "      <td>8.0</td>\n",
       "      <td>12.0</td>\n",
       "      <td>24.0</td>\n",
       "      <td>8.0</td>\n",
       "      <td>8.0</td>\n",
       "      <td>5.0</td>\n",
       "      <td>2.0</td>\n",
       "      <td>1.0</td>\n",
       "      <td>481.0</td>\n",
       "    </tr>\n",
       "    <tr>\n",
       "      <th>1</th>\n",
       "      <td>7.0</td>\n",
       "      <td>35.0</td>\n",
       "      <td>35.0</td>\n",
       "      <td>25.0</td>\n",
       "      <td>24.0</td>\n",
       "      <td>8.0</td>\n",
       "      <td>2.0</td>\n",
       "      <td>NaN</td>\n",
       "      <td>206.0</td>\n",
       "    </tr>\n",
       "  </tbody>\n",
       "</table>\n",
       "</div>"
      ],
      "text/plain": [
       "cabin_letters    A     B     C     D     E    F    G    T      n\n",
       "Survived                                                        \n",
       "0              8.0  12.0  24.0   8.0   8.0  5.0  2.0  1.0  481.0\n",
       "1              7.0  35.0  35.0  25.0  24.0  8.0  2.0  NaN  206.0"
      ]
     },
     "execution_count": 19,
     "metadata": {},
     "output_type": "execute_result"
    }
   ],
   "source": [
    "# Comparing surivial rate by cabin\n",
    "pd.pivot_table(\n",
    "    train, \n",
    "    index='Survived', \n",
    "    columns='cabin_letters', \n",
    "    values='Name', \n",
    "    aggfunc='count'\n",
    ")"
   ]
  },
  {
   "cell_type": "markdown",
   "id": "a5554b47-4bd5-4688-969e-c865a2b706a2",
   "metadata": {},
   "source": [
    "On first glance it does not seem all that relevant."
   ]
  },
  {
   "cell_type": "markdown",
   "id": "22e1a8e6-dd13-46c3-b0ac-ff73a73e8cba",
   "metadata": {},
   "source": [
    "### 2.2 Ticket\n",
    "\n",
    "Judging by the initial overview and the description of the feature on Kaggle, this feature is likely not going to provide information that is of much use but let's try and have a more detailed look. Let's begin by having a look at the numeric and non-numeric ticket count:"
   ]
  },
  {
   "cell_type": "code",
   "execution_count": 20,
   "id": "a1983d89-0eea-4c30-b702-5148bc90d354",
   "metadata": {},
   "outputs": [
    {
     "data": {
      "text/plain": [
       "1    661\n",
       "0    230\n",
       "Name: numeric_ticket, dtype: int64"
      ]
     },
     "execution_count": 20,
     "metadata": {},
     "output_type": "execute_result"
    }
   ],
   "source": [
    "train['numeric_ticket'] = train.Ticket.apply(lambda x: 1 if x.isnumeric() else 0)\n",
    "train['numeric_ticket'].value_counts()"
   ]
  },
  {
   "cell_type": "markdown",
   "id": "3da64b55-beaa-4bbd-be77-d52c6aece9ed",
   "metadata": {},
   "source": [
    "Now let's have a look at the letters in the tickets:"
   ]
  },
  {
   "cell_type": "code",
   "execution_count": 21,
   "id": "f39891c3-cec5-4051-b915-d002ffeb6ca7",
   "metadata": {},
   "outputs": [
    {
     "data": {
      "text/plain": [
       "0            665\n",
       "pc            60\n",
       "ca            41\n",
       "a5            21\n",
       "stono2        18\n",
       "sotonoq       15\n",
       "scparis       11\n",
       "wc            10\n",
       "a4             7\n",
       "soc            6\n",
       "fcc            5\n",
       "c              5\n",
       "sopp           3\n",
       "pp             3\n",
       "wep            3\n",
       "ppp            2\n",
       "scah           2\n",
       "sotono2        2\n",
       "swpp           2\n",
       "fc             1\n",
       "scahbasle      1\n",
       "as             1\n",
       "sp             1\n",
       "sc             1\n",
       "scow           1\n",
       "fa             1\n",
       "sop            1\n",
       "sca4           1\n",
       "casoton        1\n",
       "Name: ticket_letters, dtype: int64"
      ]
     },
     "execution_count": 21,
     "metadata": {},
     "output_type": "execute_result"
    }
   ],
   "source": [
    "train['ticket_letters'] = train.Ticket.apply(lambda x: ''.join(x.split(' ')[:-1]).replace('.', '').replace('/', '').lower() if len(x.split(' ')[:-1]) > 0 else 0)\n",
    "train['ticket_letters'].value_counts()"
   ]
  },
  {
   "cell_type": "markdown",
   "id": "7596063f-d8db-4542-bdf5-4dc5c24ee8d5",
   "metadata": {},
   "source": [
    "Letters don't see to be of much use for model training. Let's check out the survival rate for numeric vs non-numeric tickets:"
   ]
  },
  {
   "cell_type": "code",
   "execution_count": 22,
   "id": "faf12a3c-78f2-4bcc-846a-7d7b788d0bac",
   "metadata": {},
   "outputs": [
    {
     "data": {
      "text/html": [
       "<div>\n",
       "<style scoped>\n",
       "    .dataframe tbody tr th:only-of-type {\n",
       "        vertical-align: middle;\n",
       "    }\n",
       "\n",
       "    .dataframe tbody tr th {\n",
       "        vertical-align: top;\n",
       "    }\n",
       "\n",
       "    .dataframe thead th {\n",
       "        text-align: right;\n",
       "    }\n",
       "</style>\n",
       "<table border=\"1\" class=\"dataframe\">\n",
       "  <thead>\n",
       "    <tr style=\"text-align: right;\">\n",
       "      <th>numeric_ticket</th>\n",
       "      <th>0</th>\n",
       "      <th>1</th>\n",
       "    </tr>\n",
       "    <tr>\n",
       "      <th>Survived</th>\n",
       "      <th></th>\n",
       "      <th></th>\n",
       "    </tr>\n",
       "  </thead>\n",
       "  <tbody>\n",
       "    <tr>\n",
       "      <th>0</th>\n",
       "      <td>142</td>\n",
       "      <td>407</td>\n",
       "    </tr>\n",
       "    <tr>\n",
       "      <th>1</th>\n",
       "      <td>88</td>\n",
       "      <td>254</td>\n",
       "    </tr>\n",
       "  </tbody>\n",
       "</table>\n",
       "</div>"
      ],
      "text/plain": [
       "numeric_ticket    0    1\n",
       "Survived                \n",
       "0               142  407\n",
       "1                88  254"
      ]
     },
     "execution_count": 22,
     "metadata": {},
     "output_type": "execute_result"
    }
   ],
   "source": [
    "pd.pivot_table(\n",
    "    train, \n",
    "    index='Survived',\n",
    "    columns='numeric_ticket',\n",
    "    values='Ticket',\n",
    "    aggfunc='count'\n",
    ")"
   ]
  },
  {
   "cell_type": "code",
   "execution_count": 23,
   "id": "64acb188-ca6c-4b7e-9ba7-e172d1f7f119",
   "metadata": {},
   "outputs": [
    {
     "data": {
      "text/html": [
       "<div>\n",
       "<style scoped>\n",
       "    .dataframe tbody tr th:only-of-type {\n",
       "        vertical-align: middle;\n",
       "    }\n",
       "\n",
       "    .dataframe tbody tr th {\n",
       "        vertical-align: top;\n",
       "    }\n",
       "\n",
       "    .dataframe thead th {\n",
       "        text-align: right;\n",
       "    }\n",
       "</style>\n",
       "<table border=\"1\" class=\"dataframe\">\n",
       "  <thead>\n",
       "    <tr style=\"text-align: right;\">\n",
       "      <th>ticket_letters</th>\n",
       "      <th>0</th>\n",
       "      <th>a4</th>\n",
       "      <th>a5</th>\n",
       "      <th>as</th>\n",
       "      <th>c</th>\n",
       "      <th>ca</th>\n",
       "      <th>casoton</th>\n",
       "      <th>fa</th>\n",
       "      <th>fc</th>\n",
       "      <th>fcc</th>\n",
       "      <th>...</th>\n",
       "      <th>soc</th>\n",
       "      <th>sop</th>\n",
       "      <th>sopp</th>\n",
       "      <th>sotono2</th>\n",
       "      <th>sotonoq</th>\n",
       "      <th>sp</th>\n",
       "      <th>stono2</th>\n",
       "      <th>swpp</th>\n",
       "      <th>wc</th>\n",
       "      <th>wep</th>\n",
       "    </tr>\n",
       "    <tr>\n",
       "      <th>Survived</th>\n",
       "      <th></th>\n",
       "      <th></th>\n",
       "      <th></th>\n",
       "      <th></th>\n",
       "      <th></th>\n",
       "      <th></th>\n",
       "      <th></th>\n",
       "      <th></th>\n",
       "      <th></th>\n",
       "      <th></th>\n",
       "      <th></th>\n",
       "      <th></th>\n",
       "      <th></th>\n",
       "      <th></th>\n",
       "      <th></th>\n",
       "      <th></th>\n",
       "      <th></th>\n",
       "      <th></th>\n",
       "      <th></th>\n",
       "      <th></th>\n",
       "      <th></th>\n",
       "    </tr>\n",
       "  </thead>\n",
       "  <tbody>\n",
       "    <tr>\n",
       "      <th>0</th>\n",
       "      <td>410.0</td>\n",
       "      <td>7.0</td>\n",
       "      <td>19.0</td>\n",
       "      <td>1.0</td>\n",
       "      <td>3.0</td>\n",
       "      <td>27.0</td>\n",
       "      <td>1.0</td>\n",
       "      <td>1.0</td>\n",
       "      <td>1.0</td>\n",
       "      <td>1.0</td>\n",
       "      <td>...</td>\n",
       "      <td>5.0</td>\n",
       "      <td>1.0</td>\n",
       "      <td>3.0</td>\n",
       "      <td>2.0</td>\n",
       "      <td>13.0</td>\n",
       "      <td>1.0</td>\n",
       "      <td>10.0</td>\n",
       "      <td>NaN</td>\n",
       "      <td>9.0</td>\n",
       "      <td>2.0</td>\n",
       "    </tr>\n",
       "    <tr>\n",
       "      <th>1</th>\n",
       "      <td>255.0</td>\n",
       "      <td>NaN</td>\n",
       "      <td>2.0</td>\n",
       "      <td>NaN</td>\n",
       "      <td>2.0</td>\n",
       "      <td>14.0</td>\n",
       "      <td>NaN</td>\n",
       "      <td>NaN</td>\n",
       "      <td>NaN</td>\n",
       "      <td>4.0</td>\n",
       "      <td>...</td>\n",
       "      <td>1.0</td>\n",
       "      <td>NaN</td>\n",
       "      <td>NaN</td>\n",
       "      <td>NaN</td>\n",
       "      <td>2.0</td>\n",
       "      <td>NaN</td>\n",
       "      <td>8.0</td>\n",
       "      <td>2.0</td>\n",
       "      <td>1.0</td>\n",
       "      <td>1.0</td>\n",
       "    </tr>\n",
       "  </tbody>\n",
       "</table>\n",
       "<p>2 rows × 29 columns</p>\n",
       "</div>"
      ],
      "text/plain": [
       "ticket_letters      0   a4    a5   as    c    ca  casoton   fa   fc  fcc  ...  \\\n",
       "Survived                                                                  ...   \n",
       "0               410.0  7.0  19.0  1.0  3.0  27.0      1.0  1.0  1.0  1.0  ...   \n",
       "1               255.0  NaN   2.0  NaN  2.0  14.0      NaN  NaN  NaN  4.0  ...   \n",
       "\n",
       "ticket_letters  soc  sop  sopp  sotono2  sotonoq   sp  stono2  swpp   wc  wep  \n",
       "Survived                                                                       \n",
       "0               5.0  1.0   3.0      2.0     13.0  1.0    10.0   NaN  9.0  2.0  \n",
       "1               1.0  NaN   NaN      NaN      2.0  NaN     8.0   2.0  1.0  1.0  \n",
       "\n",
       "[2 rows x 29 columns]"
      ]
     },
     "execution_count": 23,
     "metadata": {},
     "output_type": "execute_result"
    }
   ],
   "source": [
    "# Survival rate across different ticket types \n",
    "pd.pivot_table(\n",
    "    train,\n",
    "    index='Survived',\n",
    "    columns='ticket_letters',\n",
    "    values='Ticket',\n",
    "    aggfunc='count'\n",
    ")"
   ]
  },
  {
   "cell_type": "markdown",
   "id": "21327187-b3ff-411d-98c4-e91c1f7ca4b7",
   "metadata": {},
   "source": [
    "Ticket does not seem to be all that relevant to the task at hand.\n",
    "\n",
    "### 2.3 Name\n",
    "The only aspect of this feature which I am interested in is the title. It will serve a very similar purpose as the Sax feature but might provide some additional detail. Let's pull out the titles as a separate feature (Mr., Ms., Master., etc:)"
   ]
  },
  {
   "cell_type": "code",
   "execution_count": 24,
   "id": "ed71c71f-7c7f-4fdd-9e43-a62136c0ee01",
   "metadata": {},
   "outputs": [
    {
     "data": {
      "text/plain": [
       "Mr              517\n",
       "Miss            182\n",
       "Mrs             125\n",
       "Master           40\n",
       "Dr                7\n",
       "Rev               6\n",
       "Mlle              2\n",
       "Major             2\n",
       "Col               2\n",
       "the Countess      1\n",
       "Capt              1\n",
       "Ms                1\n",
       "Sir               1\n",
       "Lady              1\n",
       "Mme               1\n",
       "Don               1\n",
       "Jonkheer          1\n",
       "Name: name_title, dtype: int64"
      ]
     },
     "execution_count": 24,
     "metadata": {},
     "output_type": "execute_result"
    }
   ],
   "source": [
    "train['name_title'] = train.Name.apply(lambda x: x.split(',')[1].split('.')[0].strip())\n",
    "train['name_title'].value_counts()"
   ]
  },
  {
   "cell_type": "markdown",
   "id": "0d91ee3c-c2a1-4601-889a-b10a4cb28fa2",
   "metadata": {},
   "source": [
    "## 3. Data Preprocessing for Model Training\n",
    "\n",
    "1) Drop null values from Embarked (only 2)\n",
    "2) A number of features will not be of any real use and will be removed. PassendegId, Name and Ticket will be removed but I will keep some of the derived features. List of features that will be retained:\n",
    "    - `Pclass`\n",
    "    - `Sex`\n",
    "    - `Age`\n",
    "    - `SibSp`\n",
    "    - `Parch`\n",
    "    - `Embarked`\n",
    "    - `cabin_multiple`\n",
    "    - `name_title`\n",
    "    - `norm_fare`\n",
    "3) Apply categorical transformation on all of the available data. Usually we would use a transformer, but with this approach we can ensure that our traning and test data have the same colums. We also may be able to infer something about the shape of the test data using this method.\n",
    "4) Impute data with mean for fare and age (Also experimented with median)\n",
    "5) Logarithmic normalization of `Fare` give more semblance of a normal distribution\n",
    "6) Application of StandardScaler for data scaling"
   ]
  },
  {
   "cell_type": "markdown",
   "id": "8162fce9-30a0-43f8-84f6-c67ccb6e2878",
   "metadata": {},
   "source": [
    "### 3.1 Applying Feature Engineering"
   ]
  },
  {
   "cell_type": "code",
   "execution_count": 25,
   "id": "766a88f8-3687-4f33-b3ba-fa08c391d5e3",
   "metadata": {},
   "outputs": [
    {
     "data": {
      "image/png": "[encoded data removed]",
      "text/plain": [
       "<Figure size 640x480 with 1 Axes>"
      ]
     },
     "metadata": {},
     "output_type": "display_data"
    }
   ],
   "source": [
    "# Setting up all categorical variables that will be used for both the training and the test sets \n",
    "all_data['cabin_multiple'] = all_data.Cabin.apply(lambda x: 0 if pd.isna(x) else len(x.split(' ')))\n",
    "all_data['name_title'] = all_data.Name.apply(lambda x: x.split(',')[1].split('.')[0].strip())\n",
    "\n",
    "# Engineered categorical features which ended up not being used\n",
    "# all_data['cabin_letters'] = all_data.Cabin.apply(lambda x: str(x)[0])\n",
    "# all_data['numeric_ticket'] = all_data.Ticket.apply(lambda x: 1 if x.isnumeric() else 0)\n",
    "# all_data['ticket_letters'] = all_data.Ticket.apply(lambda x: ''.join(x.split(' ')[:-1]).replace('.','').replace('/','').lower() if len(x.split(' ')[:-1]) > 0 else 0)\n",
    "\n",
    "# Impute nulls for continuous data \n",
    "#all_data.Age = all_data.Age.fillna(training.Age.mean())\n",
    "all_data.Age = all_data.Age.fillna(train.Age.median())\n",
    "#all_data.Fare = all_data.Fare.fillna(training.Fare.mean())\n",
    "all_data.Fare = all_data.Fare.fillna(train.Fare.median())\n",
    "\n",
    "# Drop null 'Embarked' rows as they are of no relevance (2 instances in the tarining set and none in the testing set)\n",
    "all_data.dropna(subset=['Embarked'], inplace=True)\n",
    "\n",
    "# log norm of fare (used)\n",
    "all_data['norm_fare'] = np.log(all_data.Fare+1)\n",
    "all_data['norm_fare'].hist()\n",
    "\n",
    "# Converting fare to a categorical feature for pd.get_dummies()\n",
    "all_data.Pclass = all_data.Pclass.astype(str)\n",
    "\n",
    "# Createing dummy variables from categories (also can use OneHotEncoder)\n",
    "all_dummies = pd.get_dummies(all_data[['Pclass', 'Sex', 'Age', 'SibSp', 'Parch', 'norm_fare', 'Embarked', 'cabin_multiple', 'name_title', 'train_test']])\n",
    "# all_dummies = pd.get_dummies(data=all_data, columns=['Pclass', 'Sex', 'Age', 'SibSp', 'Parch', 'norm_fare', 'Embarked', 'cabin_multiple', 'name_title'])"
   ]
  },
  {
   "cell_type": "markdown",
   "id": "41dd50b1-35df-4bea-bf2e-d2b3c99c4567",
   "metadata": {},
   "source": [
    "### 3.2 Train/Test split"
   ]
  },
  {
   "cell_type": "code",
   "execution_count": 26,
   "id": "39dee43b-d2be-48bd-a7cf-b48c0288d26c",
   "metadata": {},
   "outputs": [
    {
     "name": "stdout",
     "output_type": "stream",
     "text": [
      "y_train shape -> (889,)\n"
     ]
    }
   ],
   "source": [
    "# I want to make sure that the data remains as a pandas dataframe when splitting. Features get split based on the train_test flag from earlier:\n",
    "X_train = pd.DataFrame(all_dummies[all_dummies.train_test == 1].drop(['train_test'], axis=1))\n",
    "X_test = pd.DataFrame(all_dummies[all_dummies.train_test == 0].drop(['train_test'], axis=1))\n",
    "\n",
    "# Same logic for training labels\n",
    "y_train = pd.DataFrame(all_data[all_data.train_test == 1].Survived)\n",
    "y_train = y_train.squeeze()\n",
    "print('y_train shape ->', y_train.shape)"
   ]
  },
  {
   "cell_type": "markdown",
   "id": "67b555fb-02cb-4c69-aa99-61b924464bab",
   "metadata": {},
   "source": [
    "### 3.3 Scaling"
   ]
  },
  {
   "cell_type": "code",
   "execution_count": 27,
   "id": "76e70414-48f5-4909-8a9f-2973531119f6",
   "metadata": {},
   "outputs": [],
   "source": [
    "# Now to Scale the data\n",
    "scale = StandardScaler()\n",
    "all_dummies_scaled = all_dummies.copy()\n",
    "all_dummies_scaled[['Age', 'SibSp', 'Parch', 'norm_fare']] = scale.fit_transform(all_dummies_scaled[['Age', 'SibSp', 'Parch', 'norm_fare']])\n",
    "all_dummies_scaled\n",
    "\n",
    "X_train_scaled = all_dummies_scaled[all_dummies_scaled.train_test == 1].drop(['train_test'], axis = 1)\n",
    "X_test_scaled = all_dummies_scaled[all_dummies_scaled.train_test == 0].drop(['train_test'], axis = 1)\n",
    "\n",
    "y_train = all_data[all_data.train_test == 1].Survived"
   ]
  },
  {
   "cell_type": "markdown",
   "id": "6d078c99-6e4a-4def-b83b-6ab283a8b75d",
   "metadata": {},
   "source": [
    "### 3.4 Finalized Data Correlations"
   ]
  },
  {
   "cell_type": "code",
   "execution_count": 28,
   "id": "c09df486-643a-4cc0-baa8-f49a8d7ee1d7",
   "metadata": {},
   "outputs": [
    {
     "data": {
      "image/png": "[encoded data removed]",
      "text/plain": [
       "<Figure size 1000x500 with 1 Axes>"
      ]
     },
     "metadata": {},
     "output_type": "display_data"
    }
   ],
   "source": [
    "# Concatenate into a full dataset\n",
    "full_df = pd.concat([X_train, y_train], axis=1)\n",
    "\n",
    "correlation = full_df.corr()['Survived'].sort_values(ascending=False)\n",
    "\n",
    "# Correlation graph\n",
    "correlation[1:].plot(kind='bar', figsize=(10,5), title='Survivability Correlation')\n",
    "plt.show()"
   ]
  },
  {
   "cell_type": "markdown",
   "id": "40c1685a-9c02-4d07-96d2-6b1f52deb863",
   "metadata": {},
   "source": [
    "## 4. Metrics and Helper Functions\n",
    "The metric which the competition is scored on is <b>accuracy</b> so that is what I will stick to as well. I find the <b>F1 score</b> to be more reliable as it is a better descriptior of a model's shortcomings. It also does better with unevenly distributed target calsses as we have in this dataset."
   ]
  },
  {
   "cell_type": "markdown",
   "id": "f73ce0bd-bf38-4788-9dd2-a2782e0c44c1",
   "metadata": {},
   "source": [
    "### 4.1 Model Evaluation Functions"
   ]
  },
  {
   "cell_type": "code",
   "execution_count": 29,
   "id": "bc37dcc3-6a1f-4421-888a-5a63e6ce5323",
   "metadata": {},
   "outputs": [],
   "source": [
    "# Setting up a constant for the metric input to easily shift between accuracy and F1 score\n",
    "METRIC = 'accuracy'\n",
    "# METRIC = 'f1_weighted'"
   ]
  },
  {
   "cell_type": "code",
   "execution_count": 30,
   "id": "fdf0120b-168a-40f1-be7b-dae919f37524",
   "metadata": {},
   "outputs": [],
   "source": [
    "def model_evaluation(models: dict, X_train, y_train):\n",
    "    \"\"\"\n",
    "    This function uses Cross Validation to evaluate models' perfomence. Returns a report of the models' names and mean scores.\n",
    "    \"\"\"\n",
    "    evaluation_report = {}\n",
    "    for model_name, model in models.items():\n",
    "        \n",
    "        if model_name in ['KNeighbors Classifier']:\n",
    "            X_train = X_train.values  # converting X_train to np.array with .values to avoid warning\n",
    "            \n",
    "        cv = cross_val_score(\n",
    "            model, \n",
    "            X_train, \n",
    "            y_train, \n",
    "            cv=5, \n",
    "            scoring=METRIC, \n",
    "            n_jobs=-1\n",
    "        )\n",
    "\n",
    "        evaluation_report[model_name] = cv.mean()\n",
    "        \n",
    "        cv_rounded = [f\"{round(score * 100, 1)}%\" for score in cv]\n",
    "        cv_mean = f\"{round(cv.mean() * 100, 1)}%\"\n",
    "        \n",
    "        print(f\"{model_name}:\\n- CV F1 scores: {' | '.join([item for item in cv_rounded])}\\n- CV mean: {cv_mean}\\n\")\n",
    "\n",
    "    return evaluation_report"
   ]
  },
  {
   "cell_type": "code",
   "execution_count": 31,
   "id": "dc89e2c7-f573-45ed-918a-2d10d6c682c1",
   "metadata": {},
   "outputs": [],
   "source": [
    "def model_optimisation(models: dict, X_train, y_train, params: dict) -> dict:\n",
    "    '''\n",
    "    This function uses dictionaries of models and parameters on which it will run a grid \n",
    "    search cross-validation to determine which option is the optimal one for each model.\n",
    "    Returns a dictionary of models with their best estimators applied.\n",
    "    '''\n",
    "    tuned_models = {}\n",
    "    for model_name, model in models.items():\n",
    "        \n",
    "        print(f\"{model_name}:\")\n",
    "        \n",
    "        tuned_model = GridSearchCV(\n",
    "            model,\n",
    "            param_grid=params[model_name],\n",
    "            cv=5,\n",
    "            scoring=METRIC,\n",
    "            verbose=True,\n",
    "            n_jobs=-1\n",
    "        )\n",
    "        \n",
    "        tuned_model.fit(X_train, y_train)\n",
    "        tuned_models[model_name] = [tuned_model.best_estimator_, tuned_model.best_score_]\n",
    "\n",
    "        # Report model scores and best parameters\n",
    "        print('- Best Grid Search F1 Score: ' + str(round(tuned_model.best_score_ * 100, 1)) + '%')\n",
    "        print('- Best Parameters: ' + str(tuned_model.best_params_))\n",
    "        print()\n",
    "        \n",
    "    return tuned_models"
   ]
  },
  {
   "cell_type": "markdown",
   "id": "1860a363-ff0f-4158-a131-3dea537fb719",
   "metadata": {},
   "source": [
    "### 4.2 Metric Functions"
   ]
  },
  {
   "cell_type": "code",
   "execution_count": 32,
   "id": "07f84909-9ab2-445d-a623-78491c3f928b",
   "metadata": {},
   "outputs": [],
   "source": [
    "def generate_classification_report(y_train, y_train_preds, y_test=None, y_test_preds=None):\n",
    "    \"\"\"\n",
    "    The function prints a classification report for the train data and test data if available.\n",
    "    \"\"\"\n",
    "    print(),\n",
    "    print(\"--------------------  Train set scores  --------------------\"),\n",
    "    print(classification_report(y_train, y_train_preds))\n",
    "    \n",
    "    if y_test is not None and y_test_preds is not None:\n",
    "        print(),\n",
    "        print(\"--------------------  Test set scores  --------------------\"),\n",
    "        print(classification_report(y_test, y_test_preds))"
   ]
  },
  {
   "cell_type": "markdown",
   "id": "35b9b5ef-a1d9-4ea1-bb23-5dcc55a8f731",
   "metadata": {},
   "source": [
    "### 4.3 Helper Functions\n",
    "This section is also where I have stored all functions with miscellaneous uses that will be used throughout the rest of this notebook."
   ]
  },
  {
   "cell_type": "code",
   "execution_count": 33,
   "id": "64960766-d63d-4bb1-9eee-e7f095e20de2",
   "metadata": {},
   "outputs": [],
   "source": [
    "def generate_submissions_csv(predictions, file_name):\n",
    "    '''\n",
    "    A function that export predictions to a CSV file in a format compatible with the Kaggle requirements\n",
    "    '''\n",
    "    # Create submissions dictionary in the format defined by Kaggle\n",
    "    submissions_dict = {'PassengerId': test.PassengerId, 'Survived': predictions}\n",
    "    submissions_df = pd.DataFrame(data=submissions_dict)\n",
    "\n",
    "    # Setup export folder\n",
    "    base_path = 'submissions'\n",
    "    os.makedirs(base_path, exist_ok=True)\n",
    "\n",
    "    # Generate CSV\n",
    "    file_path = os.path.join(base_path, file_name)\n",
    "    submissions_df.to_csv(file_path, index=False)\n",
    "\n",
    "    print(f'File \"{file_name}\" saved to <./{base_path}>')"
   ]
  },
  {
   "cell_type": "code",
   "execution_count": 34,
   "id": "aa770570-08e2-449f-b34c-6c997d4efc6d",
   "metadata": {},
   "outputs": [],
   "source": [
    "def save_model(model, file_name):\n",
    "    \"\"\"\n",
    "    Save .pkl file\n",
    "    \"\"\"\n",
    "    dir = 'models'\n",
    "    path = os.path.join(dir, file_name)\n",
    "    os.makedirs(dir, exist_ok=True)\n",
    "\n",
    "    with open(path, \"wb\") as file_obj:\n",
    "        pickle.dump(model, file_obj)\n",
    "        \n",
    "    print(f'File \"{file_name}\" saved to <./{dir}>')\n",
    "\n",
    "\n",
    "def load_model(file_name):\n",
    "    \"\"\"\n",
    "    Load .pkl file\n",
    "    \"\"\"\n",
    "    dir = 'models'\n",
    "    path = os.path.join(dir, file_name)\n",
    "    with open(path, 'rb') as file:\n",
    "        model = pickle.load(file)\n",
    "        \n",
    "    print(f'File \"{file_name}\" loaded')\n",
    "    \n",
    "    return model"
   ]
  },
  {
   "cell_type": "markdown",
   "id": "d3098fd0-4f62-4a60-a580-9c0e0dbfb9f1",
   "metadata": {},
   "source": [
    "## 5. Model Selection and Baseline Evaluation\n",
    "To start with I would like to see how various different models perform with default parameters. I tried the models in the below list using 5 fold cross validation to get a baseline. I can later compare these results to the tuned version of these models and see how much tuning improves the performance of each. I can get away with using large number of models for this project since the dataset is not large at all and fitting all these models should only take a few seconds each."
   ]
  },
  {
   "cell_type": "code",
   "execution_count": 35,
   "id": "552e75f1-f8b7-4ac5-81aa-ee4ad39e01a2",
   "metadata": {},
   "outputs": [],
   "source": [
    "models = {\n",
    "    'Logistic Regression': LogisticRegression(max_iter=2000),\n",
    "    'Decision Tree Classifier': DecisionTreeClassifier(random_state=1),\n",
    "    'Random Forest Classifier': RandomForestClassifier(random_state=1),\n",
    "    'GaussianNB': GaussianNB(),\n",
    "    'KNeighbors Classifier': KNeighborsClassifier(),\n",
    "    'SVC': SVC(probability=True),\n",
    "    'XGB Classifier': XGBClassifier(random_state=1),\n",
    "    'CatBoost Classifier': CatBoostClassifier(silent=True)\n",
    "}"
   ]
  },
  {
   "cell_type": "markdown",
   "id": "0626e9fc-109f-48fa-904b-22f581308d2b",
   "metadata": {},
   "source": [
    "### 5.1 Scaled vs non-scaled data testing\n",
    "I want to check what difference scaling the data will have on the scores."
   ]
  },
  {
   "cell_type": "code",
   "execution_count": 36,
   "id": "e5c35295-4ff0-485a-b6fe-b70f8a30d2c1",
   "metadata": {},
   "outputs": [
    {
     "name": "stdout",
     "output_type": "stream",
     "text": [
      "Logistic Regression:\n",
      "- CV F1 scores: 83.1% | 81.5% | 80.3% | 81.5% | 85.3%\n",
      "- CV mean: 82.3%\n",
      "\n",
      "Decision Tree Classifier:\n",
      "- CV F1 scores: 75.3% | 77.0% | 83.1% | 75.3% | 80.2%\n",
      "- CV mean: 78.2%\n",
      "\n",
      "Random Forest Classifier:\n",
      "- CV F1 scores: 80.9% | 79.2% | 86.0% | 75.8% | 83.1%\n",
      "- CV mean: 81.0%\n",
      "\n",
      "GaussianNB:\n",
      "- CV F1 scores: 68.0% | 76.4% | 79.8% | 78.1% | 70.1%\n",
      "- CV mean: 74.5%\n",
      "\n",
      "KNeighbors Classifier:\n",
      "- CV F1 scores: 77.0% | 79.2% | 80.3% | 80.3% | 83.6%\n",
      "- CV mean: 80.1%\n",
      "\n",
      "SVC:\n",
      "- CV F1 scores: 68.5% | 75.8% | 70.8% | 71.9% | 74.6%\n",
      "- CV mean: 72.3%\n",
      "\n",
      "XGB Classifier:\n",
      "- CV F1 scores: 83.1% | 81.5% | 86.0% | 79.8% | 82.5%\n",
      "- CV mean: 82.6%\n",
      "\n",
      "CatBoost Classifier:\n",
      "- CV F1 scores: 83.7% | 80.3% | 83.7% | 82.0% | 84.2%\n",
      "- CV mean: 82.8%\n",
      "\n"
     ]
    }
   ],
   "source": [
    "_ = model_evaluation(models, X_train, y_train)"
   ]
  },
  {
   "cell_type": "code",
   "execution_count": 37,
   "id": "644469f8-7955-4081-ad3c-089472f9038d",
   "metadata": {},
   "outputs": [
    {
     "name": "stdout",
     "output_type": "stream",
     "text": [
      "Logistic Regression:\n",
      "- CV F1 scores: 83.1% | 81.5% | 80.3% | 81.5% | 85.3%\n",
      "- CV mean: 82.3%\n",
      "\n",
      "Decision Tree Classifier:\n",
      "- CV F1 scores: 76.4% | 77.0% | 83.1% | 75.3% | 80.2%\n",
      "- CV mean: 78.4%\n",
      "\n",
      "Random Forest Classifier:\n",
      "- CV F1 scores: 80.3% | 79.2% | 86.0% | 75.3% | 83.1%\n",
      "- CV mean: 80.8%\n",
      "\n",
      "GaussianNB:\n",
      "- CV F1 scores: 62.4% | 65.7% | 79.8% | 78.1% | 62.7%\n",
      "- CV mean: 69.7%\n",
      "\n",
      "KNeighbors Classifier:\n",
      "- CV F1 scores: 81.5% | 79.2% | 84.8% | 82.0% | 84.2%\n",
      "- CV mean: 82.3%\n",
      "\n",
      "SVC:\n",
      "- CV F1 scores: 84.8% | 82.6% | 82.0% | 80.9% | 86.4%\n",
      "- CV mean: 83.4%\n",
      "\n",
      "XGB Classifier:\n",
      "- CV F1 scores: 83.1% | 81.5% | 86.0% | 79.8% | 82.5%\n",
      "- CV mean: 82.6%\n",
      "\n",
      "CatBoost Classifier:\n",
      "- CV F1 scores: 83.7% | 80.3% | 83.7% | 82.0% | 84.2%\n",
      "- CV mean: 82.8%\n",
      "\n"
     ]
    }
   ],
   "source": [
    "_ = model_evaluation(models, X_train_scaled, y_train)"
   ]
  },
  {
   "cell_type": "markdown",
   "id": "993ee7c4-bc6e-4122-955a-6f3397ee5154",
   "metadata": {},
   "source": [
    "Some models are unaffected by the scaling and the rest got improved scores. GaussianNB is the only exception since it's score reduced. That model's overall performance is significantly lower than the rest so it will be getting dropped from the list."
   ]
  },
  {
   "cell_type": "markdown",
   "id": "a29dec7d-f9b4-40e7-bbcf-20da155c4fab",
   "metadata": {},
   "source": [
    "### 5.2 Voting classifier \n",
    "\n",
    "The VotingClassifier in scikit-learn combines the predictions from multiple individual classifiers to make a final prediction. There are two main types of voting strategies:\n",
    "\n",
    "- Hard Voting Classifier - In the hard voting scheme, each classifier in the ensemble casts a single \"vote\" for a particular class (\"yes\" or \"no\"). The final prediction is determined by a majority vote. To ensure a decisive outcome, it's recommended to use an odd number of classifiers.\n",
    "\n",
    "- Soft Voting Classifier - The soft voting scheme considers the confidence or probability assigned by each classifier for each class. Instead of a simple majority vote, it takes the average of the predicted probabilities. If the average confidence for a particular class surpasses 50%, that class is chosen as the final prediction.\n",
    "\n",
    "The choice between hard and soft voting often depends on the characteristics of the individual classifiers in the ensemble. Hard voting is suitable when classifiers are diverse and have varying strengths, while soft voting is effective when classifiers provide probability estimates, allowing for a more nuanced decision-making process.\n",
    "\n",
    "The model will require tuples of model name and model object which I can generate using the models dictionary."
   ]
  },
  {
   "cell_type": "code",
   "execution_count": 38,
   "id": "39822e0f-fca4-43cc-bb1f-d2a3a18609cb",
   "metadata": {},
   "outputs": [],
   "source": [
    "# Build model\n",
    "voting_clf_model_tuples = [(model_name, model) for model_name, model in models.items()]\n",
    "voting_clf = VotingClassifier(estimators=voting_clf_model_tuples, voting='soft')"
   ]
  },
  {
   "cell_type": "code",
   "execution_count": 39,
   "id": "e253488c-33bd-43b5-ae1b-6897a4508e19",
   "metadata": {},
   "outputs": [
    {
     "name": "stdout",
     "output_type": "stream",
     "text": [
      "Voting Classifier:\n",
      "- CV F1 scores: 82.0% | 82.6% | 84.8% | 80.9% | 87.6%\n",
      "- CV mean: 83.6%\n",
      "\n"
     ]
    }
   ],
   "source": [
    "# Evaluate model\n",
    "_ = model_evaluation({'Voting Classifier': voting_clf}, X_train_scaled.values, y_train)"
   ]
  },
  {
   "cell_type": "markdown",
   "id": "55ef5a8d-dd3e-4482-9038-c89fcabb77bd",
   "metadata": {},
   "source": [
    "### 5.3 Voting Classifier Predictions\n",
    "This model is performing better than the rest so let's generate a submissions file to use as a baseline"
   ]
  },
  {
   "cell_type": "code",
   "execution_count": 40,
   "id": "28f7a488-35f9-4f3a-b004-602b119a3c92",
   "metadata": {},
   "outputs": [
    {
     "name": "stdout",
     "output_type": "stream",
     "text": [
      "File \"01_voting_clf_submission.csv\" saved to <./submissions>\n"
     ]
    }
   ],
   "source": [
    "# Let's produce a file with preditions to use as a baseline\n",
    "voting_clf.fit(X_train_scaled.values, y_train)\n",
    "voting_clf_preds = voting_clf.predict(X_test_scaled.values).astype(int)\n",
    "\n",
    "# Generate file\n",
    "generate_submissions_csv(voting_clf_preds, '01_voting_clf_submission.csv')"
   ]
  },
  {
   "cell_type": "markdown",
   "id": "8362a4ce-3fce-43c5-b9ed-8fee0ff48e36",
   "metadata": {},
   "source": [
    "Let's set up a function to use for generating submission files"
   ]
  },
  {
   "cell_type": "markdown",
   "id": "0d86520b-32bc-4344-834c-9aa79f476103",
   "metadata": {},
   "source": [
    "### 5.4 Model List Cleanup\n",
    "Let's eliminate some of the models that are not performing that well:\n",
    "- GaussianNB - poor performance\n",
    "- Decision Tree Classifier - poor performance and forest should be better in most situations\n",
    "- SVC - this model has been performing well but it's causing trouble when tuning hyperparameters"
   ]
  },
  {
   "cell_type": "code",
   "execution_count": 41,
   "id": "d877701d-3b6d-4493-bbc8-4a6137a399ce",
   "metadata": {},
   "outputs": [],
   "source": [
    "models_to_remove = ['GaussianNB', 'Decision Tree Classifier']\n",
    "for model in models_to_remove:\n",
    "    if model in models:\n",
    "        del models[model]"
   ]
  },
  {
   "cell_type": "markdown",
   "id": "5b22b04e-cb45-4714-8260-907bf9939371",
   "metadata": {},
   "source": [
    "## 6. Hyperparameter Tuning\n",
    "\n",
    "After getting the baselines, let's see if we can improve on the indivdual model results! I mainly used grid search to tune the models. I also used Randomized Search for the Random Forest and XG boosted model to simplify testing time. Let's build a dictionary of hyperparameter grids for each model. It will be used to tune each model in order to squeeze out every bit of performance. \n",
    "\n",
    "| Model                        | Baseline | Tuned Performance |\n",
    "|------------------------------|----------|-------------------|\n",
    "| Naive Bayes                  | 72.6%    | NA                |\n",
    "| Logistic Regression          | 82.1%    | 82.6%             |\n",
    "| Decision Tree                | 77.6%    | NA                |\n",
    "| K Nearest Neighbor           | 80.5%    | 83.0%             |\n",
    "| Random Forest                | 80.6%    | 83.6%             |\n",
    "| Support Vector Classifier    | 83.2%    | 83.2%             |\n",
    "| Xtreme Gradient Boosting     | 81.8%    | 85.3%             |\n",
    "\n",
    "Some grids have been reduced in size after initial searches to cut on time spent on subsequent runs."
   ]
  },
  {
   "cell_type": "code",
   "execution_count": 42,
   "id": "2b1fd2ac-37fe-4b0c-81f7-88a46773a5e9",
   "metadata": {},
   "outputs": [],
   "source": [
    "model_params = {\n",
    "    'Logistic Regression': {\n",
    "        'max_iter' : [10, 50, 100, 1000],\n",
    "        'penalty' : ['l1', 'l2'],\n",
    "        'C' : np.logspace(-4, 4, 20),\n",
    "        'solver' : ['liblinear']\n",
    "        },\n",
    "    # 'Random Forest Classifier': {\n",
    "    #     'n_estimators': [100, 500, 1000], \n",
    "    #     'bootstrap': [True, False],\n",
    "    #     'max_depth': [3, 5, 10, 20, 50, 75, 100, None],\n",
    "    #     'max_features': ['auto', 'sqrt', 'log2'],\n",
    "    #     'min_samples_leaf': [1, 2, 4, 10],\n",
    "    #     'min_samples_split': [2, 5, 10]\n",
    "    #     },\n",
    "    'Random Forest Classifier': {\n",
    "        'n_estimators': [100, 300, 450],\n",
    "        'criterion':['gini', 'entropy'], \n",
    "        'bootstrap': [True],\n",
    "        'max_depth': [10, 15],\n",
    "        'max_features': ['sqrt', 20, 40],\n",
    "        'min_samples_leaf': [1, 2],\n",
    "        'min_samples_split': [.5, 2]\n",
    "        },\n",
    "    'KNeighbors Classifier': {\n",
    "        'n_neighbors' : [3, 5, 7, 9, 12, 15],\n",
    "        'weights' : ['uniform', 'distance'],\n",
    "        'algorithm' : ['ball_tree', 'kd_tree'],\n",
    "        'p' : [1, 2]\n",
    "        },\n",
    "    'SVC': [\n",
    "        {'kernel': ['rbf'], 'gamma': [.1, .5, 1, 2, 5, 10], 'C': [.1, 1, 10]},\n",
    "        {'kernel': ['linear'], 'C': [.1, 1, 10]},\n",
    "        {'kernel': ['poly', 'linear', 'rbf'], 'degree' : [1, 2, 3], 'C': [.1, 1, 10]}\n",
    "        ],\n",
    "    'XGB Classifier': {\n",
    "        'n_estimators': [500, 550],\n",
    "        'colsample_bytree': [.5, .6, .75],\n",
    "        'max_depth': [10, None],\n",
    "        'reg_alpha': [1],\n",
    "        'reg_lambda': [5, 10, 15],\n",
    "        'subsample': [.55, .6, .65],\n",
    "        'learning_rate':[.5],\n",
    "        'gamma':[.25, .5, 1],\n",
    "        'min_child_weight':[0.01],\n",
    "        'sampling_method': ['uniform']\n",
    "        },\n",
    "    'CatBoost Classifier': {\n",
    "        'iterations': [400, 500],\n",
    "        'learning_rate': [0.01, 0.05, 0.1],\n",
    "        'depth': [2, 4, 6],\n",
    "        'l2_leaf_reg': [1, 2],\n",
    "        'border_count': [64, 128]\n",
    "    }\n",
    "}"
   ]
  },
  {
   "cell_type": "markdown",
   "id": "329fa729-abc8-49b1-bdeb-89d421847915",
   "metadata": {},
   "source": [
    "Let's now run the hyperparameter grid search and save the results for each model along with the model's best performing version in a dictionary which will allow for easy access to everything I might need in regards to these models later on."
   ]
  },
  {
   "cell_type": "code",
   "execution_count": 43,
   "id": "1abc99be-bbcd-4e39-af2b-add9ec29367b",
   "metadata": {},
   "outputs": [
    {
     "name": "stdout",
     "output_type": "stream",
     "text": [
      "Logistic Regression:\n",
      "Fitting 5 folds for each of 160 candidates, totalling 800 fits\n"
     ]
    },
    {
     "name": "stderr",
     "output_type": "stream",
     "text": [
      "C:\\Users\\ksbon\\anaconda3\\lib\\site-packages\\sklearn\\svm\\_base.py:1242: ConvergenceWarning: Liblinear failed to converge, increase the number of iterations.\n",
      "  warnings.warn(\n"
     ]
    },
    {
     "name": "stdout",
     "output_type": "stream",
     "text": [
      "- Best Grid Search F1 Score: 82.6%\n",
      "- Best Parameters: {'C': 1.623776739188721, 'max_iter': 10, 'penalty': 'l1', 'solver': 'liblinear'}\n",
      "\n",
      "Random Forest Classifier:\n",
      "Fitting 5 folds for each of 144 candidates, totalling 720 fits\n",
      "- Best Grid Search F1 Score: 84.4%\n",
      "- Best Parameters: {'bootstrap': True, 'criterion': 'entropy', 'max_depth': 10, 'max_features': 20, 'min_samples_leaf': 2, 'min_samples_split': 2, 'n_estimators': 300}\n",
      "\n",
      "KNeighbors Classifier:\n",
      "Fitting 5 folds for each of 48 candidates, totalling 240 fits\n",
      "- Best Grid Search F1 Score: 82.8%\n",
      "- Best Parameters: {'algorithm': 'ball_tree', 'n_neighbors': 12, 'p': 1, 'weights': 'uniform'}\n",
      "\n",
      "SVC:\n",
      "Fitting 5 folds for each of 48 candidates, totalling 240 fits\n",
      "- Best Grid Search F1 Score: 83.4%\n",
      "- Best Parameters: {'C': 1, 'degree': 2, 'kernel': 'poly'}\n",
      "\n",
      "XGB Classifier:\n",
      "Fitting 5 folds for each of 324 candidates, totalling 1620 fits\n",
      "- Best Grid Search F1 Score: 85.7%\n",
      "- Best Parameters: {'colsample_bytree': 0.6, 'gamma': 0.5, 'learning_rate': 0.5, 'max_depth': None, 'min_child_weight': 0.01, 'n_estimators': 550, 'reg_alpha': 1, 'reg_lambda': 10, 'sampling_method': 'uniform', 'subsample': 0.6}\n",
      "\n",
      "CatBoost Classifier:\n",
      "Fitting 5 folds for each of 72 candidates, totalling 360 fits\n",
      "- Best Grid Search F1 Score: 84.8%\n",
      "- Best Parameters: {'border_count': 128, 'depth': 4, 'iterations': 500, 'l2_leaf_reg': 1, 'learning_rate': 0.05}\n",
      "\n"
     ]
    }
   ],
   "source": [
    "# Let's see if we can get some increase in performance\n",
    "tuned_models = model_optimisation(models, X_train_scaled, y_train, model_params)"
   ]
  },
  {
   "cell_type": "markdown",
   "id": "943453a6-c2fa-4084-b9e2-a8f9c5bd9a7a",
   "metadata": {},
   "source": [
    "Unsurprisingle, age and sex are big determinants of the outcome. It's quite interesting that the normalized Fare is the feature with the greatest importance.\n",
    "\n",
    "### 6.1 Tuned XGB Predictions\n",
    "XGB Classifier is the best performing model so far so let's generate a submissions file using this tuned version"
   ]
  },
  {
   "cell_type": "code",
   "execution_count": 44,
   "id": "55cc8a26-f542-4d6f-b988-570ee17a8305",
   "metadata": {},
   "outputs": [
    {
     "name": "stdout",
     "output_type": "stream",
     "text": [
      "File \"02_xgb_tuned_submission.csv\" saved to <./submissions>\n"
     ]
    }
   ],
   "source": [
    "xgb_predictions = tuned_models['XGB Classifier'][0].predict(X_test_scaled).astype(int)\n",
    "generate_submissions_csv(xgb_predictions, '02_xgb_tuned_submission.csv')"
   ]
  },
  {
   "cell_type": "markdown",
   "id": "1e617396-705f-48fb-8021-f5372672eec4",
   "metadata": {},
   "source": [
    "### 6.2 Random Forest Feature Importances\n",
    "I am quite interested in the feature importances so let's have a look."
   ]
  },
  {
   "cell_type": "code",
   "execution_count": 45,
   "id": "4aa33dba-54af-4033-81f4-53744873999b",
   "metadata": {},
   "outputs": [
    {
     "data": {
      "text/plain": [
       "<Axes: >"
      ]
     },
     "execution_count": 45,
     "metadata": {},
     "output_type": "execute_result"
    },
    {
     "data": {
      "image/png": "[encoded data removed]",
      "text/plain": [
       "<Figure size 640x480 with 1 Axes>"
      ]
     },
     "metadata": {},
     "output_type": "display_data"
    }
   ],
   "source": [
    "best_rf = tuned_models['Random Forest Classifier'][0].fit(X_train_scaled, y_train)\n",
    "feat_importances = pd.Series(best_rf.feature_importances_, index=X_train_scaled.columns)\n",
    "feat_importances.nlargest(12).plot(kind='barh')"
   ]
  },
  {
   "cell_type": "markdown",
   "id": "96cc271e-9bb1-4164-9d0a-d4f86466fdbf",
   "metadata": {},
   "source": [
    "## 7. Additional Ensemble Approaches using Voting Classifier\n",
    "1) Experimented with a <b>Hard Voting</b> classifier\n",
    "\n",
    "2) Experimented with a <b>Soft Voting</b> classifier\n",
    "\n",
    "3) Experimented with <b>Soft Voting while eliminating worst performing model</b>\n",
    "\n",
    "4) Experimented with <b>Soft Voting while eliminating the two worst performing</b>"
   ]
  },
  {
   "cell_type": "markdown",
   "id": "b0d6ac53-3449-4bdd-9309-84808b437cc5",
   "metadata": {},
   "source": [
    "Let's run a voting classifier using the tuned models. I also want to try and eliminate some of the models to see if that improves performance."
   ]
  },
  {
   "cell_type": "code",
   "execution_count": 46,
   "id": "43017871-345f-465a-8ae3-6585f2d7053f",
   "metadata": {},
   "outputs": [
    {
     "name": "stdout",
     "output_type": "stream",
     "text": [
      "Voting Classifier:\n",
      "- CV F1 scores: 86.0% | 83.7% | 86.5% | 80.3% | 87.0%\n",
      "- CV mean: 84.7%\n",
      "\n"
     ]
    }
   ],
   "source": [
    "tuned_model_tuples = [(model_name, model[0]) for model_name, model in tuned_models.items()]\n",
    "voting_clf_all = VotingClassifier(estimators=tuned_model_tuples, voting='hard')\n",
    "_ = model_evaluation({'Voting Classifier': voting_clf_all}, X_train_scaled, y_train)"
   ]
  },
  {
   "cell_type": "code",
   "execution_count": 47,
   "id": "b76f83eb-99a1-42f4-82f4-ac876cb44f97",
   "metadata": {},
   "outputs": [
    {
     "name": "stdout",
     "output_type": "stream",
     "text": [
      "Voting Classifier:\n",
      "- CV F1 scores: 84.3% | 84.3% | 84.3% | 80.3% | 85.9%\n",
      "- CV mean: 83.8%\n",
      "\n"
     ]
    }
   ],
   "source": [
    "tuned_model_tuples = [(model_name, model[0]) for model_name, model in tuned_models.items()]\n",
    "voting_clf_all = VotingClassifier(estimators=tuned_model_tuples, voting='soft')\n",
    "_ = model_evaluation({'Voting Classifier': voting_clf_all}, X_train_scaled, y_train)"
   ]
  },
  {
   "cell_type": "code",
   "execution_count": 48,
   "id": "77cfedee-7c60-4a1e-87d2-2ae5ea55ec57",
   "metadata": {},
   "outputs": [
    {
     "name": "stdout",
     "output_type": "stream",
     "text": [
      "Voting Classifier:\n",
      "- CV F1 scores: 85.4% | 84.3% | 85.4% | 80.9% | 86.4%\n",
      "- CV mean: 84.5%\n",
      "\n"
     ]
    }
   ],
   "source": [
    "tuned_model_tuples = [(model_name, model[0]) for model_name, model in tuned_models.items() if model_name not in ['Logistic Regression']]\n",
    "voting_clf_all = VotingClassifier(estimators=tuned_model_tuples, voting='soft')\n",
    "_ = model_evaluation({'Voting Classifier': voting_clf_all}, X_train_scaled, y_train)"
   ]
  },
  {
   "cell_type": "code",
   "execution_count": 49,
   "id": "e733fdda-045d-4eb4-b4bb-83097758865c",
   "metadata": {},
   "outputs": [
    {
     "name": "stdout",
     "output_type": "stream",
     "text": [
      "Voting Classifier:\n",
      "- CV F1 scores: 84.8% | 83.7% | 86.0% | 80.9% | 86.4%\n",
      "- CV mean: 84.4%\n",
      "\n"
     ]
    }
   ],
   "source": [
    "tuned_model_tuples = [(model_name, model[0]) for model_name, model in tuned_models.items() if model_name not in ['Logistic Regression', 'KNeighbors Classifier']]\n",
    "voting_clf_all = VotingClassifier(estimators=tuned_model_tuples, voting='soft')\n",
    "_ = model_evaluation({'Voting Classifier': voting_clf_all}, X_train_scaled, y_train)"
   ]
  },
  {
   "cell_type": "markdown",
   "id": "72919aad-7d0a-466f-9297-8210c490f9fc",
   "metadata": {},
   "source": [
    "Hard voting seems to be the way to go. Also, removing the worst performing models does produce an improved score as well so let's keep that approach.\n",
    "\n",
    "### 7.1 Voting Classifier Optimisation\n",
    "In a soft voting classifier you can apply weights to each of the models. Let's use a grid search to explore different weightings. \n",
    "\n",
    "To not have to adjust the grid every time the models count change we generate a grid using itertools."
   ]
  },
  {
   "cell_type": "code",
   "execution_count": 50,
   "id": "9c46259b-38bc-4d80-8f40-1c202bccaccc",
   "metadata": {},
   "outputs": [
    {
     "name": "stdout",
     "output_type": "stream",
     "text": [
      "Voting Classifier:\n",
      "Fitting 5 folds for each of 28 candidates, totalling 140 fits\n",
      "- Best Grid Search F1 Score: 85.5%\n",
      "- Best Parameters: {'voting': 'hard', 'weights': [1, 1, 2, 1]}\n",
      "\n"
     ]
    }
   ],
   "source": [
    "# Weights grid\n",
    "combinations = itertools.product([1, 2], repeat=len(tuned_model_tuples))  # Generate all possible combinations of weights\n",
    "combinations = [list(comb) for comb in combinations if len(set(comb)) != 1]  # Filter out the combinations where all elements are the same\n",
    "\n",
    "# Voting classifier param grid\n",
    "voting_classifier_params = {'Voting Classifier': {'weights': combinations, 'voting': ['soft', 'hard']}}\n",
    "\n",
    "# Optimising the voting classifier\n",
    "tuned_voting_clf = model_optimisation(\n",
    "    {'Voting Classifier': voting_clf_all},\n",
    "    X_train_scaled,\n",
    "    y_train,\n",
    "    voting_classifier_params\n",
    ")"
   ]
  },
  {
   "cell_type": "markdown",
   "id": "3ffb4a7b-4002-48e4-917e-c394ce116407",
   "metadata": {},
   "source": [
    "The performence does improve after tuning but not by that much. Let's add this tuned Voting Classifier to the dictionary of models which can then be sorted which will allow the best performing model to be easily retrieved."
   ]
  },
  {
   "cell_type": "code",
   "execution_count": 51,
   "id": "cce5d7a7-c0b6-4fb9-9105-4abf04a92803",
   "metadata": {},
   "outputs": [],
   "source": [
    "# Adding the Voting Classifier to the tuned models dictionary and sorting it to easily retrieve the best performing model\n",
    "tuned_models = {**tuned_voting_clf, **tuned_models}\n",
    "sorted_tuned_models = dict(sorted(tuned_models.items(), key=lambda item: -item[1][1]))"
   ]
  },
  {
   "cell_type": "markdown",
   "id": "06d88cc9-1be7-465f-932d-a9cafd7fc4eb",
   "metadata": {},
   "source": [
    "## 8. Final Submissions\n",
    "Let's take the best performing model from our tuned_models dict and use it to generate the final submission file. I'll also save that model for later use."
   ]
  },
  {
   "cell_type": "code",
   "execution_count": 52,
   "id": "b251611a-d7c3-41a2-9a52-f328ac7f417d",
   "metadata": {},
   "outputs": [
    {
     "name": "stdout",
     "output_type": "stream",
     "text": [
      "Best performing model -> XGB Classifier with anm F1 score of 85.7%\n"
     ]
    }
   ],
   "source": [
    "# Taking best model from dictionary\n",
    "best_model_name, best_model_tuple = list(sorted_tuned_models.items())[0]\n",
    "best_model, best_model_score = best_model_tuple\n",
    "print(f\"Best performing model -> {best_model_name} with anm F1 score of {round(best_model_score * 100, 1)}%\")"
   ]
  },
  {
   "cell_type": "code",
   "execution_count": 53,
   "id": "58165d76-d185-4dc8-95a8-9588bf099aaf",
   "metadata": {},
   "outputs": [
    {
     "name": "stdout",
     "output_type": "stream",
     "text": [
      "File \"03_optimised_model_submission.csv\" saved to <./submissions>\n",
      "File \"titanic_survival_classifier.pkl\" saved to <./models>\n"
     ]
    }
   ],
   "source": [
    "# Generating final submission file\n",
    "best_model_preds = best_model.predict(X_test_scaled).astype(int)\n",
    "generate_submissions_csv(xgb_predictions, '03_optimised_model_submission.csv')\n",
    "\n",
    "# Saving model\n",
    "save_model(best_model, 'titanic_survival_classifier.pkl')"
   ]
  }
 ],
 "metadata": {
  "kernelspec": {
   "display_name": "Python 3 (ipykernel)",
   "language": "python",
   "name": "python3"
  },
  "language_info": {
   "codemirror_mode": {
    "name": "ipython",
    "version": 3
   },
   "file_extension": ".py",
   "mimetype": "text/x-python",
   "name": "python",
   "nbconvert_exporter": "python",
   "pygments_lexer": "ipython3",
   "version": "3.8.18"
  }
 },
 "nbformat": 4,
 "nbformat_minor": 5
}
